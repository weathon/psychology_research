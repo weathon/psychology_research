{
  "cells": [
    {
      "cell_type": "markdown",
      "metadata": {
        "id": "view-in-github",
        "colab_type": "text"
      },
      "source": [
        "<a href=\"https://colab.research.google.com/github/weathon/psychology_research/blob/master/Psychology_Paper_Data_Processing.ipynb\" target=\"_parent\"><img src=\"https://colab.research.google.com/assets/colab-badge.svg\" alt=\"Open In Colab\"/></a>"
      ]
    },
    {
      "cell_type": "markdown",
      "id": "76b92252",
      "metadata": {
        "id": "76b92252"
      },
      "source": [
        "## Get The Data"
      ]
    },
    {
      "cell_type": "code",
      "execution_count": 1,
      "id": "c4157996",
      "metadata": {
        "id": "c4157996",
        "outputId": "6d159357-2d84-48b4-d762-1712685cc052",
        "colab": {
          "base_uri": "https://localhost:8080/"
        }
      },
      "outputs": [
        {
          "output_type": "stream",
          "name": "stdout",
          "text": [
            "--2022-04-29 01:31:37--  https://mdpi-res.com/d_attachment/data/data-04-00124/article_deploy/data-04-00124-s001.zip\n",
            "Resolving mdpi-res.com (mdpi-res.com)... 172.67.68.164, 104.26.15.90, 104.26.14.90, ...\n",
            "Connecting to mdpi-res.com (mdpi-res.com)|172.67.68.164|:443... connected.\n",
            "HTTP request sent, awaiting response... 200 OK\n",
            "Length: 1134038 (1.1M) [application/zip]\n",
            "Saving to: ‘data-04-00124-s001.zip’\n",
            "\n",
            "data-04-00124-s001. 100%[===================>]   1.08M  --.-KB/s    in 0.1s    \n",
            "\n",
            "2022-04-29 01:31:38 (10.2 MB/s) - ‘data-04-00124-s001.zip’ saved [1134038/1134038]\n",
            "\n"
          ]
        }
      ],
      "source": [
        "!wget https://mdpi-res.com/d_attachment/data/data-04-00124/article_deploy/data-04-00124-s001.zip"
      ]
    },
    {
      "cell_type": "code",
      "execution_count": 2,
      "id": "ee79a4b6",
      "metadata": {
        "id": "ee79a4b6",
        "outputId": "eab9d7da-36ae-45c2-ddb4-07c74a573020",
        "colab": {
          "base_uri": "https://localhost:8080/"
        }
      },
      "outputs": [
        {
          "output_type": "stream",
          "name": "stdout",
          "text": [
            "data-04-00124-s001.zip\tsample_data\n"
          ]
        }
      ],
      "source": [
        "!ls"
      ]
    },
    {
      "cell_type": "code",
      "execution_count": null,
      "id": "80d13598",
      "metadata": {
        "id": "80d13598",
        "outputId": "ee74a172-9b9d-4ac3-fd91-04d570ce1251",
        "colab": {
          "base_uri": "https://localhost:8080/"
        }
      },
      "outputs": [
        {
          "output_type": "stream",
          "name": "stdout",
          "text": [
            "Archive:  data.zip\n",
            "  inflating: data.csv                \n",
            "  inflating: Questionnaire1.pdf      \n",
            "  inflating: Questionnaire2.pdf      \n"
          ]
        }
      ],
      "source": [
        "!mv data-04-00124-s001.zip data.zip\n",
        "!unzip data.zip"
      ]
    },
    {
      "cell_type": "code",
      "execution_count": null,
      "id": "f53d6057",
      "metadata": {
        "id": "f53d6057"
      },
      "outputs": [],
      "source": [
        "import pandas as pd\n",
        "import numpy as np\n",
        "import matplotlib.pyplot as plt"
      ]
    },
    {
      "cell_type": "code",
      "execution_count": null,
      "id": "b4c28a69",
      "metadata": {
        "id": "b4c28a69"
      },
      "outputs": [],
      "source": [
        "DataFrame = pd.read_csv(\"data.csv\")"
      ]
    },
    {
      "cell_type": "code",
      "execution_count": null,
      "id": "380ce364",
      "metadata": {
        "id": "380ce364",
        "colab": {
          "base_uri": "https://localhost:8080/",
          "height": 284
        },
        "outputId": "ec740e35-f97a-416d-9ddb-91abb2782082"
      },
      "outputs": [
        {
          "output_type": "execute_result",
          "data": {
            "text/plain": [
              "<matplotlib.collections.PathCollection at 0x7f56e5500290>"
            ]
          },
          "metadata": {},
          "execution_count": 7
        },
        {
          "output_type": "display_data",
          "data": {
            "text/plain": [
              "<Figure size 432x288 with 1 Axes>"
            ],
            "image/png": "[encoded data removed]"
          },
          "metadata": {
            "needs_background": "light"
          }
        }
      ],
      "source": [
        "age = DataFrame[\"Age\"]\n",
        "ToDep = DataFrame[\"ToDep\"]\n",
        "plt.scatter(age, ToDep, alpha=0.2)"
      ]
    },
    {
      "cell_type": "code",
      "execution_count": null,
      "id": "01132dfe",
      "metadata": {
        "id": "01132dfe",
        "outputId": "2c7c3f91-7e97-40e5-ea77-43b73f7db630",
        "colab": {
          "base_uri": "https://localhost:8080/",
          "height": 284
        }
      },
      "outputs": [
        {
          "output_type": "execute_result",
          "data": {
            "text/plain": [
              "<matplotlib.collections.PathCollection at 0x7f56e3146c90>"
            ]
          },
          "metadata": {},
          "execution_count": 8
        },
        {
          "output_type": "display_data",
          "data": {
            "text/plain": [
              "<Figure size 432x288 with 1 Axes>"
            ],
            "image/png": "[encoded data removed]"
          },
          "metadata": {
            "needs_background": "light"
          }
        }
      ],
      "source": [
        "age = DataFrame[\"Age\"]\n",
        "AFear = DataFrame[\"Afear\"]\n",
        "plt.scatter(age, AFear, alpha=0.2)"
      ]
    },
    {
      "cell_type": "code",
      "execution_count": null,
      "id": "b41c1e4b",
      "metadata": {
        "id": "b41c1e4b",
        "outputId": "139ac077-39a9-4829-dcaa-0458779a6108"
      },
      "outputs": [
        {
          "data": {
            "text/plain": [
              "{'divide': 'warn', 'over': 'warn', 'under': 'ignore', 'invalid': 'warn'}"
            ]
          },
          "execution_count": 101,
          "metadata": {},
          "output_type": "execute_result"
        }
      ],
      "source": [
        "np.seterr(all=\"ignore\")"
      ]
    },
    {
      "cell_type": "code",
      "execution_count": null,
      "id": "a70e5eca",
      "metadata": {
        "id": "a70e5eca"
      },
      "outputs": [],
      "source": [
        "DataFrame[\"Alone_bi\"] = DataFrame[\"Alone_bi\"].replace(\"Yes\",1)\n",
        "DataFrame[\"Alone_bi\"] = DataFrame[\"Alone_bi\"].replace(\"No\",0)\n",
        "DataFrame[\"Doctor_bi\"] = DataFrame[\"Doctor_bi\"].replace(\"Yes\",1)\n",
        "DataFrame[\"Doctor_bi\"] = DataFrame[\"Doctor_bi\"].replace(\"No\",0)"
      ]
    },
    {
      "cell_type": "code",
      "execution_count": null,
      "id": "f3403cc6",
      "metadata": {
        "id": "f3403cc6",
        "outputId": "13ddcd60-5790-418e-e8a0-4d25f8536f76"
      },
      "outputs": [
        {
          "data": {
            "text/plain": [
              "<BarContainer object of 2 artists>"
            ]
          },
          "execution_count": 130,
          "metadata": {},
          "output_type": "execute_result"
        },
        {
          "data": {
            "image/png": "[encoded data removed]",
            "text/plain": [
              "<Figure size 432x288 with 1 Axes>"
            ]
          },
          "metadata": {
            "needs_background": "light"
          },
          "output_type": "display_data"
        }
      ],
      "source": [
        "y = \"ToDep\"\n",
        "data_list = np.array([0] * int(2))\n",
        "count_list = np.array([0] * int(2))\n",
        "for i in DataFrame.iterrows():\n",
        "#     print(i[1][\"Age\"])\n",
        "    try:\n",
        "        data_list[1 if i[1][\"Academic\"] == \"Grad\" else 0] += i[1][y]\n",
        "#         age_count_list+=1\n",
        "        count_list[1 if i[1][\"Academic\"] == \"Grad\" else 0] += 1\n",
        "    except:\n",
        "        pass\n",
        "plt.bar([\"Undergrad\",\"Grad\"],data_list/count_list) #ttgangcaibushizheyangde a whydoushi y"
      ]
    },
    {
      "cell_type": "code",
      "execution_count": null,
      "id": "ecb8a606",
      "metadata": {
        "id": "ecb8a606"
      },
      "outputs": [],
      "source": [
        "under = DataFrame[DataFrame[\"Academic\"] == \"Under\"][\"ToDep\"]\n",
        "grad = DataFrame[DataFrame[\"Academic\"] == \"Grad\"][\"ToDep\"]\n",
        "# DataFrame date huangxkouxkoxukxouxkou cjhys hehsuikoukehshushsishsuishusipashouzangyahci koukeunyac"
      ]
    },
    {
      "cell_type": "code",
      "execution_count": null,
      "id": "5b143c16",
      "metadata": {
        "id": "5b143c16",
        "outputId": "6d31f2c3-c24a-4e71-d308-e97e86bd75a8"
      },
      "outputs": [
        {
          "data": {
            "text/plain": [
              "0       0.0\n",
              "1       2.0\n",
              "2       2.0\n",
              "3       3.0\n",
              "4       3.0\n",
              "5       6.0\n",
              "6       3.0\n",
              "7       9.0\n",
              "8       7.0\n",
              "9       3.0\n",
              "10      5.0\n",
              "11      8.0\n",
              "12      1.0\n",
              "13      3.0\n",
              "14      9.0\n",
              "15      6.0\n",
              "16      3.0\n",
              "17      3.0\n",
              "25     10.0\n",
              "26     13.0\n",
              "201    12.0\n",
              "Name: ToDep, dtype: float64"
            ]
          },
          "execution_count": 9,
          "metadata": {},
          "output_type": "execute_result"
        }
      ],
      "source": [
        "grad"
      ]
    },
    {
      "cell_type": "code",
      "execution_count": null,
      "id": "76bb54fd",
      "metadata": {
        "id": "76bb54fd"
      },
      "outputs": [],
      "source": [
        "undererror = list(under.quantile([0.25,0.75]))\n",
        "graderror = list(grad.quantile([0.25,0.75]))\n",
        "y_error_max = [undererror[0], grad[0]]\n",
        "y_error_min = [undererror[1], grad[1]]"
      ]
    },
    {
      "cell_type": "code",
      "execution_count": null,
      "id": "a0513739",
      "metadata": {
        "id": "a0513739",
        "outputId": "a6d15b54-07cf-4ee6-93c9-3468aae21dd1"
      },
      "outputs": [
        {
          "data": {
            "text/plain": [
              "8.433198380566802"
            ]
          },
          "execution_count": 7,
          "metadata": {},
          "output_type": "execute_result"
        }
      ],
      "source": [
        "under.mean()"
      ]
    },
    {
      "cell_type": "code",
      "execution_count": null,
      "id": "663319a5",
      "metadata": {
        "id": "663319a5",
        "outputId": "fa9884ac-e30c-49b0-c2ec-66cb26aabe3a"
      },
      "outputs": [
        {
          "data": {
            "text/plain": [
              "<ErrorbarContainer object of 3 artists>"
            ]
          },
          "execution_count": 8,
          "metadata": {},
          "output_type": "execute_result"
        },
        {
          "data": {
            "image/png": "[encoded data removed]",
            "text/plain": [
              "<Figure size 432x288 with 1 Axes>"
            ]
          },
          "metadata": {
            "needs_background": "light"
          },
          "output_type": "display_data"
        }
      ],
      "source": [
        "plt.errorbar([\"Undergrad\",\"Grad\"],[under.mean(),grad.mean()],yerr=[y_error_max,y_error_min],fmt='o')\n",
        "#koukeyacihimais koukexkoukoukexkouxkoukoukeyunttyunkouke xkouyai yiwei meiyou baocnun "
      ]
    },
    {
      "cell_type": "code",
      "execution_count": null,
      "id": "73453239",
      "metadata": {
        "id": "73453239",
        "outputId": "f6c805a5-cebe-473b-840b-dac8c31ece8a"
      },
      "outputs": [
        {
          "name": "stdout",
          "output_type": "stream",
          "text": [
            "Collecting scipy\n",
            "  Downloading scipy-1.8.0-cp39-cp39-manylinux_2_17_x86_64.manylinux2014_x86_64.whl (42.1 MB)\n",
            "\u001b[K     |████████████████████████████████| 42.1 MB 4.3 MB/s eta 0:00:01    |█▏                              | 1.6 MB 4.3 MB/s eta 0:00:10     |██████████████████████          | 29.0 MB 4.3 MB/s eta 0:00:04\n",
            "\u001b[?25hRequirement already satisfied: numpy<1.25.0,>=1.17.3 in /home/wg25r/jupyter_env/lib/python3.9/site-packages (from scipy) (1.22.3)\n",
            "Installing collected packages: scipy\n",
            "Successfully installed scipy-1.8.0\n"
          ]
        }
      ],
      "source": [
        "!pip3 install scipy #xkouciyangzhangshouzhikunyangkouke xkouyunttzhegehenbufangban "
      ]
    },
    {
      "cell_type": "code",
      "execution_count": null,
      "id": "244f7af0",
      "metadata": {
        "id": "244f7af0",
        "outputId": "52f788d7-ac03-4786-e597-c6cc9c66f08b",
        "colab": {
          "base_uri": "https://localhost:8080/",
          "height": 197
        }
      },
      "outputs": [
        {
          "output_type": "error",
          "ename": "NameError",
          "evalue": "ignored",
          "traceback": [
            "\u001b[0;31m---------------------------------------------------------------------------\u001b[0m",
            "\u001b[0;31mNameError\u001b[0m                                 Traceback (most recent call last)",
            "\u001b[0;32m<ipython-input-11-f8176d832945>\u001b[0m in \u001b[0;36m<module>\u001b[0;34m()\u001b[0m\n\u001b[1;32m      1\u001b[0m \u001b[0;32mimport\u001b[0m \u001b[0mscipy\u001b[0m\u001b[0;34m.\u001b[0m\u001b[0mstats\u001b[0m\u001b[0;34m\u001b[0m\u001b[0;34m\u001b[0m\u001b[0m\n\u001b[0;32m----> 2\u001b[0;31m \u001b[0mscipy\u001b[0m\u001b[0;34m.\u001b[0m\u001b[0mstats\u001b[0m\u001b[0;34m.\u001b[0m\u001b[0mttest_ind\u001b[0m\u001b[0;34m(\u001b[0m\u001b[0mgrad\u001b[0m\u001b[0;34m,\u001b[0m\u001b[0munder\u001b[0m\u001b[0;34m)\u001b[0m\u001b[0;34m\u001b[0m\u001b[0;34m\u001b[0m\u001b[0m\n\u001b[0m",
            "\u001b[0;31mNameError\u001b[0m: name 'grad' is not defined"
          ]
        }
      ],
      "source": [
        "import scipy.stats\n",
        "scipy.stats.ttest_ind(grad,under)"
      ]
    },
    {
      "cell_type": "code",
      "execution_count": null,
      "id": "b6b8571f",
      "metadata": {
        "id": "b6b8571f",
        "outputId": "88818077-3498-49a1-84ee-b7310cc33007",
        "colab": {
          "base_uri": "https://localhost:8080/",
          "height": 283
        }
      },
      "outputs": [
        {
          "output_type": "execute_result",
          "data": {
            "text/plain": [
              "Ttest_indResult(statistic=0.5657051284040221, pvalue=0.5720711272952215)"
            ]
          },
          "metadata": {},
          "execution_count": 11
        },
        {
          "output_type": "display_data",
          "data": {
            "text/plain": [
              "<Figure size 432x288 with 1 Axes>"
            ],
            "image/png": "[encoded data removed]"
          },
          "metadata": {
            "needs_background": "light"
          }
        }
      ],
      "source": [
        "under = DataFrame[DataFrame[\"Academic\"] == \"Under\"][\"Parents\"]\n",
        "grad = DataFrame[DataFrame[\"Academic\"] == \"Grad\"][\"Parents\"] #xkoukyifanguolaixkouxkoukunkoue\n",
        "plt.bar([\"Undergrad\",\"Grad\"],[under.mean(),grad.mean()])\n",
        "scipy.stats.ttest_ind(grad,under)"
      ]
    },
    {
      "cell_type": "code",
      "execution_count": null,
      "id": "bc08d415",
      "metadata": {
        "id": "bc08d415",
        "outputId": "dd6a2c74-e239-4f2a-fa5a-c027e14886c7"
      },
      "outputs": [
        {
          "data": {
            "text/plain": [
              "Index(['inter_dom', 'Region', 'Gender', 'Academic', 'Age', 'Age_cate', 'Stay',\n",
              "       'Stay_Cate', 'Japanese', 'Japanese_cate', 'English', 'English_cate',\n",
              "       'Intimate', 'Religion', 'Suicide', 'Dep', 'DepType', 'ToDep', 'DepSev',\n",
              "       'ToSC', 'APD', 'AHome', 'APH', 'Afear', 'ACS', 'AGuilt', 'AMiscell',\n",
              "       'ToAS', 'Partner', 'Friends', 'Parents', 'Relative', 'Profess',\n",
              "       ' Phone', 'Doctor', 'Reli', 'Alone', 'Others', 'Internet', 'Partner_bi',\n",
              "       'Friends_bi', 'Parents_bi', 'Relative_bi', 'Professional_bi',\n",
              "       'Phone_bi', 'Doctor_bi', 'religion_bi', 'Alone_bi', 'Others_bi',\n",
              "       'Internet_bi'],\n",
              "      dtype='object')"
            ]
          },
          "execution_count": 9,
          "metadata": {},
          "output_type": "execute_result"
        }
      ],
      "source": [
        "DataFrame.columns"
      ]
    },
    {
      "cell_type": "code",
      "source": [
        ""
      ],
      "metadata": {
        "id": "EffM5RIaK-TI"
      },
      "id": "EffM5RIaK-TI",
      "execution_count": null,
      "outputs": []
    },
    {
      "cell_type": "code",
      "execution_count": null,
      "id": "faebf24f",
      "metadata": {
        "id": "faebf24f",
        "outputId": "711cfd4e-0108-4e18-ec07-f4fa6363b423",
        "colab": {
          "base_uri": "https://localhost:8080/"
        }
      },
      "outputs": [
        {
          "output_type": "execute_result",
          "data": {
            "text/plain": [
              "0       Long\n",
              "1      Short\n",
              "2       Long\n",
              "3      Short\n",
              "4      Short\n",
              "       ...  \n",
              "281      NaN\n",
              "282      NaN\n",
              "283      NaN\n",
              "284      NaN\n",
              "285      NaN\n",
              "Name: Stay_Cate, Length: 286, dtype: object"
            ]
          },
          "metadata": {},
          "execution_count": 9
        }
      ],
      "source": [
        "DataFrame[\"Stay_Cate\"]"
      ]
    },
    {
      "cell_type": "raw",
      "id": "0f2f051a",
      "metadata": {
        "id": "0f2f051a"
      },
      "source": [
        ""
      ]
    },
    {
      "cell_type": "code",
      "execution_count": null,
      "id": "bad53afe",
      "metadata": {
        "id": "bad53afe"
      },
      "outputs": [],
      "source": [
        ""
      ]
    },
    {
      "cell_type": "code",
      "execution_count": null,
      "id": "29de5628",
      "metadata": {
        "id": "29de5628"
      },
      "outputs": [],
      "source": [
        ""
      ]
    },
    {
      "cell_type": "code",
      "execution_count": null,
      "id": "8cd35629",
      "metadata": {
        "id": "8cd35629",
        "outputId": "8b8179f2-6543-4699-c76d-3a9af42c5131",
        "colab": {
          "base_uri": "https://localhost:8080/",
          "height": 283
        }
      },
      "outputs": [
        {
          "output_type": "execute_result",
          "data": {
            "text/plain": [
              "Ttest_indResult(statistic=2.634879030643807, pvalue=0.008910439883894297)"
            ]
          },
          "metadata": {},
          "execution_count": 17
        },
        {
          "output_type": "display_data",
          "data": {
            "text/plain": [
              "<Figure size 432x288 with 1 Axes>"
            ],
            "image/png": "[encoded data removed]"
          },
          "metadata": {
            "needs_background": "light"
          }
        }
      ],
      "source": [
        "inter = DataFrame[DataFrame[\"inter_dom\"] == \"Inter\"][\"Friends\"]#fear positivekouke xkoukjchang nian zuibajki friends \n",
        "dom = DataFrame[DataFrame[\"inter_dom\"] == \"Dom\"][\"Friends\"]\n",
        "plt.bar([\"Inter\",\"Dom\"],[inter.mean(),dom.mean()])\n",
        "scipy.stats.ttest_ind(inter,dom)"
      ]
    },
    {
      "cell_type": "code",
      "source": [
        "under = DataFrame[DataFrame[\"inter_dom\"] == \"Inter\"][\"APD\"]#fear positivekouke xkoukjchang nian zuibajki friends \n",
        "grad = DataFrame[DataFrame[\"inter_dom\"] == \"Dom\"][\"Friends\"]\n",
        "plt.bar([\"Inter\",\"Dom\"],[under.mean(),grad.mean()])\n",
        "scipy.stats.ttest_ind(grad,under)"
      ],
      "metadata": {
        "colab": {
          "base_uri": "https://localhost:8080/",
          "height": 283
        },
        "id": "fBydLin4Jcek",
        "outputId": "9eab19a8-22bf-4950-b62e-20d34c44a4b3"
      },
      "id": "fBydLin4Jcek",
      "execution_count": null,
      "outputs": [
        {
          "output_type": "execute_result",
          "data": {
            "text/plain": [
              "Ttest_indResult(statistic=-2.936955840683845, pvalue=0.0036047481801401928)"
            ]
          },
          "metadata": {},
          "execution_count": 18
        },
        {
          "output_type": "display_data",
          "data": {
            "text/plain": [
              "<Figure size 432x288 with 1 Axes>"
            ],
            "image/png": "[encoded data removed]"
          },
          "metadata": {
            "needs_background": "light"
          }
        }
      ]
    },
    {
      "cell_type": "code",
      "source": [
        "under = DataFrame[DataFrame[\"inter_dom\"] == \"Inter\"][\"Dep\"].replace(\"Yes\",50e4).replace(\"No\",0)\n",
        "grad = DataFrame[DataFrame[\"inter_dom\"] == \"Dom\"][\"Dep\"].replace(\"Yes\",50e4).replace(\"No\",0)\n",
        "plt.bar([\"Inter\",\"Dom\"],[under.mean(),grad.mean()])\n",
        "scipy.stats.ttest_ind(grad,under)"
      ],
      "metadata": {
        "colab": {
          "base_uri": "https://localhost:8080/",
          "height": 283
        },
        "id": "0CkYrBfCLcqD",
        "outputId": "44067d21-5e3b-439a-b404-de9ea31cfaac"
      },
      "id": "0CkYrBfCLcqD",
      "execution_count": null,
      "outputs": [
        {
          "output_type": "execute_result",
          "data": {
            "text/plain": [
              "Ttest_indResult(statistic=-1.1755076272905174, pvalue=0.2408427666237404)"
            ]
          },
          "metadata": {},
          "execution_count": 32
        },
        {
          "output_type": "display_data",
          "data": {
            "text/plain": [
              "<Figure size 432x288 with 1 Axes>"
            ],
            "image/png": "[encoded data removed]"
          },
          "metadata": {
            "needs_background": "light"
          }
        }
      ]
    },
    {
      "cell_type": "code",
      "execution_count": null,
      "id": "1fde7f2a",
      "metadata": {
        "id": "1fde7f2a"
      },
      "outputs": [],
      "source": [
        "under = DataFrame[DataFrame[\"inter_dom\"] == \"Inter\"][\"Afear\"]\n",
        "grad = DataFrame[DataFrame[\"inter_dom\"] == \"Dom\"][\"Afear\"]\n",
        "plt.bar([\"Inter\",\"Dom\"],[under.mean(),grad.mean()])\n",
        "scipy.stats.ttest_ind(grad,under)"
      ]
    },
    {
      "cell_type": "code",
      "execution_count": null,
      "id": "f0faaa0a",
      "metadata": {
        "id": "f0faaa0a",
        "outputId": "0c9a07ed-0514-4231-889c-e7cf20ee87f8",
        "colab": {
          "base_uri": "https://localhost:8080/",
          "height": 283
        }
      },
      "outputs": [
        {
          "output_type": "execute_result",
          "data": {
            "text/plain": [
              "Ttest_indResult(statistic=2.09531155556967, pvalue=0.03708885703142386)"
            ]
          },
          "metadata": {},
          "execution_count": 34
        },
        {
          "output_type": "display_data",
          "data": {
            "text/plain": [
              "<Figure size 432x288 with 1 Axes>"
            ],
            "image/png": "[encoded data removed]"
          },
          "metadata": {
            "needs_background": "light"
          }
        }
      ],
      "source": [
        "#@title Default title text\n",
        "under = DataFrame[DataFrame[\"Religion\"] == \"Yes\"][\"ToDep\"]\n",
        "grad = DataFrame[DataFrame[\"Religion\"] == \"No\"][\"ToDep\"]\n",
        "plt.bar([\"Inter\",\"Dom\"],[under.mean(),grad.mean()])\n",
        "scipy.stats.ttest_ind(grad,under)"
      ]
    },
    {
      "cell_type": "code",
      "source": [
        "A = DataFrame[DataFrame[\"Stay_Cate\"] == \"Short\"][\"AHome\"]\n",
        "B = DataFrame[DataFrame[\"Stay_Cate\"] == \"Long\"][\"AHome\"]\n",
        "plt.bar([\"A\",\"B\"],[A.mean(),B.mean()])\n",
        "scipy.stats.ttest_ind(A,B)"
      ],
      "metadata": {
        "colab": {
          "base_uri": "https://localhost:8080/",
          "height": 284
        },
        "cellView": "code",
        "id": "t7vQu5pZMh7g",
        "outputId": "ae5ffff1-a3c5-4dac-e6a1-b2db2f396332"
      },
      "id": "t7vQu5pZMh7g",
      "execution_count": null,
      "outputs": [
        {
          "output_type": "execute_result",
          "data": {
            "text/plain": [
              "Ttest_indResult(statistic=1.0332479444861886, pvalue=0.30320812818740955)"
            ]
          },
          "metadata": {},
          "execution_count": 17
        },
        {
          "output_type": "display_data",
          "data": {
            "text/plain": [
              "<Figure size 432x288 with 1 Axes>"
            ],
            "image/png": "[encoded data removed]"
          },
          "metadata": {
            "needs_background": "light"
          }
        }
      ]
    },
    {
      "cell_type": "code",
      "source": [
        "inter = DataFrame[DataFrame[\"inter_dom\"] == \"Inter\"][\"Friends\"]#fear positivekouke xkoukjchang nian zuibajki friends \n",
        "dom = DataFrame[DataFrame[\"inter_dom\"] == \"Dom\"][\"Friends\"]\n",
        "plt.bar([\"Inter\",\"Dom\"],[inter.mean(),dom.mean()])\n",
        "scipy.stats.ttest_ind(inter,dom)"
      ],
      "metadata": {
        "colab": {
          "base_uri": "https://localhost:8080/",
          "height": 284
        },
        "id": "bDuuGydoIuX4",
        "outputId": "46fff3d9-51d4-4210-bf59-643a4fdbad70"
      },
      "id": "bDuuGydoIuX4",
      "execution_count": null,
      "outputs": [
        {
          "output_type": "execute_result",
          "data": {
            "text/plain": [
              "Ttest_indResult(statistic=-2.634879030643807, pvalue=0.008910439883894297)"
            ]
          },
          "metadata": {},
          "execution_count": 12
        },
        {
          "output_type": "display_data",
          "data": {
            "text/plain": [
              "<Figure size 432x288 with 1 Axes>"
            ],
            "image/png": "[encoded data removed]"
          },
          "metadata": {
            "needs_background": "light"
          }
        }
      ]
    },
    {
      "cell_type": "code",
      "source": [
        "inter = DataFrame[DataFrame[\"inter_dom\"] == \"Inter\"][\"Stay\"]#fear positivekouke xkoukjchang nian zuibajki friends \n",
        "dom = DataFrame[DataFrame[\"inter_dom\"] == \"Dom\"][\"Stay\"]\n",
        "plt.bar([\"Inter\",\"Dom\"],[inter.mean(),dom.mean()])\n",
        "scipy.stats.ttest_ind(inter,dom)"
      ],
      "metadata": {
        "colab": {
          "base_uri": "https://localhost:8080/",
          "height": 287
        },
        "id": "F7sTm69yJR15",
        "outputId": "c693f704-7112-4d49-c18f-fce930fbbf1c"
      },
      "id": "F7sTm69yJR15",
      "execution_count": null,
      "outputs": [
        {
          "output_type": "execute_result",
          "data": {
            "text/plain": [
              "Ttest_indResult(statistic=-1.8152329669739922, pvalue=0.07061419180901075)"
            ]
          },
          "metadata": {},
          "execution_count": 19
        },
        {
          "output_type": "display_data",
          "data": {
            "text/plain": [
              "<Figure size 432x288 with 1 Axes>"
            ],
            "image/png": "[encoded data removed]"
          },
          "metadata": {
            "needs_background": "light"
          }
        }
      ]
    },
    {
      "cell_type": "code",
      "execution_count": null,
      "id": "13c60e1a",
      "metadata": {
        "id": "13c60e1a",
        "outputId": "7e1e8c91-79dc-4d91-916d-b688d9a42057"
      },
      "outputs": [
        {
          "ename": "SyntaxError",
          "evalue": "invalid syntax (1446025211.py, line 4)",
          "output_type": "error",
          "traceback": [
            "\u001b[0;36m  Input \u001b[0;32mIn [8]\u001b[0;36m\u001b[0m\n\u001b[0;31m    count_list = np.array([0] * int(2)\u001b[0m\n\u001b[0m    ^\u001b[0m\n\u001b[0;31mSyntaxError\u001b[0m\u001b[0;31m:\u001b[0m invalid syntax\n"
          ]
        }
      ],
      "source": [
        "x = \"Alone\"\n",
        "y = \"Doctor\"\n",
        "data_list = np.array([0] * int(2)\n",
        "count_list = np.array([0] * int(2)\n",
        "for i in DataFrame.iterrows():\n",
        "#     print(i[1][\"Age\"])\n",
        "    try:\n",
        "        data_list[int(i[1][x])] += i[1][y]\n",
        "#         age_count_list+=1\n",
        "        count_list[int(i[1][x])]+= 1\n",
        "    except:\n",
        "        pass\n",
        "plt.plot(data_list/count_list) #ttgangcaibushizheyangde a whydoushi y"
      ]
    },
    {
      "cell_type": "code",
      "execution_count": null,
      "id": "722e5c35",
      "metadata": {
        "id": "722e5c35",
        "outputId": "c4d5ba78-bd42-46ad-c571-01ef3e8cf0e2"
      },
      "outputs": [
        {
          "data": {
            "text/plain": [
              "dtype('O')"
            ]
          },
          "execution_count": 124,
          "metadata": {},
          "output_type": "execute_result"
        }
      ],
      "source": [
        "DataFrame[x].dtype"
      ]
    },
    {
      "cell_type": "code",
      "execution_count": null,
      "id": "72ea084c",
      "metadata": {
        "id": "72ea084c",
        "outputId": "f9cd2e51-6e64-430d-e154-3d6030b5e083"
      },
      "outputs": [
        {
          "data": {
            "text/plain": [
              "{'divide': 'ignore', 'over': 'ignore', 'under': 'ignore', 'invalid': 'ignore'}"
            ]
          },
          "execution_count": 114,
          "metadata": {},
          "output_type": "execute_result"
        }
      ],
      "source": [
        "np.seterr(all=\"warn\")"
      ]
    },
    {
      "cell_type": "code",
      "execution_count": null,
      "id": "f2744e6b",
      "metadata": {
        "id": "f2744e6b"
      },
      "outputs": [],
      "source": [
        ""
      ]
    },
    {
      "cell_type": "code",
      "execution_count": null,
      "id": "d1a11816",
      "metadata": {
        "id": "d1a11816",
        "outputId": "14b305b1-3ec7-43f9-e44a-c2da6abae615"
      },
      "outputs": [
        {
          "data": {
            "text/plain": [
              "[<matplotlib.lines.Line2D at 0x2aaae7303ac0>]"
            ]
          },
          "execution_count": 89,
          "metadata": {},
          "output_type": "execute_result"
        },
        {
          "data": {
            "image/png": "[encoded data removed]",
            "text/plain": [
              "<Figure size 432x288 with 1 Axes>"
            ]
          },
          "metadata": {
            "needs_background": "light"
          },
          "output_type": "display_data"
        }
      ],
      "source": [
        ""
      ]
    },
    {
      "cell_type": "code",
      "execution_count": null,
      "id": "dba24dd2",
      "metadata": {
        "id": "dba24dd2",
        "outputId": "1cc1df5c-b0d4-4ec5-9331-ba21bb19863e"
      },
      "outputs": [
        {
          "data": {
            "text/plain": [
              "array([0, 0, 0, 0, 0, 0, 0, 0, 0, 0, 0, 0, 0, 0, 0, 0, 0, 0, 0, 0, 0])"
            ]
          },
          "execution_count": 69,
          "metadata": {},
          "output_type": "execute_result"
        }
      ],
      "source": [
        "age_ahome_list"
      ]
    },
    {
      "cell_type": "code",
      "execution_count": null,
      "id": "dfb9d9f2",
      "metadata": {
        "id": "dfb9d9f2",
        "outputId": "7c7bc5ca-f369-497f-866c-9f928bcfde43"
      },
      "outputs": [
        {
          "data": {
            "text/plain": [
              "[<matplotlib.lines.Line2D at 0x2aaae72b6e50>]"
            ]
          },
          "execution_count": 84,
          "metadata": {},
          "output_type": "execute_result"
        },
        {
          "data": {
            "image/png": "[encoded data removed]",
            "text/plain": [
              "<Figure size 432x288 with 1 Axes>"
            ]
          },
          "metadata": {
            "needs_background": "light"
          },
          "output_type": "display_data"
        }
      ],
      "source": [
        "plt.plot(age_ahome_list[15:]/age_count_list[15:])"
      ]
    },
    {
      "cell_type": "code",
      "execution_count": null,
      "id": "875b39ff",
      "metadata": {
        "id": "875b39ff",
        "outputId": "f4edabc2-ee36-4562-8706-b0e618fa7ea4"
      },
      "outputs": [
        {
          "data": {
            "text/plain": [
              "array([ 0,  0,  0,  0,  0,  0,  0,  0,  0,  0,  0,  0,  0,  0,  0,  0,  0,\n",
              "        3, 37, 51, 51, 57, 21, 16,  7,  9,  0,  2,  3,  4,  3,  4])"
            ]
          },
          "execution_count": 42,
          "metadata": {},
          "output_type": "execute_result"
        }
      ],
      "source": [
        "age_count_list"
      ]
    },
    {
      "cell_type": "markdown",
      "id": "696e3b0f",
      "metadata": {
        "id": "696e3b0f"
      },
      "source": [
        "### Submit To GitHub"
      ]
    },
    {
      "cell_type": "code",
      "execution_count": null,
      "id": "6a8daaf0",
      "metadata": {
        "id": "6a8daaf0",
        "outputId": "c44905b4-8de9-48f0-9a23-0a4f2c55cdf1"
      },
      "outputs": [
        {
          "name": "stdout",
          "output_type": "stream",
          "text": [
            "warning: You ran 'git add' with neither '-A (--all)' or '--ignore-removal',\n",
            "whose behaviour will change in Git 2.0 with respect to paths you removed.\n",
            "Paths like '.ipynb_checkpoints/Psychology Paper-checkpoint.ipynb' that are\n",
            "removed from your working tree are ignored with this version of Git.\n",
            "\n",
            "* 'git add --ignore-removal <pathspec>', which is the current default,\n",
            "  ignores paths you removed from your working tree.\n",
            "\n",
            "* 'git add --all <pathspec>' will let you also record the removals.\n",
            "\n",
            "Run 'git status' to check the paths you removed from your working tree.\n",
            "\n",
            "[master c679117] positive?\n",
            " 2 files changed, 1118 insertions(+)\n",
            " create mode 100644 .ipynb_checkpoints/Psychology Paper Data Processing-checkpoint.ipynb\n",
            " create mode 100644 Psychology Paper Data Processing.ipynb\n"
          ]
        }
      ],
      "source": [
        "!git add .\n",
        "!git commit -m \"positive?\""
      ]
    },
    {
      "cell_type": "code",
      "execution_count": null,
      "id": "5a1f22db",
      "metadata": {
        "id": "5a1f22db"
      },
      "outputs": [],
      "source": [
        "xueyaxkouhlongkun nanshouxkouxueya xkou kunttbuygai qcaidiaode "
      ]
    }
  ],
  "metadata": {
    "kernelspec": {
      "display_name": "Python 3 (ipykernel)",
      "language": "python",
      "name": "python3"
    },
    "language_info": {
      "codemirror_mode": {
        "name": "ipython",
        "version": 3
      },
      "file_extension": ".py",
      "mimetype": "text/x-python",
      "name": "python",
      "nbconvert_exporter": "python",
      "pygments_lexer": "ipython3",
      "version": "3.9.12"
    },
    "colab": {
      "name": "Psychology Paper Data Processing.ipynb",
      "provenance": [],
      "collapsed_sections": [
        "696e3b0f"
      ],
      "include_colab_link": true
    }
  },
  "nbformat": 4,
  "nbformat_minor": 5
}