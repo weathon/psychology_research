{
  "nbformat": 4,
  "nbformat_minor": 0,
  "metadata": {
    "colab": {
      "name": "ACTIVITIES.ipynb",
      "provenance": [],
      "collapsed_sections": [],
      "authorship_tag": "ABX9TyNIBRtge5UffqXFyy4WmRLR",
      "include_colab_link": true
    },
    "kernelspec": {
      "name": "python3",
      "display_name": "Python 3"
    },
    "language_info": {
      "name": "python"
    }
  },
  "cells": [
    {
      "cell_type": "markdown",
      "metadata": {
        "id": "view-in-github",
        "colab_type": "text"
      },
      "source": [
        "<a href=\"https://colab.research.google.com/github/weathon/psychology_research/blob/master/ACTIVITIES.ipynb\" target=\"_parent\"><img src=\"https://colab.research.google.com/assets/colab-badge.svg\" alt=\"Open In Colab\"/></a>"
      ]
    },
    {
      "cell_type": "code",
      "execution_count": 35,
      "metadata": {
        "id": "0dv7VdKBkwHC"
      },
      "outputs": [],
      "source": [
        "act = {'u35': 0.9678223598454017, 'u49': 0.9499012792221798, 'u32': 0.9264137600357313, 'u47': 0.9654368431233478, 'u09': 0.937915524573927, 'u07': 0.9478655619030546, 'u00': 0.9105210895714383, 'u16': 0.9538500026878275, 'u18': 0.9701366222085999, 'u56': 0.9517472893711693, 'u51': 0.9304232175936921, 'u23': 0.9792275711490208, 'u24': 0.9460206210626532, 'u58': 0.9606703739399389, 'u01': 0.9345173284467788, 'u08': 0.9362558840798941, 'u46': 0.8813548761257483, 'u41': 0.9697321796694124, 'u33': 0.9515316256684234, 'u34': 0.9567023101996711, 'u25': 0.9275605288484994, 'u59': 0.9052690246609317, 'u22': 0.9532407331994518, 'u50': 0.9834258305918987, 'u57': 0.9096105347102186, 'u19': 0.96316431670282, 'u17': 0.9673577935516314, 'u10': 0.9610974143572418, 'u54': 0.9346772341627204, 'u53': 0.9772654628520774, 'u13': 0.9656300070612026, 'u14': 0.9080720966143182, 'u05': 0.9617531131186996, 'u02': 0.9414830824699303, 'u42': 0.9739698724583629, 'u39': 0.9966342557965595, 'u45': 0.9747387219832825, 'u30': 0.9333268438438375, 'u15': 0.9625449856298831, 'u12': 0.9598868895607675, 'u52': 0.8203355108715721, 'u27': 0.9710315614651099, 'u20': 0.9752268594794397, 'u31': 0.9544003981730882, 'u36': 0.9409554088365705, 'u44': 0.9824966911348071, 'u43': 0.9399416744236417, 'u03': 0.9876896503772881, 'u04': 0.8908754183179708}"
      ]
    },
    {
      "cell_type": "code",
      "source": [
        "PHQ = \"\"\"pre_post,id,score\n",
        "pre,u00,2\n",
        "pre,u01,5\n",
        "pre,u02,13\n",
        "pre,u03,2\n",
        "pre,u04,6\n",
        "pre,u05,2\n",
        "pre,u07,7\n",
        "pre,u08,5\n",
        "pre,u09,4\n",
        "pre,u10,0\n",
        "pre,u12,1\n",
        "pre,u13,4\n",
        "pre,u14,1\n",
        "pre,u15,3\n",
        "pre,u16,6\n",
        "pre,u17,13\n",
        "pre,u18,15\n",
        "pre,u19,5\n",
        "pre,u20,8\n",
        "pre,u22,3\n",
        "pre,u23,11\n",
        "pre,u24,5\n",
        "pre,u27,5\n",
        "pre,u30,1\n",
        "pre,u31,12\n",
        "pre,u32,4\n",
        "pre,u33,23\n",
        "pre,u34,3\n",
        "pre,u35,7\n",
        "pre,u36,2\n",
        "pre,u39,3\n",
        "pre,u42,1\n",
        "pre,u43,7\n",
        "pre,u44,1\n",
        "pre,u45,7\n",
        "pre,u46,10\n",
        "pre,u47,5\n",
        "pre,u49,2\n",
        "pre,u50,7\n",
        "pre,u51,1\n",
        "pre,u52,12\n",
        "pre,u53,8\n",
        "pre,u56,2\n",
        "pre,u57,0\n",
        "pre,u58,5\n",
        "pre,u59,5\n",
        "post,u00,3\n",
        "post,u01,4\n",
        "post,u02,5\n",
        "post,u03,4\n",
        "post,u04,8\n",
        "post,u05,0\n",
        "post,u07,8\n",
        "post,u09,2\n",
        "post,u10,4\n",
        "post,u14,3\n",
        "post,u15,1\n",
        "post,u16,12\n",
        "post,u17,18\n",
        "post,u18,12\n",
        "post,u19,4\n",
        "post,u20,8\n",
        "post,u23,21\n",
        "post,u24,7\n",
        "post,u27,7\n",
        "post,u30,0\n",
        "post,u31,5\n",
        "post,u32,2\n",
        "post,u33,25\n",
        "post,u34,6\n",
        "post,u35,7\n",
        "post,u36,1\n",
        "post,u42,0\n",
        "post,u43,4\n",
        "post,u44,2\n",
        "post,u45,2\n",
        "post,u47,1\n",
        "post,u49,8\n",
        "post,u51,0\n",
        "post,u52,15\n",
        "post,u53,11\n",
        "post,u56,3\n",
        "post,u58,8\n",
        "post,u59,7\"\"\""
      ],
      "metadata": {
        "id": "_dZZE0PYkzB7"
      },
      "execution_count": 36,
      "outputs": []
    },
    {
      "cell_type": "code",
      "source": [
        "import pandas as pd\n",
        "import numpy as np"
      ],
      "metadata": {
        "id": "o189X6FTk_TQ"
      },
      "execution_count": 37,
      "outputs": []
    },
    {
      "cell_type": "code",
      "source": [
        "with open(\"csv.csv\",\"w\") as f:\n",
        "  f.write(PHQ)"
      ],
      "metadata": {
        "id": "X1m-uyPnlCR3"
      },
      "execution_count": 38,
      "outputs": []
    },
    {
      "cell_type": "code",
      "source": [
        "PHQFrame = pd.read_csv(\"csv.csv\")"
      ],
      "metadata": {
        "id": "nkzKMRPZlP7_"
      },
      "execution_count": 39,
      "outputs": []
    },
    {
      "cell_type": "code",
      "source": [
        "pre = PHQFrame[PHQFrame[\"pre_post\"] == \"pre\"]"
      ],
      "metadata": {
        "id": "oCbSNRJKlYY3"
      },
      "execution_count": 40,
      "outputs": []
    },
    {
      "cell_type": "code",
      "source": [
        "post = PHQFrame[PHQFrame[\"pre_post\"] == \"post\"]"
      ],
      "metadata": {
        "id": "UGfn55fSlkpz"
      },
      "execution_count": 41,
      "outputs": []
    },
    {
      "cell_type": "code",
      "source": [
        "scores = {}\n",
        "for i in act.keys():\n",
        "  count = 0\n",
        "  sumscore = 0\n",
        "  try:\n",
        "    sumscore += int(pre[pre[\"id\"]==i][\"score\"])\n",
        "    count+=1\n",
        "  except:\n",
        "    pass\n",
        "\n",
        "  try:\n",
        "    sumscore += int(pre[pre[\"id\"]==i][\"score\"])\n",
        "    count+=1\n",
        "  except:\n",
        "    pass  \n",
        "  \n",
        "  if sumscore == 0:\n",
        "    continue\n",
        "  score = sumscore/count\n",
        "  scores[i]=score#forget"
      ],
      "metadata": {
        "id": "wG61pc7alr9A"
      },
      "execution_count": 45,
      "outputs": []
    },
    {
      "cell_type": "code",
      "source": [
        "pre[pre[\"id\"]==i][]"
      ],
      "metadata": {
        "id": "MAbTfwUyp230",
        "outputId": "5d51a468-6ede-46ed-b412-828722b3bfcc",
        "colab": {
          "base_uri": "https://localhost:8080/",
          "height": 81
        }
      },
      "execution_count": null,
      "outputs": [
        {
          "output_type": "execute_result",
          "data": {
            "text/plain": [
              "   pre_post   id  score\n",
              "28      pre  u35      7"
            ],
            "text/html": [
              "\n",
              "  <div id=\"df-7ec5531a-4298-41a5-a09e-9df3c027b3f6\">\n",
              "    <div class=\"colab-df-container\">\n",
              "      <div>\n",
              "<style scoped>\n",
              "    .dataframe tbody tr th:only-of-type {\n",
              "        vertical-align: middle;\n",
              "    }\n",
              "\n",
              "    .dataframe tbody tr th {\n",
              "        vertical-align: top;\n",
              "    }\n",
              "\n",
              "    .dataframe thead th {\n",
              "        text-align: right;\n",
              "    }\n",
              "</style>\n",
              "<table border=\"1\" class=\"dataframe\">\n",
              "  <thead>\n",
              "    <tr style=\"text-align: right;\">\n",
              "      <th></th>\n",
              "      <th>pre_post</th>\n",
              "      <th>id</th>\n",
              "      <th>score</th>\n",
              "    </tr>\n",
              "  </thead>\n",
              "  <tbody>\n",
              "    <tr>\n",
              "      <th>28</th>\n",
              "      <td>pre</td>\n",
              "      <td>u35</td>\n",
              "      <td>7</td>\n",
              "    </tr>\n",
              "  </tbody>\n",
              "</table>\n",
              "</div>\n",
              "      <button class=\"colab-df-convert\" onclick=\"convertToInteractive('df-7ec5531a-4298-41a5-a09e-9df3c027b3f6')\"\n",
              "              title=\"Convert this dataframe to an interactive table.\"\n",
              "              style=\"display:none;\">\n",
              "        \n",
              "  <svg xmlns=\"http://www.w3.org/2000/svg\" height=\"24px\"viewBox=\"0 0 24 24\"\n",
              "       width=\"24px\">\n",
              "    <path d=\"M0 0h24v24H0V0z\" fill=\"none\"/>\n",
              "    <path d=\"M18.56 5.44l.94 2.06.94-2.06 2.06-.94-2.06-.94-.94-2.06-.94 2.06-2.06.94zm-11 1L8.5 8.5l.94-2.06 2.06-.94-2.06-.94L8.5 2.5l-.94 2.06-2.06.94zm10 10l.94 2.06.94-2.06 2.06-.94-2.06-.94-.94-2.06-.94 2.06-2.06.94z\"/><path d=\"M17.41 7.96l-1.37-1.37c-.4-.4-.92-.59-1.43-.59-.52 0-1.04.2-1.43.59L10.3 9.45l-7.72 7.72c-.78.78-.78 2.05 0 2.83L4 21.41c.39.39.9.59 1.41.59.51 0 1.02-.2 1.41-.59l7.78-7.78 2.81-2.81c.8-.78.8-2.07 0-2.86zM5.41 20L4 18.59l7.72-7.72 1.47 1.35L5.41 20z\"/>\n",
              "  </svg>\n",
              "      </button>\n",
              "      \n",
              "  <style>\n",
              "    .colab-df-container {\n",
              "      display:flex;\n",
              "      flex-wrap:wrap;\n",
              "      gap: 12px;\n",
              "    }\n",
              "\n",
              "    .colab-df-convert {\n",
              "      background-color: #E8F0FE;\n",
              "      border: none;\n",
              "      border-radius: 50%;\n",
              "      cursor: pointer;\n",
              "      display: none;\n",
              "      fill: #1967D2;\n",
              "      height: 32px;\n",
              "      padding: 0 0 0 0;\n",
              "      width: 32px;\n",
              "    }\n",
              "\n",
              "    .colab-df-convert:hover {\n",
              "      background-color: #E2EBFA;\n",
              "      box-shadow: 0px 1px 2px rgba(60, 64, 67, 0.3), 0px 1px 3px 1px rgba(60, 64, 67, 0.15);\n",
              "      fill: #174EA6;\n",
              "    }\n",
              "\n",
              "    [theme=dark] .colab-df-convert {\n",
              "      background-color: #3B4455;\n",
              "      fill: #D2E3FC;\n",
              "    }\n",
              "\n",
              "    [theme=dark] .colab-df-convert:hover {\n",
              "      background-color: #434B5C;\n",
              "      box-shadow: 0px 1px 3px 1px rgba(0, 0, 0, 0.15);\n",
              "      filter: drop-shadow(0px 1px 2px rgba(0, 0, 0, 0.3));\n",
              "      fill: #FFFFFF;\n",
              "    }\n",
              "  </style>\n",
              "\n",
              "      <script>\n",
              "        const buttonEl =\n",
              "          document.querySelector('#df-7ec5531a-4298-41a5-a09e-9df3c027b3f6 button.colab-df-convert');\n",
              "        buttonEl.style.display =\n",
              "          google.colab.kernel.accessAllowed ? 'block' : 'none';\n",
              "\n",
              "        async function convertToInteractive(key) {\n",
              "          const element = document.querySelector('#df-7ec5531a-4298-41a5-a09e-9df3c027b3f6');\n",
              "          const dataTable =\n",
              "            await google.colab.kernel.invokeFunction('convertToInteractive',\n",
              "                                                     [key], {});\n",
              "          if (!dataTable) return;\n",
              "\n",
              "          const docLinkHtml = 'Like what you see? Visit the ' +\n",
              "            '<a target=\"_blank\" href=https://colab.research.google.com/notebooks/data_table.ipynb>data table notebook</a>'\n",
              "            + ' to learn more about interactive tables.';\n",
              "          element.innerHTML = '';\n",
              "          dataTable['output_type'] = 'display_data';\n",
              "          await google.colab.output.renderOutput(dataTable, element);\n",
              "          const docLink = document.createElement('div');\n",
              "          docLink.innerHTML = docLinkHtml;\n",
              "          element.appendChild(docLink);\n",
              "        }\n",
              "      </script>\n",
              "    </div>\n",
              "  </div>\n",
              "  "
            ]
          },
          "metadata": {},
          "execution_count": 33
        }
      ]
    },
    {
      "cell_type": "code",
      "source": [
        "scores"
      ],
      "metadata": {
        "id": "CfkQ1CwspewF"
      },
      "execution_count": null,
      "outputs": []
    },
    {
      "cell_type": "code",
      "source": [
        "score_list = []\n",
        "act_list = []\n",
        "for i in scores.keys():\n",
        "  score_list.append(scores[i])\n",
        "  act_list.append(act[i])"
      ],
      "metadata": {
        "id": "ZyiYMqLExfX4"
      },
      "execution_count": 47,
      "outputs": []
    },
    {
      "cell_type": "code",
      "source": [
        "import scipy.stats"
      ],
      "metadata": {
        "id": "ms1LAJ4Gx9nD"
      },
      "execution_count": 49,
      "outputs": []
    },
    {
      "cell_type": "code",
      "source": [
        "scipy.stats.spearmanr(act_list,score_list)"
      ],
      "metadata": {
        "colab": {
          "base_uri": "https://localhost:8080/"
        },
        "id": "bijDnboHx4Qn",
        "outputId": "4a1a6969-1165-449f-c991-1be481a1af14"
      },
      "execution_count": 52,
      "outputs": [
        {
          "output_type": "execute_result",
          "data": {
            "text/plain": [
              "SpearmanrResult(correlation=0.07599154573183721, pvalue=0.6239432360749702)"
            ]
          },
          "metadata": {},
          "execution_count": 52
        }
      ]
    }
  ]
}