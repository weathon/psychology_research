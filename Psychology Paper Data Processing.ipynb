{
 "cells": [
  {
   "cell_type": "markdown",
   "id": "76b92252",
   "metadata": {},
   "source": [
    "## Get The Data"
   ]
  },
  {
   "cell_type": "code",
   "execution_count": 1,
   "id": "c4157996",
   "metadata": {},
   "outputs": [
    {
     "name": "stdout",
     "output_type": "stream",
     "text": [
      "--2022-04-25 22:47:16--  https://mdpi-res.com/d_attachment/data/data-04-00124/article_deploy/data-04-00124-s001.zip?version=1566351002\n",
      "Resolving mdpi-res.com (mdpi-res.com)... 2606:4700:20::681a:f5a, 2606:4700:20::ac43:44a4, 2606:4700:20::681a:e5a, ...\n",
      "Connecting to mdpi-res.com (mdpi-res.com)|2606:4700:20::681a:f5a|:443... failed: Network is unreachable.\n",
      "Connecting to mdpi-res.com (mdpi-res.com)|2606:4700:20::ac43:44a4|:443... failed: Network is unreachable.\n",
      "Connecting to mdpi-res.com (mdpi-res.com)|2606:4700:20::681a:e5a|:443... failed: Network is unreachable.\n",
      "Connecting to mdpi-res.com (mdpi-res.com)|172.67.68.164|:443... connected.\n",
      "HTTP request sent, awaiting response... 200 OK\n",
      "Length: 1134038 (1.1M) [application/zip]\n",
      "Saving to: ‘data-04-00124-s001.zip?version=1566351002’\n",
      "\n",
      "100%[======================================>] 1,134,038   --.-K/s   in 0.06s   \n",
      "\n",
      "2022-04-25 22:47:25 (17.0 MB/s) - ‘data-04-00124-s001.zip?version=1566351002’ saved [1134038/1134038]\n",
      "\n"
     ]
    }
   ],
   "source": [
    "!wget https://mdpi-res.com/d_attachment/data/data-04-00124/article_deploy/data-04-00124-s001.zip"
   ]
  },
  {
   "cell_type": "code",
   "execution_count": 5,
   "id": "ee79a4b6",
   "metadata": {},
   "outputs": [
    {
     "name": "stdout",
     "output_type": "stream",
     "text": [
      "CMT\t data-04-00124-s001.zip?version=1566351002  kNN\r\n",
      "CMT.old  jupyter_env\t\t\t\t    Psychology Paper.ipynb\r\n",
      "data\t klnufywe\t\t\t\t    scratch\r\n"
     ]
    }
   ],
   "source": [
    "!ls"
   ]
  },
  {
   "cell_type": "code",
   "execution_count": 6,
   "id": "80d13598",
   "metadata": {},
   "outputs": [
    {
     "name": "stdout",
     "output_type": "stream",
     "text": [
      "Archive:  data.zip\r\n",
      "  inflating: data.csv                \r\n",
      "  inflating: Questionnaire1.pdf      \r\n",
      "  inflating: Questionnaire2.pdf      \r\n"
     ]
    }
   ],
   "source": [
    "!mv data-04-00124-s001.zip?version=1566351002 data.zip\n",
    "!unzip data.zip"
   ]
  },
  {
   "cell_type": "code",
   "execution_count": 8,
   "id": "99aa57c5",
   "metadata": {},
   "outputs": [
    {
     "name": "stdout",
     "output_type": "stream",
     "text": [
      "Collecting pandas\n",
      "  Downloading pandas-1.4.2-cp39-cp39-manylinux_2_17_x86_64.manylinux2014_x86_64.whl (11.7 MB)\n",
      "\u001b[K     |████████████████████████████████| 11.7 MB 4.6 MB/s eta 0:00:01\n",
      "\u001b[?25hRequirement already satisfied: pytz>=2020.1 in ./jupyter_env/lib/python3.9/site-packages (from pandas) (2021.3)\n",
      "Requirement already satisfied: python-dateutil>=2.8.1 in ./jupyter_env/lib/python3.9/site-packages (from pandas) (2.8.2)\n",
      "Collecting numpy>=1.18.5\n",
      "  Downloading numpy-1.22.3-cp39-cp39-manylinux_2_17_x86_64.manylinux2014_x86_64.whl (16.8 MB)\n",
      "\u001b[K     |████████████████████████████████| 16.8 MB 38.6 MB/s eta 0:00:01\n",
      "\u001b[?25hRequirement already satisfied: six>=1.5 in ./jupyter_env/lib/python3.9/site-packages (from python-dateutil>=2.8.1->pandas) (1.16.0)\n",
      "Installing collected packages: numpy, pandas\n",
      "Successfully installed numpy-1.22.3 pandas-1.4.2\n",
      "Requirement already satisfied: numpy in ./jupyter_env/lib/python3.9/site-packages (1.22.3)\n"
     ]
    }
   ],
   "source": [
    "!pip3 install pandas\n",
    "!pip3 install numpy"
   ]
  },
  {
   "cell_type": "code",
   "execution_count": 16,
   "id": "610694ad",
   "metadata": {},
   "outputs": [
    {
     "name": "stdout",
     "output_type": "stream",
     "text": [
      "Collecting matplotlib\n",
      "  Downloading matplotlib-3.5.1-cp39-cp39-manylinux_2_5_x86_64.manylinux1_x86_64.whl (11.2 MB)\n",
      "\u001b[K     |████████████████████████████████| 11.2 MB 3.9 MB/s eta 0:00:01\n",
      "\u001b[?25hCollecting pillow>=6.2.0\n",
      "  Downloading Pillow-9.1.0-cp39-cp39-manylinux_2_17_x86_64.manylinux2014_x86_64.whl (4.3 MB)\n",
      "\u001b[K     |████████████████████████████████| 4.3 MB 35.7 MB/s eta 0:00:01\n",
      "\u001b[?25hCollecting kiwisolver>=1.0.1\n",
      "  Downloading kiwisolver-1.4.2-cp39-cp39-manylinux_2_12_x86_64.manylinux2010_x86_64.whl (1.6 MB)\n",
      "\u001b[K     |████████████████████████████████| 1.6 MB 20.0 MB/s eta 0:00:01\n",
      "\u001b[?25hRequirement already satisfied: python-dateutil>=2.7 in ./jupyter_env/lib/python3.9/site-packages (from matplotlib) (2.8.2)\n",
      "Collecting fonttools>=4.22.0\n",
      "  Downloading fonttools-4.33.2-py3-none-any.whl (930 kB)\n",
      "\u001b[K     |████████████████████████████████| 930 kB 23.9 MB/s eta 0:00:01\n",
      "\u001b[?25hRequirement already satisfied: pyparsing>=2.2.1 in ./jupyter_env/lib/python3.9/site-packages (from matplotlib) (3.0.4)\n",
      "Requirement already satisfied: packaging>=20.0 in ./jupyter_env/lib/python3.9/site-packages (from matplotlib) (21.3)\n",
      "Collecting cycler>=0.10\n",
      "  Downloading cycler-0.11.0-py3-none-any.whl (6.4 kB)\n",
      "Requirement already satisfied: numpy>=1.17 in ./jupyter_env/lib/python3.9/site-packages (from matplotlib) (1.22.3)\n",
      "Requirement already satisfied: six>=1.5 in ./jupyter_env/lib/python3.9/site-packages (from python-dateutil>=2.7->matplotlib) (1.16.0)\n",
      "Installing collected packages: pillow, kiwisolver, fonttools, cycler, matplotlib\n",
      "Successfully installed cycler-0.11.0 fonttools-4.33.2 kiwisolver-1.4.2 matplotlib-3.5.1 pillow-9.1.0\n"
     ]
    }
   ],
   "source": [
    "!pip3 install -U matplotlib"
   ]
  },
  {
   "cell_type": "code",
   "execution_count": 5,
   "id": "f53d6057",
   "metadata": {},
   "outputs": [],
   "source": [
    "import pandas as pd\n",
    "import numpy as np\n",
    "import matplotlib.pyplot as plt"
   ]
  },
  {
   "cell_type": "code",
   "execution_count": 6,
   "id": "b4c28a69",
   "metadata": {},
   "outputs": [],
   "source": [
    "DataFrame = pd.read_csv(\"data.csv\")"
   ]
  },
  {
   "cell_type": "code",
   "execution_count": null,
   "id": "380ce364",
   "metadata": {},
   "outputs": [],
   "source": [
    "age = DataFrame[\"Age\"]\n",
    "ToDep = DataFrame[\"ToDep\"]\n",
    "plt.scatter(age, ToDep, alpha=0.2)"
   ]
  },
  {
   "cell_type": "code",
   "execution_count": 58,
   "id": "01132dfe",
   "metadata": {},
   "outputs": [
    {
     "data": {
      "text/plain": [
       "<matplotlib.collections.PathCollection at 0x2aaae6f96f40>"
      ]
     },
     "execution_count": 58,
     "metadata": {},
     "output_type": "execute_result"
    },
    {
     "data": {
      "image/png": "[encoded data removed]",
      "text/plain": [
       "<Figure size 432x288 with 1 Axes>"
      ]
     },
     "metadata": {
      "needs_background": "light"
     },
     "output_type": "display_data"
    }
   ],
   "source": [
    "age = DataFrame[\"Age\"]\n",
    "AFear = DataFrame[\"Afear\"]\n",
    "plt.scatter(age, AFear, alpha=0.2)"
   ]
  },
  {
   "cell_type": "code",
   "execution_count": 101,
   "id": "b41c1e4b",
   "metadata": {},
   "outputs": [
    {
     "data": {
      "text/plain": [
       "{'divide': 'warn', 'over': 'warn', 'under': 'ignore', 'invalid': 'warn'}"
      ]
     },
     "execution_count": 101,
     "metadata": {},
     "output_type": "execute_result"
    }
   ],
   "source": [
    "np.seterr(all=\"ignore\")"
   ]
  },
  {
   "cell_type": "code",
   "execution_count": 120,
   "id": "a70e5eca",
   "metadata": {},
   "outputs": [],
   "source": [
    "DataFrame[\"Alone_bi\"] = DataFrame[\"Alone_bi\"].replace(\"Yes\",1)\n",
    "DataFrame[\"Alone_bi\"] = DataFrame[\"Alone_bi\"].replace(\"No\",0)\n",
    "DataFrame[\"Doctor_bi\"] = DataFrame[\"Doctor_bi\"].replace(\"Yes\",1)\n",
    "DataFrame[\"Doctor_bi\"] = DataFrame[\"Doctor_bi\"].replace(\"No\",0)"
   ]
  },
  {
   "cell_type": "code",
   "execution_count": 130,
   "id": "f3403cc6",
   "metadata": {},
   "outputs": [
    {
     "data": {
      "text/plain": [
       "<BarContainer object of 2 artists>"
      ]
     },
     "execution_count": 130,
     "metadata": {},
     "output_type": "execute_result"
    },
    {
     "data": {
      "image/png": "[encoded data removed]",
      "text/plain": [
       "<Figure size 432x288 with 1 Axes>"
      ]
     },
     "metadata": {
      "needs_background": "light"
     },
     "output_type": "display_data"
    }
   ],
   "source": [
    "y = \"ToDep\"\n",
    "data_list = np.array([0] * int(2))\n",
    "count_list = np.array([0] * int(2))\n",
    "for i in DataFrame.iterrows():\n",
    "#     print(i[1][\"Age\"])\n",
    "    try:\n",
    "        data_list[1 if i[1][\"Academic\"] == \"Grad\" else 0] += i[1][y]\n",
    "#         age_count_list+=1\n",
    "        count_list[1 if i[1][\"Academic\"] == \"Grad\" else 0] += 1\n",
    "    except:\n",
    "        pass\n",
    "plt.bar([\"Undergrad\",\"Grad\"],data_list/count_list) #ttgangcaibushizheyangde a whydoushi y"
   ]
  },
  {
   "cell_type": "code",
   "execution_count": 5,
   "id": "ecb8a606",
   "metadata": {},
   "outputs": [],
   "source": [
    "under = DataFrame[DataFrame[\"Academic\"] == \"Under\"][\"ToDep\"]\n",
    "grad = DataFrame[DataFrame[\"Academic\"] == \"Grad\"][\"ToDep\"]\n",
    "# DataFrame date huangxkouxkoxukxouxkou cjhys hehsuikoukehshushsishsuishusipashouzangyahci koukeunyac"
   ]
  },
  {
   "cell_type": "code",
   "execution_count": 9,
   "id": "5b143c16",
   "metadata": {},
   "outputs": [
    {
     "data": {
      "text/plain": [
       "0       0.0\n",
       "1       2.0\n",
       "2       2.0\n",
       "3       3.0\n",
       "4       3.0\n",
       "5       6.0\n",
       "6       3.0\n",
       "7       9.0\n",
       "8       7.0\n",
       "9       3.0\n",
       "10      5.0\n",
       "11      8.0\n",
       "12      1.0\n",
       "13      3.0\n",
       "14      9.0\n",
       "15      6.0\n",
       "16      3.0\n",
       "17      3.0\n",
       "25     10.0\n",
       "26     13.0\n",
       "201    12.0\n",
       "Name: ToDep, dtype: float64"
      ]
     },
     "execution_count": 9,
     "metadata": {},
     "output_type": "execute_result"
    }
   ],
   "source": [
    "grad"
   ]
  },
  {
   "cell_type": "code",
   "execution_count": 6,
   "id": "76bb54fd",
   "metadata": {},
   "outputs": [],
   "source": [
    "undererror = list(under.quantile([0.25,0.75]))\n",
    "graderror = list(grad.quantile([0.25,0.75]))\n",
    "y_error_max = [undererror[0], grad[0]]\n",
    "y_error_min = [undererror[1], grad[1]]"
   ]
  },
  {
   "cell_type": "code",
   "execution_count": 7,
   "id": "a0513739",
   "metadata": {},
   "outputs": [
    {
     "data": {
      "text/plain": [
       "8.433198380566802"
      ]
     },
     "execution_count": 7,
     "metadata": {},
     "output_type": "execute_result"
    }
   ],
   "source": [
    "under.mean()"
   ]
  },
  {
   "cell_type": "code",
   "execution_count": 8,
   "id": "663319a5",
   "metadata": {},
   "outputs": [
    {
     "data": {
      "text/plain": [
       "<ErrorbarContainer object of 3 artists>"
      ]
     },
     "execution_count": 8,
     "metadata": {},
     "output_type": "execute_result"
    },
    {
     "data": {
      "image/png": "[encoded data removed]",
      "text/plain": [
       "<Figure size 432x288 with 1 Axes>"
      ]
     },
     "metadata": {
      "needs_background": "light"
     },
     "output_type": "display_data"
    }
   ],
   "source": [
    "plt.errorbar([\"Undergrad\",\"Grad\"],[under.mean(),grad.mean()],yerr=[y_error_max,y_error_min],fmt='o')\n",
    "#koukeyacihimais koukexkoukoukexkouxkoukoukeyunttyunkouke xkouyai yiwei meiyou baocnun "
   ]
  },
  {
   "cell_type": "code",
   "execution_count": 12,
   "id": "73453239",
   "metadata": {},
   "outputs": [
    {
     "name": "stdout",
     "output_type": "stream",
     "text": [
      "Collecting scipy\n",
      "  Downloading scipy-1.8.0-cp39-cp39-manylinux_2_17_x86_64.manylinux2014_x86_64.whl (42.1 MB)\n",
      "\u001b[K     |████████████████████████████████| 42.1 MB 4.3 MB/s eta 0:00:01    |█▏                              | 1.6 MB 4.3 MB/s eta 0:00:10     |██████████████████████          | 29.0 MB 4.3 MB/s eta 0:00:04\n",
      "\u001b[?25hRequirement already satisfied: numpy<1.25.0,>=1.17.3 in /home/wg25r/jupyter_env/lib/python3.9/site-packages (from scipy) (1.22.3)\n",
      "Installing collected packages: scipy\n",
      "Successfully installed scipy-1.8.0\n"
     ]
    }
   ],
   "source": [
    "!pip3 install scipy #xkouciyangzhangshouzhikunyangkouke xkouyunttzhegehenbufangban "
   ]
  },
  {
   "cell_type": "code",
   "execution_count": 12,
   "id": "244f7af0",
   "metadata": {},
   "outputs": [
    {
     "data": {
      "text/plain": [
       "Ttest_indResult(statistic=0.0, pvalue=1.0)"
      ]
     },
     "execution_count": 12,
     "metadata": {},
     "output_type": "execute_result"
    }
   ],
   "source": [
    "import scipy.stats\n",
    "scipy.stats.ttest_ind(grad,under)"
   ]
  },
  {
   "cell_type": "code",
   "execution_count": 36,
   "id": "b6b8571f",
   "metadata": {},
   "outputs": [
    {
     "data": {
      "text/plain": [
       "Ttest_indResult(statistic=0.5657051284040221, pvalue=0.5720711272952215)"
      ]
     },
     "execution_count": 36,
     "metadata": {},
     "output_type": "execute_result"
    },
    {
     "data": {
      "image/png": "[encoded data removed]",
      "text/plain": [
       "<Figure size 432x288 with 1 Axes>"
      ]
     },
     "metadata": {
      "needs_background": "light"
     },
     "output_type": "display_data"
    }
   ],
   "source": [
    "under = DataFrame[DataFrame[\"Academic\"] == \"Under\"][\"Parents\"]\n",
    "grad = DataFrame[DataFrame[\"Academic\"] == \"Grad\"][\"Parents\"] #xkoukyifanguolaixkouxkoukunkoue\n",
    "plt.bar([\"Undergrad\",\"Grad\"],[under.mean(),grad.mean()])\n",
    "scipy.stats.ttest_ind(grad,under)"
   ]
  },
  {
   "cell_type": "code",
   "execution_count": 9,
   "id": "bc08d415",
   "metadata": {},
   "outputs": [
    {
     "data": {
      "text/plain": [
       "Index(['inter_dom', 'Region', 'Gender', 'Academic', 'Age', 'Age_cate', 'Stay',\n",
       "       'Stay_Cate', 'Japanese', 'Japanese_cate', 'English', 'English_cate',\n",
       "       'Intimate', 'Religion', 'Suicide', 'Dep', 'DepType', 'ToDep', 'DepSev',\n",
       "       'ToSC', 'APD', 'AHome', 'APH', 'Afear', 'ACS', 'AGuilt', 'AMiscell',\n",
       "       'ToAS', 'Partner', 'Friends', 'Parents', 'Relative', 'Profess',\n",
       "       ' Phone', 'Doctor', 'Reli', 'Alone', 'Others', 'Internet', 'Partner_bi',\n",
       "       'Friends_bi', 'Parents_bi', 'Relative_bi', 'Professional_bi',\n",
       "       'Phone_bi', 'Doctor_bi', 'religion_bi', 'Alone_bi', 'Others_bi',\n",
       "       'Internet_bi'],\n",
       "      dtype='object')"
      ]
     },
     "execution_count": 9,
     "metadata": {},
     "output_type": "execute_result"
    }
   ],
   "source": [
    "DataFrame.columns"
   ]
  },
  {
   "cell_type": "code",
   "execution_count": 10,
   "id": "faebf24f",
   "metadata": {},
   "outputs": [
    {
     "data": {
      "text/plain": [
       "0      Inter\n",
       "1      Inter\n",
       "2      Inter\n",
       "3      Inter\n",
       "4      Inter\n",
       "       ...  \n",
       "281      NaN\n",
       "282      NaN\n",
       "283      NaN\n",
       "284      NaN\n",
       "285      NaN\n",
       "Name: inter_dom, Length: 286, dtype: object"
      ]
     },
     "execution_count": 10,
     "metadata": {},
     "output_type": "execute_result"
    }
   ],
   "source": [
    "DataFrame[\"inter_dom\"]"
   ]
  },
  {
   "cell_type": "raw",
   "id": "0f2f051a",
   "metadata": {},
   "source": []
  },
  {
   "cell_type": "code",
   "execution_count": null,
   "id": "bad53afe",
   "metadata": {},
   "outputs": [],
   "source": []
  },
  {
   "cell_type": "code",
   "execution_count": null,
   "id": "29de5628",
   "metadata": {},
   "outputs": [],
   "source": []
  },
  {
   "cell_type": "code",
   "execution_count": 17,
   "id": "8cd35629",
   "metadata": {},
   "outputs": [
    {
     "data": {
      "text/plain": [
       "Ttest_indResult(statistic=-2.718065579792752, pvalue=0.006997959937229086)"
      ]
     },
     "execution_count": 17,
     "metadata": {},
     "output_type": "execute_result"
    },
    {
     "data": {
      "image/png": "[encoded data removed]",
      "text/plain": [
       "<Figure size 432x288 with 1 Axes>"
      ]
     },
     "metadata": {
      "needs_background": "light"
     },
     "output_type": "display_data"
    }
   ],
   "source": [
    "under = DataFrame[DataFrame[\"inter_dom\"] == \"Inter\"][\"Afear\"]\n",
    "grad = DataFrame[DataFrame[\"inter_dom\"] == \"Dom\"][\"Afear\"]\n",
    "plt.bar([\"Inter\",\"Dom\"],[under.mean(),grad.mean()])\n",
    "scipy.stats.ttest_ind(grad,under)"
   ]
  },
  {
   "cell_type": "code",
   "execution_count": null,
   "id": "1fde7f2a",
   "metadata": {},
   "outputs": [],
   "source": [
    "under = DataFrame[DataFrame[\"inter_dom\"] == \"Inter\"][\"Afear\"]\n",
    "grad = DataFrame[DataFrame[\"inter_dom\"] == \"Dom\"][\"Afear\"]\n",
    "plt.bar([\"Inter\",\"Dom\"],[under.mean(),grad.mean()])\n",
    "scipy.stats.ttest_ind(grad,under)"
   ]
  },
  {
   "cell_type": "code",
   "execution_count": 16,
   "id": "f0faaa0a",
   "metadata": {},
   "outputs": [
    {
     "data": {
      "text/plain": [
       "Ttest_indResult(statistic=0.1715529425987273, pvalue=0.8639194400303344)"
      ]
     },
     "execution_count": 16,
     "metadata": {},
     "output_type": "execute_result"
    },
    {
     "data": {
      "image/png": "[encoded data removed]",
      "text/plain": [
       "<Figure size 432x288 with 1 Axes>"
      ]
     },
     "metadata": {
      "needs_background": "light"
     },
     "output_type": "display_data"
    }
   ],
   "source": [
    "under = DataFrame[DataFrame[\"inter_dom\"] == \"Inter\"][\"ToSC\"]\n",
    "grad = DataFrame[DataFrame[\"inter_dom\"] == \"Dom\"][\"ToSC\"]\n",
    "plt.bar([\"Inter\",\"Dom\"],[under.mean(),grad.mean()])\n",
    "scipy.stats.ttest_ind(grad,under)"
   ]
  },
  {
   "cell_type": "code",
   "execution_count": 8,
   "id": "13c60e1a",
   "metadata": {},
   "outputs": [
    {
     "ename": "SyntaxError",
     "evalue": "invalid syntax (1446025211.py, line 4)",
     "output_type": "error",
     "traceback": [
      "\u001b[0;36m  Input \u001b[0;32mIn [8]\u001b[0;36m\u001b[0m\n\u001b[0;31m    count_list = np.array([0] * int(2)\u001b[0m\n\u001b[0m    ^\u001b[0m\n\u001b[0;31mSyntaxError\u001b[0m\u001b[0;31m:\u001b[0m invalid syntax\n"
     ]
    }
   ],
   "source": [
    "x = \"Alone\"\n",
    "y = \"Doctor\"\n",
    "data_list = np.array([0] * int(2)\n",
    "count_list = np.array([0] * int(2)\n",
    "for i in DataFrame.iterrows():\n",
    "#     print(i[1][\"Age\"])\n",
    "    try:\n",
    "        data_list[int(i[1][x])] += i[1][y]\n",
    "#         age_count_list+=1\n",
    "        count_list[int(i[1][x])]+= 1\n",
    "    except:\n",
    "        pass\n",
    "plt.plot(data_list/count_list) #ttgangcaibushizheyangde a whydoushi y"
   ]
  },
  {
   "cell_type": "code",
   "execution_count": 124,
   "id": "722e5c35",
   "metadata": {},
   "outputs": [
    {
     "data": {
      "text/plain": [
       "dtype('O')"
      ]
     },
     "execution_count": 124,
     "metadata": {},
     "output_type": "execute_result"
    }
   ],
   "source": [
    "DataFrame[x].dtype"
   ]
  },
  {
   "cell_type": "code",
   "execution_count": 114,
   "id": "72ea084c",
   "metadata": {},
   "outputs": [
    {
     "data": {
      "text/plain": [
       "{'divide': 'ignore', 'over': 'ignore', 'under': 'ignore', 'invalid': 'ignore'}"
      ]
     },
     "execution_count": 114,
     "metadata": {},
     "output_type": "execute_result"
    }
   ],
   "source": [
    "np.seterr(all=\"warn\")"
   ]
  },
  {
   "cell_type": "code",
   "execution_count": null,
   "id": "f2744e6b",
   "metadata": {},
   "outputs": [],
   "source": []
  },
  {
   "cell_type": "code",
   "execution_count": 89,
   "id": "d1a11816",
   "metadata": {},
   "outputs": [
    {
     "data": {
      "text/plain": [
       "[<matplotlib.lines.Line2D at 0x2aaae7303ac0>]"
      ]
     },
     "execution_count": 89,
     "metadata": {},
     "output_type": "execute_result"
    },
    {
     "data": {
      "image/png": "[encoded data removed]",
      "text/plain": [
       "<Figure size 432x288 with 1 Axes>"
      ]
     },
     "metadata": {
      "needs_background": "light"
     },
     "output_type": "display_data"
    }
   ],
   "source": []
  },
  {
   "cell_type": "code",
   "execution_count": 69,
   "id": "dba24dd2",
   "metadata": {},
   "outputs": [
    {
     "data": {
      "text/plain": [
       "array([0, 0, 0, 0, 0, 0, 0, 0, 0, 0, 0, 0, 0, 0, 0, 0, 0, 0, 0, 0, 0])"
      ]
     },
     "execution_count": 69,
     "metadata": {},
     "output_type": "execute_result"
    }
   ],
   "source": [
    "age_ahome_list"
   ]
  },
  {
   "cell_type": "code",
   "execution_count": 84,
   "id": "dfb9d9f2",
   "metadata": {},
   "outputs": [
    {
     "data": {
      "text/plain": [
       "[<matplotlib.lines.Line2D at 0x2aaae72b6e50>]"
      ]
     },
     "execution_count": 84,
     "metadata": {},
     "output_type": "execute_result"
    },
    {
     "data": {
      "image/png": "[encoded data removed]",
      "text/plain": [
       "<Figure size 432x288 with 1 Axes>"
      ]
     },
     "metadata": {
      "needs_background": "light"
     },
     "output_type": "display_data"
    }
   ],
   "source": [
    "plt.plot(age_ahome_list[15:]/age_count_list[15:])"
   ]
  },
  {
   "cell_type": "code",
   "execution_count": 42,
   "id": "875b39ff",
   "metadata": {},
   "outputs": [
    {
     "data": {
      "text/plain": [
       "array([ 0,  0,  0,  0,  0,  0,  0,  0,  0,  0,  0,  0,  0,  0,  0,  0,  0,\n",
       "        3, 37, 51, 51, 57, 21, 16,  7,  9,  0,  2,  3,  4,  3,  4])"
      ]
     },
     "execution_count": 42,
     "metadata": {},
     "output_type": "execute_result"
    }
   ],
   "source": [
    "age_count_list"
   ]
  },
  {
   "cell_type": "markdown",
   "id": "696e3b0f",
   "metadata": {},
   "source": [
    "### Submit To GitHub"
   ]
  },
  {
   "cell_type": "code",
   "execution_count": 131,
   "id": "6a8daaf0",
   "metadata": {},
   "outputs": [
    {
     "name": "stdout",
     "output_type": "stream",
     "text": [
      "warning: You ran 'git add' with neither '-A (--all)' or '--ignore-removal',\n",
      "whose behaviour will change in Git 2.0 with respect to paths you removed.\n",
      "Paths like '.ipynb_checkpoints/Psychology Paper-checkpoint.ipynb' that are\n",
      "removed from your working tree are ignored with this version of Git.\n",
      "\n",
      "* 'git add --ignore-removal <pathspec>', which is the current default,\n",
      "  ignores paths you removed from your working tree.\n",
      "\n",
      "* 'git add --all <pathspec>' will let you also record the removals.\n",
      "\n",
      "Run 'git status' to check the paths you removed from your working tree.\n",
      "\n",
      "[master c679117] positive?\n",
      " 2 files changed, 1118 insertions(+)\n",
      " create mode 100644 .ipynb_checkpoints/Psychology Paper Data Processing-checkpoint.ipynb\n",
      " create mode 100644 Psychology Paper Data Processing.ipynb\n"
     ]
    }
   ],
   "source": [
    "!git add .\n",
    "!git commit -m \"positive?\""
   ]
  },
  {
   "cell_type": "code",
   "execution_count": null,
   "id": "5a1f22db",
   "metadata": {},
   "outputs": [],
   "source": [
    "xueyaxkouhlongkun nanshouxkouxueya xkou kunttbuygai qcaidiaode "
   ]
  }
 ],
 "metadata": {
  "kernelspec": {
   "display_name": "Python 3 (ipykernel)",
   "language": "python",
   "name": "python3"
  },
  "language_info": {
   "codemirror_mode": {
    "name": "ipython",
    "version": 3
   },
   "file_extension": ".py",
   "mimetype": "text/x-python",
   "name": "python",
   "nbconvert_exporter": "python",
   "pygments_lexer": "ipython3",
   "version": "3.9.12"
  }
 },
 "nbformat": 4,
 "nbformat_minor": 5
}
