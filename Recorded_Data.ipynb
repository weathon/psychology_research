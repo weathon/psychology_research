{
  "nbformat": 4,
  "nbformat_minor": 0,
  "metadata": {
    "colab": {
      "name": "Recorded Data.ipynb",
      "provenance": [],
      "collapsed_sections": [],
      "authorship_tag": "ABX9TyMklWZoxrlcD81pS38gJPf4",
      "include_colab_link": true
    },
    "kernelspec": {
      "name": "python3",
      "display_name": "Python 3"
    },
    "language_info": {
      "name": "python"
    }
  },
  "cells": [
    {
      "cell_type": "markdown",
      "metadata": {
        "id": "view-in-github",
        "colab_type": "text"
      },
      "source": [
        "<a href=\"https://colab.research.google.com/github/weathon/psychology_research/blob/master/Recorded_Data.ipynb\" target=\"_parent\"><img src=\"https://colab.research.google.com/assets/colab-badge.svg\" alt=\"Open In Colab\"/></a>"
      ]
    },
    {
      "cell_type": "code",
      "execution_count": 1,
      "metadata": {
        "id": "O02d3u8d-I88",
        "colab": {
          "base_uri": "https://localhost:8080/"
        },
        "outputId": "a76c01c2-069f-4215-de7e-19850d515a68"
      },
      "outputs": [
        {
          "output_type": "stream",
          "name": "stdout",
          "text": [
            "--2022-05-09 02:44:46--  https://mdpi-res.com/d_attachment/data/data-04-00124/article_deploy/data-04-00124-s001.zip\n",
            "Resolving mdpi-res.com (mdpi-res.com)... 172.67.68.164, 104.26.14.90, 104.26.15.90, ...\n",
            "Connecting to mdpi-res.com (mdpi-res.com)|172.67.68.164|:443... connected.\n",
            "HTTP request sent, awaiting response... 200 OK\n",
            "Length: 1134038 (1.1M) [application/zip]\n",
            "Saving to: ‘data-04-00124-s001.zip’\n",
            "\n",
            "data-04-00124-s001. 100%[===================>]   1.08M  1.48MB/s    in 0.7s    \n",
            "\n",
            "2022-05-09 02:44:47 (1.48 MB/s) - ‘data-04-00124-s001.zip’ saved [1134038/1134038]\n",
            "\n"
          ]
        }
      ],
      "source": [
        "!wget https://mdpi-res.com/d_attachment/data/data-04-00124/article_deploy/data-04-00124-s001.zip"
      ]
    },
    {
      "cell_type": "code",
      "source": [
        "!mv data-04-00124-s001.zip data.zip\n",
        "!unzip data.zip"
      ],
      "metadata": {
        "id": "-kpc3uRA-NOf",
        "colab": {
          "base_uri": "https://localhost:8080/"
        },
        "outputId": "3087496b-1492-4ce3-a40c-5571bb5cf691"
      },
      "execution_count": 2,
      "outputs": [
        {
          "output_type": "stream",
          "name": "stdout",
          "text": [
            "Archive:  data.zip\n",
            "  inflating: data.csv                \n",
            "  inflating: Questionnaire1.pdf      \n",
            "  inflating: Questionnaire2.pdf      \n"
          ]
        }
      ]
    },
    {
      "cell_type": "code",
      "source": [
        "# !pip3 install numpy -U\n",
        "# !pip install --upgrade scipy\n",
        "import pandas as pd\n",
        "import numpy as np\n",
        "import matplotlib.pyplot as plt\n",
        "import scipy.stats"
      ],
      "metadata": {
        "id": "ynG4Qi7k-O_0"
      },
      "execution_count": 3,
      "outputs": []
    },
    {
      "cell_type": "code",
      "source": [
        "DataFrame = pd.read_csv(\"data.csv\")"
      ],
      "metadata": {
        "id": "IpSoBfal-QKF"
      },
      "execution_count": 4,
      "outputs": []
    },
    {
      "cell_type": "code",
      "source": [
        "Grad = DataFrame[DataFrame[\"Academic\"] == \"Grad\"]"
      ],
      "metadata": {
        "id": "yNKBmXxS-hZN"
      },
      "execution_count": 5,
      "outputs": []
    },
    {
      "cell_type": "code",
      "source": [
        "Under = DataFrame[DataFrame[\"Academic\"] == \"Under\"]"
      ],
      "metadata": {
        "id": "2TpVF3ZQ-jyt"
      },
      "execution_count": 6,
      "outputs": []
    },
    {
      "cell_type": "code",
      "source": [
        "np.mean(Grad[\"ToDep\"])"
      ],
      "metadata": {
        "colab": {
          "base_uri": "https://localhost:8080/"
        },
        "id": "sCV8T1wW-q-u",
        "outputId": "6e0d3771-e72a-4818-dac1-3f43073ed781"
      },
      "execution_count": null,
      "outputs": [
        {
          "output_type": "execute_result",
          "data": {
            "text/plain": [
              "5.285714285714286"
            ]
          },
          "metadata": {},
          "execution_count": 7
        }
      ]
    },
    {
      "cell_type": "code",
      "source": [
        "np.mean(Under[\"ToDep\"])"
      ],
      "metadata": {
        "colab": {
          "base_uri": "https://localhost:8080/"
        },
        "id": "Xf3FIWO9-vPN",
        "outputId": "facb12c5-406b-4b63-9110-c07b9a31e6fe"
      },
      "execution_count": null,
      "outputs": [
        {
          "output_type": "execute_result",
          "data": {
            "text/plain": [
              "8.433198380566802"
            ]
          },
          "metadata": {},
          "execution_count": 8
        }
      ]
    },
    {
      "cell_type": "code",
      "source": [
        "np.std(Grad[\"ToDep\"])"
      ],
      "metadata": {
        "colab": {
          "base_uri": "https://localhost:8080/"
        },
        "id": "XeAfkXOFiZEH",
        "outputId": "f3b4a4f5-0481-43a7-cf70-325d9236738e"
      },
      "execution_count": null,
      "outputs": [
        {
          "output_type": "execute_result",
          "data": {
            "text/plain": [
              "3.587582514635688"
            ]
          },
          "metadata": {},
          "execution_count": 9
        }
      ]
    },
    {
      "cell_type": "code",
      "source": [
        "np.std(Under[\"ToDep\"])"
      ],
      "metadata": {
        "colab": {
          "base_uri": "https://localhost:8080/"
        },
        "id": "ZIMLOfdhiYEj",
        "outputId": "54374efc-4d91-41b5-c658-eeaaa46138ed"
      },
      "execution_count": null,
      "outputs": [
        {
          "output_type": "execute_result",
          "data": {
            "text/plain": [
              "4.966547107923175"
            ]
          },
          "metadata": {},
          "execution_count": 10
        }
      ]
    },
    {
      "cell_type": "code",
      "source": [
        "scipy.stats.ttest_ind(Grad[\"ToDep\"],Under[\"ToDep\"],equal_var=False)"
      ],
      "metadata": {
        "colab": {
          "base_uri": "https://localhost:8080/"
        },
        "id": "XCqm7_TYN761",
        "outputId": "0e90a7ad-f31c-4896-c21c-e2e4345360f9"
      },
      "execution_count": null,
      "outputs": [
        {
          "output_type": "execute_result",
          "data": {
            "text/plain": [
              "Ttest_indResult(statistic=-3.6494976679191113, pvalue=0.0011254856725920373)"
            ]
          },
          "metadata": {},
          "execution_count": 11
        }
      ]
    },
    {
      "cell_type": "code",
      "source": [
        "plt.boxplot([Under[\"ToDep\"],Grad[\"ToDep\"]],labels=[\"Undergrad\",\"Grad\"])\n",
        "plt.title(\"Box Plot of Total Depression Score\")"
      ],
      "metadata": {
        "colab": {
          "base_uri": "https://localhost:8080/",
          "height": 359
        },
        "id": "c2I7eyYUp4mo",
        "outputId": "6341eb51-ad26-4fb2-89f6-8985786aa3b7"
      },
      "execution_count": null,
      "outputs": [
        {
          "output_type": "stream",
          "name": "stderr",
          "text": [
            "/usr/local/lib/python3.7/dist-packages/matplotlib/cbook/__init__.py:1376: VisibleDeprecationWarning: Creating an ndarray from ragged nested sequences (which is a list-or-tuple of lists-or-tuples-or ndarrays with different lengths or shapes) is deprecated. If you meant to do this, you must specify 'dtype=object' when creating the ndarray.\n",
            "  X = np.atleast_1d(X.T if isinstance(X, np.ndarray) else np.asarray(X))\n"
          ]
        },
        {
          "output_type": "execute_result",
          "data": {
            "text/plain": [
              "Text(0.5, 1.0, 'Box Plot of Total Depression Score')"
            ]
          },
          "metadata": {},
          "execution_count": 12
        },
        {
          "output_type": "display_data",
          "data": {
            "text/plain": [
              "<Figure size 432x288 with 1 Axes>"
            ],
            "image/png": "[encoded data removed]"
          },
          "metadata": {
            "needs_background": "light"
          }
        }
      ]
    },
    {
      "cell_type": "code",
      "source": [
        "DataFrame.columns"
      ],
      "metadata": {
        "colab": {
          "base_uri": "https://localhost:8080/"
        },
        "id": "ts933-Kzq-nf",
        "outputId": "83e11bbf-5bd6-4633-fcaf-9c753b27465a"
      },
      "execution_count": null,
      "outputs": [
        {
          "output_type": "execute_result",
          "data": {
            "text/plain": [
              "Index(['inter_dom', 'Region', 'Gender', 'Academic', 'Age', 'Age_cate', 'Stay',\n",
              "       'Stay_Cate', 'Japanese', 'Japanese_cate', 'English', 'English_cate',\n",
              "       'Intimate', 'Religion', 'Suicide', 'Dep', 'DepType', 'ToDep', 'DepSev',\n",
              "       'ToSC', 'APD', 'AHome', 'APH', 'Afear', 'ACS', 'AGuilt', 'AMiscell',\n",
              "       'ToAS', 'Partner', 'Friends', 'Parents', 'Relative', 'Profess',\n",
              "       ' Phone', 'Doctor', 'Reli', 'Alone', 'Others', 'Internet', 'Partner_bi',\n",
              "       'Friends_bi', 'Parents_bi', 'Relative_bi', 'Professional_bi',\n",
              "       'Phone_bi', 'Doctor_bi', 'religion_bi', 'Alone_bi', 'Others_bi',\n",
              "       'Internet_bi'],\n",
              "      dtype='object')"
            ]
          },
          "metadata": {},
          "execution_count": 28
        }
      ]
    },
    {
      "cell_type": "code",
      "source": [
        "DataFrame[\"Intimate\"]"
      ],
      "metadata": {
        "colab": {
          "base_uri": "https://localhost:8080/"
        },
        "id": "tbZJHFQx4tpL",
        "outputId": "ab3a1e4a-b76a-4b8e-dc56-8efc04ada920"
      },
      "execution_count": null,
      "outputs": [
        {
          "output_type": "execute_result",
          "data": {
            "text/plain": [
              "0      NaN\n",
              "1      NaN\n",
              "2      Yes\n",
              "3       No\n",
              "4      Yes\n",
              "      ... \n",
              "281    NaN\n",
              "282    NaN\n",
              "283    NaN\n",
              "284    NaN\n",
              "285    NaN\n",
              "Name: Intimate, Length: 286, dtype: object"
            ]
          },
          "metadata": {},
          "execution_count": 12
        }
      ]
    },
    {
      "cell_type": "code",
      "source": [
        "import math\n",
        "def isnan(v):\n",
        "  if type(v) == str: #not strkoukeyahcikun\n",
        "    return False\n",
        "  else:\n",
        "    return math.isnan(v)"
      ],
      "metadata": {
        "id": "hT4WhzSg7GcK"
      },
      "execution_count": null,
      "outputs": []
    },
    {
      "cell_type": "code",
      "source": [
        ""
      ],
      "metadata": {
        "id": "LoBzbDGc4TEA"
      },
      "execution_count": null,
      "outputs": []
    },
    {
      "cell_type": "code",
      "source": [
        "Intimate"
      ],
      "metadata": {
        "id": "LUVBGkzz71ZY"
      },
      "execution_count": null,
      "outputs": []
    },
    {
      "cell_type": "code",
      "source": [
        ""
      ],
      "metadata": {
        "colab": {
          "base_uri": "https://localhost:8080/"
        },
        "id": "cLrvAdy27Ca9",
        "outputId": "42f0815e-5b30-403b-b85a-adf7a8df564b"
      },
      "execution_count": null,
      "outputs": [
        {
          "output_type": "execute_result",
          "data": {
            "text/plain": [
              "nan"
            ]
          },
          "metadata": {},
          "execution_count": 37
        }
      ]
    },
    {
      "cell_type": "code",
      "source": [
        "# scipy.stats.ttest_ind(DataFrame[DataFrame[\"Internet_bi\"] == \"Yes\"][\"ToDep\"],DataFrame[DataFrame[\"Internet_bi\"] == \"No\"][\"ToDep\"],equal_var=1)\n",
        "scipy.stats.ttest_ind(DataFrame[DataFrame[\"Internet_bi\"] == \"Yes\"][\"ToDep\"],DataFrame[DataFrame[\"Internet_bi\"] == \"No\"][\"ToDep\"],equal_var=0) #Smaller?"
      ],
      "metadata": {
        "colab": {
          "base_uri": "https://localhost:8080/"
        },
        "id": "2o-wrNxCrBuO",
        "outputId": "8ad3fce0-8b4f-4b50-ce32-658d8cde943b"
      },
      "execution_count": null,
      "outputs": [
        {
          "output_type": "execute_result",
          "data": {
            "text/plain": [
              "Ttest_indResult(statistic=1.9182171986253846, pvalue=0.05916582875673046)"
            ]
          },
          "metadata": {},
          "execution_count": 11
        }
      ]
    },
    {
      "cell_type": "code",
      "source": [
        "print(np.std(DataFrame[DataFrame[\"Friends_bi\"] == \"Yes\"][\"ToDep\"]),np.std(DataFrame[DataFrame[\"Friends_bi\"] == \"No\"][\"ToDep\"]))"
      ],
      "metadata": {
        "colab": {
          "base_uri": "https://localhost:8080/"
        },
        "id": "hvGsdBQ3sXqJ",
        "outputId": "560ee13e-3d7c-4b65-d018-0c5128dcf8c6"
      },
      "execution_count": null,
      "outputs": [
        {
          "output_type": "stream",
          "name": "stdout",
          "text": [
            "4.457365031870707 5.224251728472603\n"
          ]
        }
      ]
    },
    {
      "cell_type": "code",
      "source": [
        "print(np.mean(DataFrame[DataFrame[\"Gender\"] == \"Male\"][\"ToDep\"]),np.mean(DataFrame[DataFrame[\"Gender\"] == \"Female\"][\"ToDep\"]))"
      ],
      "metadata": {
        "colab": {
          "base_uri": "https://localhost:8080/"
        },
        "id": "hbiJWr_Psmja",
        "outputId": "9fea398c-f8d0-4d4a-8622-5db231894190"
      },
      "execution_count": null,
      "outputs": [
        {
          "output_type": "stream",
          "name": "stdout",
          "text": [
            "7.816326530612245 8.4\n"
          ]
        }
      ]
    },
    {
      "cell_type": "code",
      "source": [
        "plt.boxplot([DataFrame[DataFrame[\"English_cate\"] == \"High\"][\"ToDep\"],DataFrame[DataFrame[\"English_cate\"] == \"Low\"][\"ToDep\"]])"
      ],
      "metadata": {
        "colab": {
          "base_uri": "https://localhost:8080/",
          "height": 612
        },
        "id": "vwJSEk0lsugV",
        "outputId": "219c072c-4cc6-48e7-db7a-31228819fec7"
      },
      "execution_count": null,
      "outputs": [
        {
          "output_type": "stream",
          "name": "stderr",
          "text": [
            "/usr/local/lib/python3.7/dist-packages/matplotlib/cbook/__init__.py:1376: VisibleDeprecationWarning: Creating an ndarray from ragged nested sequences (which is a list-or-tuple of lists-or-tuples-or ndarrays with different lengths or shapes) is deprecated. If you meant to do this, you must specify 'dtype=object' when creating the ndarray.\n",
            "  X = np.atleast_1d(X.T if isinstance(X, np.ndarray) else np.asarray(X))\n"
          ]
        },
        {
          "output_type": "execute_result",
          "data": {
            "text/plain": [
              "{'boxes': [<matplotlib.lines.Line2D at 0x7f2803f6cb90>,\n",
              "  <matplotlib.lines.Line2D at 0x7f2803e97290>],\n",
              " 'caps': [<matplotlib.lines.Line2D at 0x7f2803ec0510>,\n",
              "  <matplotlib.lines.Line2D at 0x7f2803fd0ed0>,\n",
              "  <matplotlib.lines.Line2D at 0x7f2803f3fa50>,\n",
              "  <matplotlib.lines.Line2D at 0x7f2803e3d550>],\n",
              " 'fliers': [<matplotlib.lines.Line2D at 0x7f2803e6bc50>,\n",
              "  <matplotlib.lines.Line2D at 0x7f2803e44250>],\n",
              " 'means': [],\n",
              " 'medians': [<matplotlib.lines.Line2D at 0x7f2803e76250>,\n",
              "  <matplotlib.lines.Line2D at 0x7f2803e3d190>],\n",
              " 'whiskers': [<matplotlib.lines.Line2D at 0x7f2804057150>,\n",
              "  <matplotlib.lines.Line2D at 0x7f280626a350>,\n",
              "  <matplotlib.lines.Line2D at 0x7f2803ec4190>,\n",
              "  <matplotlib.lines.Line2D at 0x7f2804097290>]}"
            ]
          },
          "metadata": {},
          "execution_count": 66
        },
        {
          "output_type": "display_data",
          "data": {
            "text/plain": [
              "<Figure size 432x288 with 1 Axes>"
            ],
            "image/png": "[encoded data removed]"
          },
          "metadata": {
            "needs_background": "light"
          }
        }
      ]
    },
    {
      "cell_type": "code",
      "source": [
        "scipy.stats.ttest_ind(DataFrame[DataFrame[\"English_cate\"] == \"High\"][\"ToAS\"],DataFrame[DataFrame[\"English_cate\"] == \"Low\"][\"ToAS\"])"
      ],
      "metadata": {
        "colab": {
          "base_uri": "https://localhost:8080/"
        },
        "id": "zZuubwxxsJuX",
        "outputId": "2a8a6a96-e6d1-488d-bb14-62f4472de377"
      },
      "execution_count": null,
      "outputs": [
        {
          "output_type": "execute_result",
          "data": {
            "text/plain": [
              "Ttest_indResult(statistic=1.3583776554393088, pvalue=0.17598912821951992)"
            ]
          },
          "metadata": {},
          "execution_count": 71
        }
      ]
    },
    {
      "cell_type": "code",
      "source": [
        "scipy.stats.ttest_ind(DataFrame[DataFrame[\"Gender\"] == \"Male\"][\"ToAS\"],DataFrame[DataFrame[\"Gender\"] == \"Female\"][\"ToAS\"],equal_var=0)"
      ],
      "metadata": {
        "colab": {
          "base_uri": "https://localhost:8080/"
        },
        "id": "m2kR7meYtt4z",
        "outputId": "70e36c8c-47b4-432a-b9dc-f261abe7b4ef"
      },
      "execution_count": null,
      "outputs": [
        {
          "output_type": "execute_result",
          "data": {
            "text/plain": [
              "Ttest_indResult(statistic=-1.8707914723192378, pvalue=0.06274958281051941)"
            ]
          },
          "metadata": {},
          "execution_count": 70
        }
      ]
    },
    {
      "cell_type": "code",
      "source": [
        "DataFrame.Internet_bi.value_counts()"
      ],
      "metadata": {
        "colab": {
          "base_uri": "https://localhost:8080/"
        },
        "id": "tYxVG59OrIMo",
        "outputId": "acf98ca2-fdf1-4000-ce77-015e47fad29d"
      },
      "execution_count": null,
      "outputs": [
        {
          "output_type": "execute_result",
          "data": {
            "text/plain": [
              "No     223\n",
              "Yes     45\n",
              "45       2\n",
              "223      2\n",
              "Name: Internet_bi, dtype: int64"
            ]
          },
          "metadata": {},
          "execution_count": 34
        }
      ]
    },
    {
      "cell_type": "code",
      "source": [
        "plt.scatter(DataFrame[\"Stay\"],DataFrame[\"Afear\"],alpha=0.1)"
      ],
      "metadata": {
        "colab": {
          "base_uri": "https://localhost:8080/",
          "height": 284
        },
        "id": "deiKhBSh3SIz",
        "outputId": "ad8e97d4-c053-4bf3-fd25-0d3913bc2aeb"
      },
      "execution_count": null,
      "outputs": [
        {
          "output_type": "execute_result",
          "data": {
            "text/plain": [
              "<matplotlib.collections.PathCollection at 0x7f280983cfd0>"
            ]
          },
          "metadata": {},
          "execution_count": 20
        },
        {
          "output_type": "display_data",
          "data": {
            "text/plain": [
              "<Figure size 432x288 with 1 Axes>"
            ],
            "image/png": "[encoded data removed]"
          },
          "metadata": {
            "needs_background": "light"
          }
        }
      ]
    },
    {
      "cell_type": "code",
      "source": [
        "import math"
      ],
      "metadata": {
        "id": "2ZZyOzrs4dbS"
      },
      "execution_count": 8,
      "outputs": []
    },
    {
      "cell_type": "code",
      "source": [
        "df2 = DataFrame#[DataFrame[\"Stay\"]<=6]\n",
        "x = np.array([[value for value in df2[\"Afear\"] if not math.isnan(value)]]).reshape(-1,1)\n",
        "y = [value for value in df2[\"ToDep\"] if not math.isnan(value)]\n",
        "\n",
        "from sklearn.linear_model import LinearRegression\n",
        "reg = LinearRegression().fit(x, y)\n",
        "\n",
        "xs = np.arange(2.5,17.5,0.2)\n",
        "plt.scatter(x, y,alpha=0.1)\n",
        "plt.plot(xs, xs*reg.coef_[0]+reg.intercept_)\n",
        "plt.title(\"Correlation Between Fear And Depression\")\n",
        "plt.xlabel(\"Total ASISS Fear Score\")\n",
        "plt.ylabel(\"Total PHQ-9\")"
      ],
      "metadata": {
        "colab": {
          "base_uri": "https://localhost:8080/",
          "height": 312
        },
        "id": "RLCKBXnM4ve7",
        "outputId": "424fdaa0-3b8e-4b7e-d243-6dcf8a1af7fb"
      },
      "execution_count": 13,
      "outputs": [
        {
          "output_type": "execute_result",
          "data": {
            "text/plain": [
              "Text(0, 0.5, 'Total PHQ-9')"
            ]
          },
          "metadata": {},
          "execution_count": 13
        },
        {
          "output_type": "display_data",
          "data": {
            "text/plain": [
              "<Figure size 432x288 with 1 Axes>"
            ],
            "image/png": "[encoded data removed]"
          },
          "metadata": {
            "needs_background": "light"
          }
        }
      ]
    },
    {
      "cell_type": "code",
      "source": [
        "scipy.stats.spearmanr(x,y) #RESULT OF Spearman’s"
      ],
      "metadata": {
        "id": "8xx7M11styP-",
        "outputId": "2186f14f-9e4e-497e-81b9-f0e90bde3352",
        "colab": {
          "base_uri": "https://localhost:8080/"
        }
      },
      "execution_count": 14,
      "outputs": [
        {
          "output_type": "execute_result",
          "data": {
            "text/plain": [
              "SpearmanrResult(correlation=0.3907004185267795, pvalue=3.320828877072475e-11)"
            ]
          },
          "metadata": {},
          "execution_count": 14
        }
      ]
    },
    {
      "cell_type": "code",
      "source": [
        "3.320828877072475e-11*2"
      ],
      "metadata": {
        "colab": {
          "base_uri": "https://localhost:8080/"
        },
        "id": "9QksaKNlAIb-",
        "outputId": "4bd5324e-39cb-4c7c-b499-06dae0225763"
      },
      "execution_count": 15,
      "outputs": [
        {
          "output_type": "execute_result",
          "data": {
            "text/plain": [
              "6.64165775414495e-11"
            ]
          },
          "metadata": {},
          "execution_count": 15
        }
      ]
    },
    {
      "cell_type": "code",
      "source": [
        "reg.coef_"
      ],
      "metadata": {
        "colab": {
          "base_uri": "https://localhost:8080/"
        },
        "id": "J6L3MVhv53zT",
        "outputId": "a00030bf-be91-445e-db58-e53fb179a04d"
      },
      "execution_count": null,
      "outputs": [
        {
          "output_type": "execute_result",
          "data": {
            "text/plain": [
              "array([-0.29607538])"
            ]
          },
          "metadata": {},
          "execution_count": 40
        }
      ]
    },
    {
      "cell_type": "code",
      "source": [
        "np.array(y).shape"
      ],
      "metadata": {
        "id": "iwAtLoLC_PZv",
        "colab": {
          "base_uri": "https://localhost:8080/"
        },
        "outputId": "f8d5039a-744a-414e-cff2-554c029bd7a2"
      },
      "execution_count": null,
      "outputs": [
        {
          "output_type": "execute_result",
          "data": {
            "text/plain": [
              "(268,)"
            ]
          },
          "metadata": {},
          "execution_count": 34
        }
      ]
    },
    {
      "cell_type": "code",
      "source": [
        "ret = scipy.stats.linregress(x.reshape(-1),np.array(y))#ereshape -1 bushi 1 -1 eixnchoahuangberen exinkoukeyahci bieren dianhuaynpi"
      ],
      "metadata": {
        "id": "tWm8sWbg-lje"
      },
      "execution_count": null,
      "outputs": []
    },
    {
      "cell_type": "code",
      "source": [
        "ret"
      ],
      "metadata": {
        "colab": {
          "base_uri": "https://localhost:8080/"
        },
        "id": "UHyMqwDHBck7",
        "outputId": "2de14530-1df1-4449-8fc5-6ab9acaa8662"
      },
      "execution_count": null,
      "outputs": [
        {
          "output_type": "execute_result",
          "data": {
            "text/plain": [
              "LinregressResult(slope=-0.20510417417633964, intercept=8.935044337106195, rvalue=-0.03645150913166049, pvalue=0.5524150412502756, stderr=0.3447699844580074)"
            ]
          },
          "metadata": {},
          "execution_count": 19
        }
      ]
    },
    {
      "cell_type": "code",
      "source": [
        ""
      ],
      "metadata": {
        "id": "alHDtTBVBq6p"
      },
      "execution_count": null,
      "outputs": []
    },
    {
      "cell_type": "code",
      "source": [
        "slope,reg.coef_#koukequeshiyiyang"
      ],
      "metadata": {
        "id": "EucVC_NO-xU9"
      },
      "execution_count": null,
      "outputs": []
    },
    {
      "cell_type": "code",
      "source": [
        "std_err#yanpi zhege r buyiyang r ^2 yanpi "
      ],
      "metadata": {
        "colab": {
          "base_uri": "https://localhost:8080/",
          "height": 165
        },
        "id": "GMTWrhnO-5ED",
        "outputId": "909adc26-4110-434b-e61e-3a7d814d07c0"
      },
      "execution_count": null,
      "outputs": [
        {
          "output_type": "error",
          "ename": "NameError",
          "evalue": "ignored",
          "traceback": [
            "\u001b[0;31m---------------------------------------------------------------------------\u001b[0m",
            "\u001b[0;31mNameError\u001b[0m                                 Traceback (most recent call last)",
            "\u001b[0;32m<ipython-input-8-cd65c9291177>\u001b[0m in \u001b[0;36m<module>\u001b[0;34m()\u001b[0m\n\u001b[0;32m----> 1\u001b[0;31m \u001b[0mstd_err\u001b[0m\u001b[0;31m#yanpi zhege r buyiyang r ^2 yanpi\u001b[0m\u001b[0;34m\u001b[0m\u001b[0;34m\u001b[0m\u001b[0m\n\u001b[0m",
            "\u001b[0;31mNameError\u001b[0m: name 'std_err' is not defined"
          ]
        }
      ]
    },
    {
      "cell_type": "code",
      "source": [
        "DataFrame[\"Dep\"].value_counts()"
      ],
      "metadata": {
        "colab": {
          "base_uri": "https://localhost:8080/"
        },
        "id": "6l_scXRAbXV-",
        "outputId": "264f0ed0-5655-48c8-8d3f-f7de2e9de969"
      },
      "execution_count": null,
      "outputs": [
        {
          "output_type": "execute_result",
          "data": {
            "text/plain": [
              "No     172\n",
              "Yes     96\n",
              "96       1\n",
              "172      1\n",
              "Name: Dep, dtype: int64"
            ]
          },
          "metadata": {},
          "execution_count": 56
        }
      ]
    },
    {
      "cell_type": "code",
      "source": [
        "UnderOberseved = Under[\"Dep\"].value_counts()[\"Yes\"]\n",
        "GradOberseved = Grad[\"Dep\"].value_counts()[\"Yes\"]\n",
        "UnderExp = DataFrame[\"Dep\"].value_counts()[\"Yes\"]/len(DataFrame) * len(Under)\n",
        "GradExp = DataFrame[\"Dep\"].value_counts()[\"Yes\"]/len(DataFrame) * len(Grad)"
      ],
      "metadata": {
        "id": "8aItCAJHcm8d"
      },
      "execution_count": null,
      "outputs": []
    },
    {
      "cell_type": "code",
      "source": [
        "print(UnderOberseved,UnderExp)\n",
        "print(GradOberseved,GradExp)"
      ],
      "metadata": {
        "colab": {
          "base_uri": "https://localhost:8080/"
        },
        "id": "QeK6qCsRdDG0",
        "outputId": "e9c2e404-7119-4373-a646-76080a9e8d9c"
      },
      "execution_count": null,
      "outputs": [
        {
          "output_type": "stream",
          "name": "stdout",
          "text": [
            "91 82.9090909090909\n",
            "5 7.048951048951049\n"
          ]
        }
      ]
    },
    {
      "cell_type": "code",
      "source": [
        "scipy.stats.chisquare([UnderOberseved, GradOberseved],[UnderExp, GradExp])"
      ],
      "metadata": {
        "colab": {
          "base_uri": "https://localhost:8080/"
        },
        "id": "lJ-SzX8EdkD5",
        "outputId": "7a1c8d80-5173-490f-b902-303a760c4a1a"
      },
      "execution_count": null,
      "outputs": [
        {
          "output_type": "execute_result",
          "data": {
            "text/plain": [
              "Power_divergenceResult(statistic=1.2736769554395033, pvalue=0.2590780172847901)"
            ]
          },
          "metadata": {},
          "execution_count": 58
        }
      ]
    },
    {
      "cell_type": "code",
      "source": [
        "scipy.stats.mannwhitneyu(Under[\"ToDep\"],Grad[\"ToDep\"])"
      ],
      "metadata": {
        "colab": {
          "base_uri": "https://localhost:8080/"
        },
        "id": "UGV-9cxYgMxs",
        "outputId": "39bed51b-8b1e-42e0-e892-f8ac2c20bf7d"
      },
      "execution_count": null,
      "outputs": [
        {
          "output_type": "execute_result",
          "data": {
            "text/plain": [
              "MannwhitneyuResult(statistic=1607.5, pvalue=0.0018835062946156987)"
            ]
          },
          "metadata": {},
          "execution_count": 59
        }
      ]
    },
    {
      "cell_type": "code",
      "source": [
        "scipy.stats.mannwhitneyu(DataFrame[DataFrame[\"Intimate\"] == \"Yes\"][\"ToDep\"],DataFrame[DataFrame[\"Intimate\"] == \"No\"][\"ToDep\"]) #huxiyachhizhangkuntt zhege juranmeiyou xianggunaxng??"
      ],
      "metadata": {
        "colab": {
          "base_uri": "https://localhost:8080/"
        },
        "id": "cvdXjfUf5ijS",
        "outputId": "62fdf1a8-9bcc-4fb7-fbe2-a8202447c58f"
      },
      "execution_count": null,
      "outputs": [
        {
          "output_type": "execute_result",
          "data": {
            "text/plain": [
              "MannwhitneyuResult(statistic=7560.0, pvalue=0.1874197953619176)"
            ]
          },
          "metadata": {},
          "execution_count": 18
        }
      ]
    },
    {
      "cell_type": "code",
      "source": [
        "plt.hist(DataFrame[DataFrame[\"Intimate\"] == \"Yes\"][\"ToDep\"],bins=np.arange(0,25))\n",
        "plt.title(\"Hist Of Undergrad Student\")\n",
        "plt.xlabel(\"PHQ-9 Score\")\n",
        "plt.ylabel(\"Number of People\")"
      ],
      "metadata": {
        "colab": {
          "base_uri": "https://localhost:8080/",
          "height": 312
        },
        "id": "kGwHJ4sAj4JE",
        "outputId": "f0c333a3-e211-4522-fdde-0a4d60390746"
      },
      "execution_count": null,
      "outputs": [
        {
          "output_type": "execute_result",
          "data": {
            "text/plain": [
              "Text(0, 0.5, 'Number of People')"
            ]
          },
          "metadata": {},
          "execution_count": 16
        },
        {
          "output_type": "display_data",
          "data": {
            "text/plain": [
              "<Figure size 432x288 with 1 Axes>"
            ],
            "image/png": "[encoded data removed]"
          },
          "metadata": {
            "needs_background": "light"
          }
        }
      ]
    },
    {
      "cell_type": "code",
      "source": [
        "plt.hist(DataFrame[DataFrame[\"Intimate\"] == \"No\"][\"ToDep\"],bins=np.arange(0,25))\n",
        "plt.title(\"Hist Of Grad Student\")\n",
        "plt.xlabel(\"PHQ-9 Score\")\n",
        "plt.ylabel(\"Number of People\")"
      ],
      "metadata": {
        "colab": {
          "base_uri": "https://localhost:8080/",
          "height": 312
        },
        "id": "dwhYxMepj7cb",
        "outputId": "f14aa39e-a07b-44bb-f1dc-b770079016d2"
      },
      "execution_count": null,
      "outputs": [
        {
          "output_type": "execute_result",
          "data": {
            "text/plain": [
              "Text(0, 0.5, 'Number of People')"
            ]
          },
          "metadata": {},
          "execution_count": 17
        },
        {
          "output_type": "display_data",
          "data": {
            "text/plain": [
              "<Figure size 432x288 with 1 Axes>"
            ],
            "image/png": "[encoded data removed]"
          },
          "metadata": {
            "needs_background": "light"
          }
        }
      ]
    },
    {
      "cell_type": "code",
      "source": [
        ""
      ],
      "metadata": {
        "colab": {
          "base_uri": "https://localhost:8080/"
        },
        "id": "_EJdIZZjrJ2M",
        "outputId": "448a5866-82f4-4c51-8455-4183c39c4d04"
      },
      "execution_count": null,
      "outputs": [
        {
          "output_type": "execute_result",
          "data": {
            "text/plain": [
              "SpearmanrResult(correlation=0.03215543517949416, pvalue=0.6002213889680279)"
            ]
          },
          "metadata": {},
          "execution_count": 21
        }
      ]
    },
    {
      "cell_type": "code",
      "source": [
        "np.version.full_version # scipy evrsion"
      ],
      "metadata": {
        "colab": {
          "base_uri": "https://localhost:8080/",
          "height": 35
        },
        "id": "fuQPPKfwuwXt",
        "outputId": "36b986a4-5114-43b8-a070-245fd7223730"
      },
      "execution_count": null,
      "outputs": [
        {
          "output_type": "execute_result",
          "data": {
            "text/plain": [
              "'1.21.6'"
            ],
            "application/vnd.google.colaboratory.intrinsic+json": {
              "type": "string"
            }
          },
          "metadata": {},
          "execution_count": 26
        }
      ]
    },
    {
      "cell_type": "code",
      "source": [
        "scipy.version.full_version"
      ],
      "metadata": {
        "colab": {
          "base_uri": "https://localhost:8080/",
          "height": 35
        },
        "id": "MWJeSpM5vvcl",
        "outputId": "4efc64de-f111-482c-c7e5-071d31ed74ab"
      },
      "execution_count": null,
      "outputs": [
        {
          "output_type": "execute_result",
          "data": {
            "text/plain": [
              "'1.7.3'"
            ],
            "application/vnd.google.colaboratory.intrinsic+json": {
              "type": "string"
            }
          },
          "metadata": {},
          "execution_count": 8
        }
      ]
    },
    {
      "cell_type": "code",
      "source": [
        "InPutNum = [\"Japanese\",\"English\",\"Age\",\"Stay\"]\n",
        "InPutCat = [\"Intimate\",\"Gender\",\"inter_dom\",\"Religion\",\"Academic\"]\n",
        "# DataFrame[InPutCat]\n",
        "newData = {}\n",
        "newData[\"Intimate\"] = DataFrame[\"Intimate\"].replace(\"Yes\",1).replace(\"No\",0).replace(math.nan,-1) #zhegebuhaomakunduzitthl\n",
        "newData[\"Gender\"] = DataFrame[\"Gender\"].replace(\"Male\",1).replace(\"Female\",0).replace(math.nan,-1)\n",
        "newData[\"inter_dom\"] = DataFrame[\"inter_dom\"].replace(\"Inter\",1).replace(\"Dom\",0).replace(math.nan,-1)\n",
        "newData[\"Religion\"] = DataFrame[\"Religion\"].replace(\"Yes\",1).replace(\"No\",0).replace(math.nan,-1)\n",
        "newData[\"Academic\"] = DataFrame[\"Academic\"].replace(\"Under\",1).replace(\"Grad\",0).replace(math.nan,-1)\n",
        "newData[\"Japanese\"] = DataFrame[\"Japanese\"].replace(math.nan,-1)\n",
        "newData[\"English\"] = DataFrame[\"English\"].replace(math.nan,-1)\n",
        "newData[\"Age\"] = DataFrame[\"Age\"].replace(math.nan,-1)\n",
        "newData[\"Stay\"] = DataFrame[\"Stay\"].replace(math.nan,-1)\n",
        "\n",
        "# X = np.array([Japanese,English,Age,Stay,Intimate,Gender,inter_dom,Religion,Academic])\n",
        "X = np.array(pd.DataFrame(newData))\n",
        "# X = X.reshape(-1,X.shape[0])\n",
        "Y = np.array([DataFrame[\"ToDep\"]])\n",
        "# Y = np.array([DataFrame[\"Dep\"].replace(\"Yes\",1).replace(\"No\",0).replace(math.nan,-1)])"
      ],
      "metadata": {
        "id": "RqdUinWtz6GD"
      },
      "execution_count": null,
      "outputs": []
    },
    {
      "cell_type": "code",
      "source": [
        ""
      ],
      "metadata": {
        "id": "BFhsjAvF-qJR"
      },
      "execution_count": null,
      "outputs": []
    },
    {
      "cell_type": "code",
      "source": [
        "X[0]"
      ],
      "metadata": {
        "colab": {
          "base_uri": "https://localhost:8080/"
        },
        "id": "YsQgM6909Eo4",
        "outputId": "031c4566-0889-4724-b83c-bcce7f5ac3fc"
      },
      "execution_count": null,
      "outputs": [
        {
          "output_type": "execute_result",
          "data": {
            "text/plain": [
              "array([3., 4., 4., 2., 1., 3., 3., 1., 4.])"
            ]
          },
          "metadata": {},
          "execution_count": 83
        }
      ]
    },
    {
      "cell_type": "code",
      "source": [
        "Y"
      ],
      "metadata": {
        "colab": {
          "base_uri": "https://localhost:8080/"
        },
        "id": "NgGHmNks9Twz",
        "outputId": "ff0d5903-bebd-485b-a6e7-63fc6bb035e4"
      },
      "execution_count": null,
      "outputs": [
        {
          "output_type": "execute_result",
          "data": {
            "text/plain": [
              "array([['No', 'No', 'No', 'No', 'No', 'No', 'No', 'No', 'Yes', 'No',\n",
              "        'No', 'No', 'No', 'No', 'No', 'Yes', 'No', 'No', 'No', 'No',\n",
              "        'No', 'No', 'Yes', 'No', 'Yes', 'Yes', 'Yes', 'No', 'No', 'No',\n",
              "        'Yes', 'No', 'No', 'No', 'No', 'Yes', 'No', 'Yes', 'Yes', 'Yes',\n",
              "        'No', 'No', 'No', 'Yes', 'No', 'Yes', 'Yes', 'No', 'No', 'Yes',\n",
              "        'Yes', 'No', 'No', 'No', 'No', 'Yes', 'Yes', 'No', 'Yes', 'No',\n",
              "        'No', 'No', 'Yes', 'No', 'No', 'No', 'Yes', 'No', 'No', 'Yes',\n",
              "        'Yes', 'No', 'No', 'No', 'No', 'Yes', 'No', 'Yes', 'Yes', 'Yes',\n",
              "        'No', 'Yes', 'No', 'No', 'Yes', 'Yes', 'No', 'No', 'No', 'Yes',\n",
              "        'No', 'No', 'No', 'Yes', 'Yes', 'Yes', 'Yes', 'No', 'No', 'Yes',\n",
              "        'No', 'Yes', 'No', 'No', 'No', 'Yes', 'Yes', 'Yes', 'No', 'No',\n",
              "        'No', 'Yes', 'No', 'Yes', 'No', 'Yes', 'No', 'No', 'No', 'No',\n",
              "        'Yes', 'Yes', 'No', 'No', 'No', 'No', 'No', 'Yes', 'No', 'No',\n",
              "        'Yes', 'No', 'Yes', 'No', 'Yes', 'Yes', 'No', 'No', 'No', 'Yes',\n",
              "        'No', 'No', 'Yes', 'No', 'Yes', 'No', 'No', 'No', 'Yes', 'No',\n",
              "        'Yes', 'No', 'No', 'No', 'No', 'No', 'Yes', 'No', 'No', 'Yes',\n",
              "        'No', 'Yes', 'No', 'No', 'Yes', 'No', 'Yes', 'Yes', 'No', 'No',\n",
              "        'No', 'Yes', 'Yes', 'No', 'Yes', 'No', 'Yes', 'No', 'No', 'No',\n",
              "        'Yes', 'Yes', 'Yes', 'Yes', 'No', 'Yes', 'No', 'Yes', 'Yes',\n",
              "        'No', 'Yes', 'No', 'No', 'Yes', 'No', 'Yes', 'No', 'No', 'Yes',\n",
              "        'No', 'No', 'Yes', 'No', 'No', 'No', 'Yes', 'No', 'No', 'No',\n",
              "        'Yes', 'Yes', 'No', 'Yes', 'Yes', 'Yes', 'No', 'No', 'Yes', 'No',\n",
              "        'No', 'No', 'No', 'No', 'No', 'No', 'No', 'No', 'Yes', 'Yes',\n",
              "        'No', 'Yes', 'No', 'No', 'Yes', 'No', 'Yes', 'No', 'Yes', 'No',\n",
              "        'No', 'No', 'Yes', 'No', 'No', 'No', 'No', 'No', 'No', 'No',\n",
              "        'Yes', 'No', 'Yes', 'No', 'No', 'No', 'No', 'Yes', 'No', 'No',\n",
              "        'Yes', 'Yes', 'No', 'No', 'No', 'No', 'No', 'No', 'No', nan,\n",
              "        '96', '172', nan, nan, nan, nan, nan, nan, nan, nan, nan, nan,\n",
              "        nan, nan, nan, nan, nan]], dtype=object)"
            ]
          },
          "metadata": {},
          "execution_count": 109
        }
      ]
    },
    {
      "cell_type": "code",
      "source": [
        "X2 = X[:-18]"
      ],
      "metadata": {
        "id": "YrLvwkbA9jUV"
      },
      "execution_count": null,
      "outputs": []
    },
    {
      "cell_type": "code",
      "source": [
        "Y2 = Y[:,:-18]"
      ],
      "metadata": {
        "id": "WtaAsXcl9oFF"
      },
      "execution_count": null,
      "outputs": []
    },
    {
      "cell_type": "code",
      "source": [
        "Y2 = Y2.reshape(-1,1)"
      ],
      "metadata": {
        "id": "3u5EVn1n9qZN"
      },
      "execution_count": null,
      "outputs": []
    },
    {
      "cell_type": "code",
      "source": [
        "Y2"
      ],
      "metadata": {
        "colab": {
          "base_uri": "https://localhost:8080/"
        },
        "id": "AO4YnDXj-AAm",
        "outputId": "7ba8b46a-8f19-4090-ff45-c583f42006cb"
      },
      "execution_count": null,
      "outputs": [
        {
          "output_type": "execute_result",
          "data": {
            "text/plain": [
              "array([[ 0.,  2.,  2.,  3.,  3.,  6.,  3.,  9.,  7.,  3.,  5.,  8.,  1.,\n",
              "         3.,  9.,  6.,  3.,  3.,  7.,  1.,  4.,  3., 13.,  1.,  8., 10.,\n",
              "        13.,  9.,  6.,  7., 10.,  9.,  9.,  2.,  9., 14.,  4., 14., 13.,\n",
              "        15.,  6.,  4., 10., 12.,  6.,  7., 13.,  2.,  0.,  6., 19.,  9.,\n",
              "        10.,  8.,  5.,  8., 17., 12.,  8.,  7.,  5.,  2.,  8.,  7.,  5.,\n",
              "         9., 11.,  9.,  5., 14.,  9.,  5.,  6.,  4.,  2., 10., 11., 10.,\n",
              "        13.,  6.,  6., 10.,  2.,  0., 13., 13.,  8.,  8.,  2., 13.,  3.,\n",
              "         4.,  1.,  6., 17., 21., 14.,  4., 12., 10.,  3.,  6.,  9.,  9.,\n",
              "         7., 25., 19., 11.,  8., 10.,  5., 10.,  2.,  9.,  3., 17.,  6.,\n",
              "         5.,  0.,  6., 14.,  9.,  9.,  3.,  6.,  0.,  8., 10.,  8.,  3.,\n",
              "        13.,  1., 13., 11., 14., 14.,  7., 11., 11., 17.,  6.,  9., 10.,\n",
              "         4., 12.,  0.,  8.,  8., 13.,  5., 10.,  0.,  9.,  5.,  4.,  0.,\n",
              "         8.,  7., 11., 10.,  7., 11.,  4.,  7.,  9.,  1., 11., 13.,  0.,\n",
              "        11.,  6.,  7.,  7.,  9., 24.,  6., 11.,  7.,  3.,  4.,  8., 22.,\n",
              "        12., 15.,  5., 22.,  6., 13., 11.,  9., 10.,  4., 12., 16.,  3.,\n",
              "        17.,  6.,  7., 16.,  8.,  2., 12.,  9.,  7.,  3., 10.,  6.,  6.,\n",
              "         0., 13.,  9.,  7., 20., 21., 23.,  2., 13.,  7., 11.,  5.,  1.,\n",
              "         8.,  8., 11., 11.,  0.,  8., 16.,  7.,  2., 14.,  9., 10., 15.,\n",
              "        10., 12., 11., 11., 10.,  3.,  4., 18.,  9.,  5.,  2.,  7., 10.,\n",
              "         7.,  6.,  9.,  2., 13., 10.,  9.,  6.,  0., 13.,  9.,  9., 17.,\n",
              "        13.,  0., 11.,  8.,  2.,  9.,  1.,  7.]])"
            ]
          },
          "metadata": {},
          "execution_count": 95
        }
      ]
    },
    {
      "cell_type": "code",
      "source": [
        "import tensorflow as tf\n",
        "\n",
        "import os\n",
        "import tensorflow_datasets as tfds\n",
        "import numpy as np\n",
        "from PIL import Image\n",
        "\n",
        "import matplotlib.pyplot as plt\n",
        "import matplotlib.patches as patches"
      ],
      "metadata": {
        "id": "Y8vs2Xn_8lyQ"
      },
      "execution_count": null,
      "outputs": []
    },
    {
      "cell_type": "code",
      "source": [
        "model = tf.keras.models.Sequential([\n",
        "  tf.keras.layers.Input(9),\n",
        "  tf.keras.layers.Dense(20, activation='relu'),\n",
        "  tf.keras.layers.Dense(30, activation='relu'),\n",
        "  tf.keras.layers.Dense(20, activation='relu'),\n",
        "  tf.keras.layers.Dense(10, activation='relu'),\n",
        "  tf.keras.layers.Dense(5, activation='relu'),\n",
        "  tf.keras.layers.Dense(2, activation='relu'),\n",
        "  tf.keras.layers.Dense(1),\n",
        "])\n",
        "model.summary()\n",
        "# print(model.output_shape)\n",
        "model.compile(optimizer=tf.keras.optimizers.Adam(0.01),\n",
        "          # loss='binary_cross_entropy ',metrics=[\"accuracy\"])\n",
        "          loss='mean_squared_error')#spacekaahzangkunshouhzikkas\n",
        "#wangjile relu xjiu yachi unjiabusuankunxueya hlon ap tt zuo sigmoid caixiangqilaixueyahengaokoukekun shoulachaojikun unbuzaihuwoyouqidtashiqingkunshouyuenxin zhegenan"
      ],
      "metadata": {
        "colab": {
          "base_uri": "https://localhost:8080/"
        },
        "id": "ahcONXKK8nWl",
        "outputId": "f4ddb798-33bf-42d8-c5a4-ad6302984623"
      },
      "execution_count": null,
      "outputs": [
        {
          "output_type": "stream",
          "name": "stdout",
          "text": [
            "Model: \"sequential_15\"\n",
            "_________________________________________________________________\n",
            " Layer (type)                Output Shape              Param #   \n",
            "=================================================================\n",
            " dense_105 (Dense)           (None, 20)                200       \n",
            "                                                                 \n",
            " dense_106 (Dense)           (None, 30)                630       \n",
            "                                                                 \n",
            " dense_107 (Dense)           (None, 20)                620       \n",
            "                                                                 \n",
            " dense_108 (Dense)           (None, 10)                210       \n",
            "                                                                 \n",
            " dense_109 (Dense)           (None, 5)                 55        \n",
            "                                                                 \n",
            " dense_110 (Dense)           (None, 2)                 12        \n",
            "                                                                 \n",
            " dense_111 (Dense)           (None, 1)                 3         \n",
            "                                                                 \n",
            "=================================================================\n",
            "Total params: 1,730\n",
            "Trainable params: 1,730\n",
            "Non-trainable params: 0\n",
            "_________________________________________________________________\n"
          ]
        }
      ]
    },
    {
      "cell_type": "code",
      "source": [
        "model.fit(X2,Y2,epochs=1000,validation_split=0.1)"
      ],
      "metadata": {
        "colab": {
          "base_uri": "https://localhost:8080/"
        },
        "id": "8Jy5yukk8wGW",
        "outputId": "3e827140-cbbb-412d-faee-0959b185b5b0"
      },
      "execution_count": null,
      "outputs": [
        {
          "output_type": "stream",
          "name": "stdout",
          "text": [
            "Epoch 1/1000\n",
            "8/8 [==============================] - 1s 24ms/step - loss: 93.3994 - val_loss: 82.0122\n",
            "Epoch 2/1000\n",
            "8/8 [==============================] - 0s 7ms/step - loss: 90.5718 - val_loss: 80.7864\n",
            "Epoch 3/1000\n",
            "8/8 [==============================] - 0s 7ms/step - loss: 89.2852 - val_loss: 79.5781\n",
            "Epoch 4/1000\n",
            "8/8 [==============================] - 0s 6ms/step - loss: 88.0386 - val_loss: 78.3776\n",
            "Epoch 5/1000\n",
            "8/8 [==============================] - 0s 7ms/step - loss: 86.7833 - val_loss: 77.2126\n",
            "Epoch 6/1000\n",
            "8/8 [==============================] - 0s 7ms/step - loss: 85.5733 - val_loss: 76.0549\n",
            "Epoch 7/1000\n",
            "8/8 [==============================] - 0s 8ms/step - loss: 84.3555 - val_loss: 74.9167\n",
            "Epoch 8/1000\n",
            "8/8 [==============================] - 0s 7ms/step - loss: 83.1554 - val_loss: 73.7990\n",
            "Epoch 9/1000\n",
            "8/8 [==============================] - 0s 6ms/step - loss: 81.9934 - val_loss: 72.6838\n",
            "Epoch 10/1000\n",
            "8/8 [==============================] - 0s 6ms/step - loss: 80.8345 - val_loss: 71.5822\n",
            "Epoch 11/1000\n",
            "8/8 [==============================] - 0s 6ms/step - loss: 79.6623 - val_loss: 70.5207\n",
            "Epoch 12/1000\n",
            "8/8 [==============================] - 0s 7ms/step - loss: 78.5481 - val_loss: 69.4579\n",
            "Epoch 13/1000\n",
            "8/8 [==============================] - 0s 7ms/step - loss: 77.4562 - val_loss: 68.4043\n",
            "Epoch 14/1000\n",
            "8/8 [==============================] - 0s 7ms/step - loss: 76.3523 - val_loss: 67.3863\n",
            "Epoch 15/1000\n",
            "8/8 [==============================] - 0s 7ms/step - loss: 75.2812 - val_loss: 66.3911\n",
            "Epoch 16/1000\n",
            "8/8 [==============================] - 0s 6ms/step - loss: 74.2383 - val_loss: 65.4033\n",
            "Epoch 17/1000\n",
            "8/8 [==============================] - 0s 6ms/step - loss: 73.2019 - val_loss: 64.4248\n",
            "Epoch 18/1000\n",
            "8/8 [==============================] - 0s 7ms/step - loss: 72.1685 - val_loss: 63.4727\n",
            "Epoch 19/1000\n",
            "8/8 [==============================] - 0s 6ms/step - loss: 71.1883 - val_loss: 62.5247\n",
            "Epoch 20/1000\n",
            "8/8 [==============================] - 0s 6ms/step - loss: 70.1715 - val_loss: 61.6162\n",
            "Epoch 21/1000\n",
            "8/8 [==============================] - 0s 6ms/step - loss: 69.2215 - val_loss: 60.7088\n",
            "Epoch 22/1000\n",
            "8/8 [==============================] - 0s 6ms/step - loss: 68.2637 - val_loss: 59.8086\n",
            "Epoch 23/1000\n",
            "8/8 [==============================] - 0s 6ms/step - loss: 67.3176 - val_loss: 58.9282\n",
            "Epoch 24/1000\n",
            "8/8 [==============================] - 0s 5ms/step - loss: 66.3772 - val_loss: 58.0683\n",
            "Epoch 25/1000\n",
            "8/8 [==============================] - 0s 7ms/step - loss: 65.4734 - val_loss: 57.2030\n",
            "Epoch 26/1000\n",
            "8/8 [==============================] - 0s 6ms/step - loss: 64.5664 - val_loss: 56.3657\n",
            "Epoch 27/1000\n",
            "8/8 [==============================] - 0s 6ms/step - loss: 63.6858 - val_loss: 55.5439\n",
            "Epoch 28/1000\n",
            "8/8 [==============================] - 0s 5ms/step - loss: 62.8194 - val_loss: 54.7420\n",
            "Epoch 29/1000\n",
            "8/8 [==============================] - 0s 6ms/step - loss: 61.9805 - val_loss: 53.9488\n",
            "Epoch 30/1000\n",
            "8/8 [==============================] - 0s 6ms/step - loss: 61.1157 - val_loss: 53.1837\n",
            "Epoch 31/1000\n",
            "8/8 [==============================] - 0s 5ms/step - loss: 60.3235 - val_loss: 52.4093\n",
            "Epoch 32/1000\n",
            "8/8 [==============================] - 0s 6ms/step - loss: 59.5006 - val_loss: 51.6627\n",
            "Epoch 33/1000\n",
            "8/8 [==============================] - 0s 6ms/step - loss: 58.7192 - val_loss: 50.9219\n",
            "Epoch 34/1000\n",
            "8/8 [==============================] - 0s 6ms/step - loss: 57.9300 - val_loss: 50.2017\n",
            "Epoch 35/1000\n",
            "8/8 [==============================] - 0s 6ms/step - loss: 57.1684 - val_loss: 49.4994\n",
            "Epoch 36/1000\n",
            "8/8 [==============================] - 0s 6ms/step - loss: 56.4219 - val_loss: 48.8077\n",
            "Epoch 37/1000\n",
            "8/8 [==============================] - 0s 6ms/step - loss: 55.7003 - val_loss: 48.1209\n",
            "Epoch 38/1000\n",
            "8/8 [==============================] - 0s 7ms/step - loss: 54.9647 - val_loss: 47.4620\n",
            "Epoch 39/1000\n",
            "8/8 [==============================] - 0s 7ms/step - loss: 54.2540 - val_loss: 46.8208\n",
            "Epoch 40/1000\n",
            "8/8 [==============================] - 0s 6ms/step - loss: 53.5728 - val_loss: 46.1793\n",
            "Epoch 41/1000\n",
            "8/8 [==============================] - 0s 6ms/step - loss: 52.8762 - val_loss: 45.5534\n",
            "Epoch 42/1000\n",
            "8/8 [==============================] - 0s 5ms/step - loss: 52.2184 - val_loss: 44.9223\n",
            "Epoch 43/1000\n",
            "8/8 [==============================] - 0s 6ms/step - loss: 51.5377 - val_loss: 44.3237\n",
            "Epoch 44/1000\n",
            "8/8 [==============================] - 0s 6ms/step - loss: 50.8991 - val_loss: 43.7291\n",
            "Epoch 45/1000\n",
            "8/8 [==============================] - 0s 6ms/step - loss: 50.2567 - val_loss: 43.1558\n",
            "Epoch 46/1000\n",
            "8/8 [==============================] - 0s 6ms/step - loss: 49.6434 - val_loss: 42.5836\n",
            "Epoch 47/1000\n",
            "8/8 [==============================] - 0s 6ms/step - loss: 49.0358 - val_loss: 42.0233\n",
            "Epoch 48/1000\n",
            "8/8 [==============================] - 0s 8ms/step - loss: 48.4484 - val_loss: 41.4685\n",
            "Epoch 49/1000\n",
            "8/8 [==============================] - 0s 5ms/step - loss: 47.8414 - val_loss: 40.9334\n",
            "Epoch 50/1000\n",
            "8/8 [==============================] - 0s 6ms/step - loss: 47.2686 - val_loss: 40.4064\n",
            "Epoch 51/1000\n",
            "8/8 [==============================] - 0s 7ms/step - loss: 46.7063 - val_loss: 39.8940\n",
            "Epoch 52/1000\n",
            "8/8 [==============================] - 0s 6ms/step - loss: 46.1524 - val_loss: 39.3918\n",
            "Epoch 53/1000\n",
            "8/8 [==============================] - 0s 6ms/step - loss: 45.6022 - val_loss: 38.9040\n",
            "Epoch 54/1000\n",
            "8/8 [==============================] - 0s 6ms/step - loss: 45.0765 - val_loss: 38.4202\n",
            "Epoch 55/1000\n",
            "8/8 [==============================] - 0s 6ms/step - loss: 44.5605 - val_loss: 37.9497\n",
            "Epoch 56/1000\n",
            "8/8 [==============================] - 0s 6ms/step - loss: 44.0473 - val_loss: 37.4926\n",
            "Epoch 57/1000\n",
            "8/8 [==============================] - 0s 6ms/step - loss: 43.5570 - val_loss: 37.0395\n",
            "Epoch 58/1000\n",
            "8/8 [==============================] - 0s 6ms/step - loss: 43.0584 - val_loss: 36.6046\n",
            "Epoch 59/1000\n",
            "8/8 [==============================] - 0s 6ms/step - loss: 42.5797 - val_loss: 36.1769\n",
            "Epoch 60/1000\n",
            "8/8 [==============================] - 0s 6ms/step - loss: 42.1183 - val_loss: 35.7524\n",
            "Epoch 61/1000\n",
            "8/8 [==============================] - 0s 5ms/step - loss: 41.6458 - val_loss: 35.3460\n",
            "Epoch 62/1000\n",
            "8/8 [==============================] - 0s 5ms/step - loss: 41.2158 - val_loss: 34.9374\n",
            "Epoch 63/1000\n",
            "8/8 [==============================] - 0s 5ms/step - loss: 40.7713 - val_loss: 34.5455\n",
            "Epoch 64/1000\n",
            "8/8 [==============================] - 0s 7ms/step - loss: 40.3438 - val_loss: 34.1616\n",
            "Epoch 65/1000\n",
            "8/8 [==============================] - 0s 5ms/step - loss: 39.9192 - val_loss: 33.7879\n",
            "Epoch 66/1000\n",
            "8/8 [==============================] - 0s 6ms/step - loss: 39.4997 - val_loss: 33.4276\n",
            "Epoch 67/1000\n",
            "8/8 [==============================] - 0s 6ms/step - loss: 39.1030 - val_loss: 33.0682\n",
            "Epoch 68/1000\n",
            "8/8 [==============================] - 0s 5ms/step - loss: 38.7204 - val_loss: 32.7081\n",
            "Epoch 69/1000\n",
            "8/8 [==============================] - 0s 5ms/step - loss: 38.3232 - val_loss: 32.3700\n",
            "Epoch 70/1000\n",
            "8/8 [==============================] - 0s 5ms/step - loss: 37.9597 - val_loss: 32.0361\n",
            "Epoch 71/1000\n",
            "8/8 [==============================] - 0s 5ms/step - loss: 37.5835 - val_loss: 31.7180\n",
            "Epoch 72/1000\n",
            "8/8 [==============================] - 0s 7ms/step - loss: 37.2236 - val_loss: 31.4050\n",
            "Epoch 73/1000\n",
            "8/8 [==============================] - 0s 6ms/step - loss: 36.8923 - val_loss: 31.0870\n",
            "Epoch 74/1000\n",
            "8/8 [==============================] - 0s 5ms/step - loss: 36.5228 - val_loss: 30.7956\n",
            "Epoch 75/1000\n",
            "8/8 [==============================] - 0s 5ms/step - loss: 36.2068 - val_loss: 30.4948\n",
            "Epoch 76/1000\n",
            "8/8 [==============================] - 0s 6ms/step - loss: 35.8767 - val_loss: 30.2051\n",
            "Epoch 77/1000\n",
            "8/8 [==============================] - 0s 6ms/step - loss: 35.5510 - val_loss: 29.9283\n",
            "Epoch 78/1000\n",
            "8/8 [==============================] - 0s 6ms/step - loss: 35.2406 - val_loss: 29.6493\n",
            "Epoch 79/1000\n",
            "8/8 [==============================] - 0s 6ms/step - loss: 34.9357 - val_loss: 29.3760\n",
            "Epoch 80/1000\n",
            "8/8 [==============================] - 0s 5ms/step - loss: 34.6286 - val_loss: 29.1157\n",
            "Epoch 81/1000\n",
            "8/8 [==============================] - 0s 6ms/step - loss: 34.3427 - val_loss: 28.8571\n",
            "Epoch 82/1000\n",
            "8/8 [==============================] - 0s 7ms/step - loss: 34.0456 - val_loss: 28.6177\n",
            "Epoch 83/1000\n",
            "8/8 [==============================] - 0s 6ms/step - loss: 33.7714 - val_loss: 28.3829\n",
            "Epoch 84/1000\n",
            "8/8 [==============================] - 0s 7ms/step - loss: 33.5116 - val_loss: 28.1476\n",
            "Epoch 85/1000\n",
            "8/8 [==============================] - 0s 6ms/step - loss: 33.2422 - val_loss: 27.9193\n",
            "Epoch 86/1000\n",
            "8/8 [==============================] - 0s 5ms/step - loss: 32.9767 - val_loss: 27.7022\n",
            "Epoch 87/1000\n",
            "8/8 [==============================] - 0s 6ms/step - loss: 32.7244 - val_loss: 27.4891\n",
            "Epoch 88/1000\n",
            "8/8 [==============================] - 0s 5ms/step - loss: 32.4920 - val_loss: 27.2726\n",
            "Epoch 89/1000\n",
            "8/8 [==============================] - 0s 6ms/step - loss: 32.2512 - val_loss: 27.0677\n",
            "Epoch 90/1000\n",
            "8/8 [==============================] - 0s 6ms/step - loss: 32.0153 - val_loss: 26.8745\n",
            "Epoch 91/1000\n",
            "8/8 [==============================] - 0s 6ms/step - loss: 31.7860 - val_loss: 26.6893\n",
            "Epoch 92/1000\n",
            "8/8 [==============================] - 0s 6ms/step - loss: 31.5758 - val_loss: 26.5015\n",
            "Epoch 93/1000\n",
            "8/8 [==============================] - 0s 6ms/step - loss: 31.3605 - val_loss: 26.3200\n",
            "Epoch 94/1000\n",
            "8/8 [==============================] - 0s 6ms/step - loss: 31.1455 - val_loss: 26.1460\n",
            "Epoch 95/1000\n",
            "8/8 [==============================] - 0s 5ms/step - loss: 30.9549 - val_loss: 25.9734\n",
            "Epoch 96/1000\n",
            "8/8 [==============================] - 0s 6ms/step - loss: 30.7467 - val_loss: 25.8121\n",
            "Epoch 97/1000\n",
            "8/8 [==============================] - 0s 6ms/step - loss: 30.5495 - val_loss: 25.6583\n",
            "Epoch 98/1000\n",
            "8/8 [==============================] - 0s 7ms/step - loss: 30.3709 - val_loss: 25.5017\n",
            "Epoch 99/1000\n",
            "8/8 [==============================] - 0s 6ms/step - loss: 30.1888 - val_loss: 25.3476\n",
            "Epoch 100/1000\n",
            "8/8 [==============================] - 0s 6ms/step - loss: 30.0027 - val_loss: 25.2045\n",
            "Epoch 101/1000\n",
            "8/8 [==============================] - 0s 6ms/step - loss: 29.8357 - val_loss: 25.0622\n",
            "Epoch 102/1000\n",
            "8/8 [==============================] - 0s 5ms/step - loss: 29.6609 - val_loss: 24.9254\n",
            "Epoch 103/1000\n",
            "8/8 [==============================] - 0s 6ms/step - loss: 29.5112 - val_loss: 24.7832\n",
            "Epoch 104/1000\n",
            "8/8 [==============================] - 0s 6ms/step - loss: 29.3398 - val_loss: 24.6579\n",
            "Epoch 105/1000\n",
            "8/8 [==============================] - 0s 7ms/step - loss: 29.1870 - val_loss: 24.5385\n",
            "Epoch 106/1000\n",
            "8/8 [==============================] - 0s 6ms/step - loss: 29.0431 - val_loss: 24.4157\n",
            "Epoch 107/1000\n",
            "8/8 [==============================] - 0s 6ms/step - loss: 28.9034 - val_loss: 24.2959\n",
            "Epoch 108/1000\n",
            "8/8 [==============================] - 0s 6ms/step - loss: 28.7583 - val_loss: 24.1852\n",
            "Epoch 109/1000\n",
            "8/8 [==============================] - 0s 6ms/step - loss: 28.6189 - val_loss: 24.0783\n",
            "Epoch 110/1000\n",
            "8/8 [==============================] - 0s 6ms/step - loss: 28.4828 - val_loss: 23.9754\n",
            "Epoch 111/1000\n",
            "8/8 [==============================] - 0s 6ms/step - loss: 28.3543 - val_loss: 23.8735\n",
            "Epoch 112/1000\n",
            "8/8 [==============================] - 0s 6ms/step - loss: 28.2322 - val_loss: 23.7677\n",
            "Epoch 113/1000\n",
            "8/8 [==============================] - 0s 6ms/step - loss: 28.1113 - val_loss: 23.6666\n",
            "Epoch 114/1000\n",
            "8/8 [==============================] - 0s 6ms/step - loss: 27.9822 - val_loss: 23.5775\n",
            "Epoch 115/1000\n",
            "8/8 [==============================] - 0s 6ms/step - loss: 27.8714 - val_loss: 23.4931\n",
            "Epoch 116/1000\n",
            "8/8 [==============================] - 0s 7ms/step - loss: 27.7685 - val_loss: 23.4062\n",
            "Epoch 117/1000\n",
            "8/8 [==============================] - 0s 6ms/step - loss: 27.6534 - val_loss: 23.3285\n",
            "Epoch 118/1000\n",
            "8/8 [==============================] - 0s 6ms/step - loss: 27.5514 - val_loss: 23.2521\n",
            "Epoch 119/1000\n",
            "8/8 [==============================] - 0s 6ms/step - loss: 27.4577 - val_loss: 23.1734\n",
            "Epoch 120/1000\n",
            "8/8 [==============================] - 0s 6ms/step - loss: 27.3540 - val_loss: 23.1011\n",
            "Epoch 121/1000\n",
            "8/8 [==============================] - 0s 6ms/step - loss: 27.2591 - val_loss: 23.0294\n",
            "Epoch 122/1000\n",
            "8/8 [==============================] - 0s 7ms/step - loss: 27.1703 - val_loss: 22.9580\n",
            "Epoch 123/1000\n",
            "8/8 [==============================] - 0s 7ms/step - loss: 27.0777 - val_loss: 22.8916\n",
            "Epoch 124/1000\n",
            "8/8 [==============================] - 0s 6ms/step - loss: 26.9906 - val_loss: 22.8276\n",
            "Epoch 125/1000\n",
            "8/8 [==============================] - 0s 6ms/step - loss: 26.9137 - val_loss: 22.7630\n",
            "Epoch 126/1000\n",
            "8/8 [==============================] - 0s 5ms/step - loss: 26.8230 - val_loss: 22.7054\n",
            "Epoch 127/1000\n",
            "8/8 [==============================] - 0s 7ms/step - loss: 26.7446 - val_loss: 22.6469\n",
            "Epoch 128/1000\n",
            "8/8 [==============================] - 0s 6ms/step - loss: 26.6726 - val_loss: 22.5902\n",
            "Epoch 129/1000\n",
            "8/8 [==============================] - 0s 5ms/step - loss: 26.5927 - val_loss: 22.5417\n",
            "Epoch 130/1000\n",
            "8/8 [==============================] - 0s 5ms/step - loss: 26.5324 - val_loss: 22.4922\n",
            "Epoch 131/1000\n",
            "8/8 [==============================] - 0s 6ms/step - loss: 26.4608 - val_loss: 22.4475\n",
            "Epoch 132/1000\n",
            "8/8 [==============================] - 0s 6ms/step - loss: 26.3962 - val_loss: 22.4058\n",
            "Epoch 133/1000\n",
            "8/8 [==============================] - 0s 6ms/step - loss: 26.3373 - val_loss: 22.3637\n",
            "Epoch 134/1000\n",
            "8/8 [==============================] - 0s 6ms/step - loss: 26.2744 - val_loss: 22.3233\n",
            "Epoch 135/1000\n",
            "8/8 [==============================] - 0s 7ms/step - loss: 26.2190 - val_loss: 22.2806\n",
            "Epoch 136/1000\n",
            "8/8 [==============================] - 0s 6ms/step - loss: 26.1554 - val_loss: 22.2394\n",
            "Epoch 137/1000\n",
            "8/8 [==============================] - 0s 7ms/step - loss: 26.0997 - val_loss: 22.2011\n",
            "Epoch 138/1000\n",
            "8/8 [==============================] - 0s 6ms/step - loss: 26.0482 - val_loss: 22.1647\n",
            "Epoch 139/1000\n",
            "8/8 [==============================] - 0s 5ms/step - loss: 25.9980 - val_loss: 22.1305\n",
            "Epoch 140/1000\n",
            "8/8 [==============================] - 0s 6ms/step - loss: 25.9458 - val_loss: 22.1003\n",
            "Epoch 141/1000\n",
            "8/8 [==============================] - 0s 7ms/step - loss: 25.8970 - val_loss: 22.0703\n",
            "Epoch 142/1000\n",
            "8/8 [==============================] - 0s 6ms/step - loss: 25.8519 - val_loss: 22.0422\n",
            "Epoch 143/1000\n",
            "8/8 [==============================] - 0s 6ms/step - loss: 25.8046 - val_loss: 22.0183\n",
            "Epoch 144/1000\n",
            "8/8 [==============================] - 0s 6ms/step - loss: 25.7684 - val_loss: 21.9895\n",
            "Epoch 145/1000\n",
            "8/8 [==============================] - 0s 6ms/step - loss: 25.7307 - val_loss: 21.9619\n",
            "Epoch 146/1000\n",
            "8/8 [==============================] - 0s 5ms/step - loss: 25.6845 - val_loss: 21.9391\n",
            "Epoch 147/1000\n",
            "8/8 [==============================] - 0s 6ms/step - loss: 25.6479 - val_loss: 21.9173\n",
            "Epoch 148/1000\n",
            "8/8 [==============================] - 0s 7ms/step - loss: 25.6092 - val_loss: 21.8969\n",
            "Epoch 149/1000\n",
            "8/8 [==============================] - 0s 6ms/step - loss: 25.5759 - val_loss: 21.8758\n",
            "Epoch 150/1000\n",
            "8/8 [==============================] - 0s 6ms/step - loss: 25.5414 - val_loss: 21.8555\n",
            "Epoch 151/1000\n",
            "8/8 [==============================] - 0s 7ms/step - loss: 25.5105 - val_loss: 21.8358\n",
            "Epoch 152/1000\n",
            "8/8 [==============================] - 0s 6ms/step - loss: 25.4765 - val_loss: 21.8180\n",
            "Epoch 153/1000\n",
            "8/8 [==============================] - 0s 6ms/step - loss: 25.4405 - val_loss: 21.8018\n",
            "Epoch 154/1000\n",
            "8/8 [==============================] - 0s 7ms/step - loss: 25.4114 - val_loss: 21.7855\n",
            "Epoch 155/1000\n",
            "8/8 [==============================] - 0s 7ms/step - loss: 25.3810 - val_loss: 21.7709\n",
            "Epoch 156/1000\n",
            "8/8 [==============================] - 0s 7ms/step - loss: 25.3525 - val_loss: 21.7563\n",
            "Epoch 157/1000\n",
            "8/8 [==============================] - 0s 7ms/step - loss: 25.3260 - val_loss: 21.7419\n",
            "Epoch 158/1000\n",
            "8/8 [==============================] - 0s 6ms/step - loss: 25.3000 - val_loss: 21.7297\n",
            "Epoch 159/1000\n",
            "8/8 [==============================] - 0s 8ms/step - loss: 25.2750 - val_loss: 21.7194\n",
            "Epoch 160/1000\n",
            "8/8 [==============================] - 0s 6ms/step - loss: 25.2509 - val_loss: 21.7097\n",
            "Epoch 161/1000\n",
            "8/8 [==============================] - 0s 8ms/step - loss: 25.2355 - val_loss: 21.6982\n",
            "Epoch 162/1000\n",
            "8/8 [==============================] - 0s 7ms/step - loss: 25.2114 - val_loss: 21.6892\n",
            "Epoch 163/1000\n",
            "8/8 [==============================] - 0s 7ms/step - loss: 25.1883 - val_loss: 21.6823\n",
            "Epoch 164/1000\n",
            "8/8 [==============================] - 0s 7ms/step - loss: 25.1769 - val_loss: 21.6738\n",
            "Epoch 165/1000\n",
            "8/8 [==============================] - 0s 7ms/step - loss: 25.1516 - val_loss: 21.6675\n",
            "Epoch 166/1000\n",
            "8/8 [==============================] - 0s 7ms/step - loss: 25.1373 - val_loss: 21.6602\n",
            "Epoch 167/1000\n",
            "8/8 [==============================] - 0s 7ms/step - loss: 25.1172 - val_loss: 21.6546\n",
            "Epoch 168/1000\n",
            "8/8 [==============================] - 0s 7ms/step - loss: 25.1041 - val_loss: 21.6475\n",
            "Epoch 169/1000\n",
            "8/8 [==============================] - 0s 7ms/step - loss: 25.0857 - val_loss: 21.6423\n",
            "Epoch 170/1000\n",
            "8/8 [==============================] - 0s 6ms/step - loss: 25.0699 - val_loss: 21.6375\n",
            "Epoch 171/1000\n",
            "8/8 [==============================] - 0s 6ms/step - loss: 25.0542 - val_loss: 21.6333\n",
            "Epoch 172/1000\n",
            "8/8 [==============================] - 0s 6ms/step - loss: 25.0420 - val_loss: 21.6290\n",
            "Epoch 173/1000\n",
            "8/8 [==============================] - 0s 6ms/step - loss: 25.0277 - val_loss: 21.6255\n",
            "Epoch 174/1000\n",
            "8/8 [==============================] - 0s 6ms/step - loss: 25.0151 - val_loss: 21.6226\n",
            "Epoch 175/1000\n",
            "8/8 [==============================] - 0s 9ms/step - loss: 25.0037 - val_loss: 21.6198\n",
            "Epoch 176/1000\n",
            "8/8 [==============================] - 0s 8ms/step - loss: 24.9918 - val_loss: 21.6177\n",
            "Epoch 177/1000\n",
            "8/8 [==============================] - 0s 7ms/step - loss: 24.9815 - val_loss: 21.6157\n",
            "Epoch 178/1000\n",
            "8/8 [==============================] - 0s 7ms/step - loss: 24.9732 - val_loss: 21.6136\n",
            "Epoch 179/1000\n",
            "8/8 [==============================] - 0s 6ms/step - loss: 24.9600 - val_loss: 21.6121\n",
            "Epoch 180/1000\n",
            "8/8 [==============================] - 0s 6ms/step - loss: 24.9528 - val_loss: 21.6107\n",
            "Epoch 181/1000\n",
            "8/8 [==============================] - 0s 6ms/step - loss: 24.9414 - val_loss: 21.6097\n",
            "Epoch 182/1000\n",
            "8/8 [==============================] - 0s 7ms/step - loss: 24.9332 - val_loss: 21.6088\n",
            "Epoch 183/1000\n",
            "8/8 [==============================] - 0s 7ms/step - loss: 24.9243 - val_loss: 21.6083\n",
            "Epoch 184/1000\n",
            "8/8 [==============================] - 0s 6ms/step - loss: 24.9170 - val_loss: 21.6079\n",
            "Epoch 185/1000\n",
            "8/8 [==============================] - 0s 6ms/step - loss: 24.9103 - val_loss: 21.6077\n",
            "Epoch 186/1000\n",
            "8/8 [==============================] - 0s 7ms/step - loss: 24.9010 - val_loss: 21.6077\n",
            "Epoch 187/1000\n",
            "8/8 [==============================] - 0s 8ms/step - loss: 24.8935 - val_loss: 21.6079\n",
            "Epoch 188/1000\n",
            "8/8 [==============================] - 0s 6ms/step - loss: 24.8868 - val_loss: 21.6083\n",
            "Epoch 189/1000\n",
            "8/8 [==============================] - 0s 6ms/step - loss: 24.8814 - val_loss: 21.6091\n",
            "Epoch 190/1000\n",
            "8/8 [==============================] - 0s 6ms/step - loss: 24.8725 - val_loss: 21.6098\n",
            "Epoch 191/1000\n",
            "8/8 [==============================] - 0s 6ms/step - loss: 24.8664 - val_loss: 21.6106\n",
            "Epoch 192/1000\n",
            "8/8 [==============================] - 0s 6ms/step - loss: 24.8634 - val_loss: 21.6120\n",
            "Epoch 193/1000\n",
            "8/8 [==============================] - 0s 8ms/step - loss: 24.8552 - val_loss: 21.6133\n",
            "Epoch 194/1000\n",
            "8/8 [==============================] - 0s 6ms/step - loss: 24.8529 - val_loss: 21.6150\n",
            "Epoch 195/1000\n",
            "8/8 [==============================] - 0s 6ms/step - loss: 24.8448 - val_loss: 21.6159\n",
            "Epoch 196/1000\n",
            "8/8 [==============================] - 0s 6ms/step - loss: 24.8441 - val_loss: 21.6175\n",
            "Epoch 197/1000\n",
            "8/8 [==============================] - 0s 6ms/step - loss: 24.8384 - val_loss: 21.6177\n",
            "Epoch 198/1000\n",
            "8/8 [==============================] - 0s 6ms/step - loss: 24.8354 - val_loss: 21.6189\n",
            "Epoch 199/1000\n",
            "8/8 [==============================] - 0s 6ms/step - loss: 24.8334 - val_loss: 21.6209\n",
            "Epoch 200/1000\n",
            "8/8 [==============================] - 0s 6ms/step - loss: 24.8280 - val_loss: 21.6220\n",
            "Epoch 201/1000\n",
            "8/8 [==============================] - 0s 6ms/step - loss: 24.8257 - val_loss: 21.6240\n",
            "Epoch 202/1000\n",
            "8/8 [==============================] - 0s 6ms/step - loss: 24.8217 - val_loss: 21.6256\n",
            "Epoch 203/1000\n",
            "8/8 [==============================] - 0s 6ms/step - loss: 24.8184 - val_loss: 21.6278\n",
            "Epoch 204/1000\n",
            "8/8 [==============================] - 0s 6ms/step - loss: 24.8143 - val_loss: 21.6296\n",
            "Epoch 205/1000\n",
            "8/8 [==============================] - 0s 6ms/step - loss: 24.8119 - val_loss: 21.6319\n",
            "Epoch 206/1000\n",
            "8/8 [==============================] - 0s 7ms/step - loss: 24.8101 - val_loss: 21.6342\n",
            "Epoch 207/1000\n",
            "8/8 [==============================] - 0s 7ms/step - loss: 24.8057 - val_loss: 21.6357\n",
            "Epoch 208/1000\n",
            "8/8 [==============================] - 0s 8ms/step - loss: 24.8041 - val_loss: 21.6382\n",
            "Epoch 209/1000\n",
            "8/8 [==============================] - 0s 7ms/step - loss: 24.8029 - val_loss: 21.6409\n",
            "Epoch 210/1000\n",
            "8/8 [==============================] - 0s 9ms/step - loss: 24.7996 - val_loss: 21.6421\n",
            "Epoch 211/1000\n",
            "8/8 [==============================] - 0s 9ms/step - loss: 24.7986 - val_loss: 21.6441\n",
            "Epoch 212/1000\n",
            "8/8 [==============================] - 0s 7ms/step - loss: 24.7958 - val_loss: 21.6458\n",
            "Epoch 213/1000\n",
            "8/8 [==============================] - 0s 8ms/step - loss: 24.7942 - val_loss: 21.6476\n",
            "Epoch 214/1000\n",
            "8/8 [==============================] - 0s 6ms/step - loss: 24.7934 - val_loss: 21.6496\n",
            "Epoch 215/1000\n",
            "8/8 [==============================] - 0s 7ms/step - loss: 24.7910 - val_loss: 21.6502\n",
            "Epoch 216/1000\n",
            "8/8 [==============================] - 0s 7ms/step - loss: 24.7919 - val_loss: 21.6529\n",
            "Epoch 217/1000\n",
            "8/8 [==============================] - 0s 7ms/step - loss: 24.7886 - val_loss: 21.6533\n",
            "Epoch 218/1000\n",
            "8/8 [==============================] - 0s 7ms/step - loss: 24.7909 - val_loss: 21.6566\n",
            "Epoch 219/1000\n",
            "8/8 [==============================] - 0s 8ms/step - loss: 24.7860 - val_loss: 21.6587\n",
            "Epoch 220/1000\n",
            "8/8 [==============================] - 0s 7ms/step - loss: 24.7845 - val_loss: 21.6600\n",
            "Epoch 221/1000\n",
            "8/8 [==============================] - 0s 7ms/step - loss: 24.7839 - val_loss: 21.6610\n",
            "Epoch 222/1000\n",
            "8/8 [==============================] - 0s 6ms/step - loss: 24.7836 - val_loss: 21.6631\n",
            "Epoch 223/1000\n",
            "8/8 [==============================] - 0s 8ms/step - loss: 24.7825 - val_loss: 21.6653\n",
            "Epoch 224/1000\n",
            "8/8 [==============================] - 0s 8ms/step - loss: 24.7820 - val_loss: 21.6672\n",
            "Epoch 225/1000\n",
            "8/8 [==============================] - 0s 7ms/step - loss: 24.7803 - val_loss: 21.6668\n",
            "Epoch 226/1000\n",
            "8/8 [==============================] - 0s 8ms/step - loss: 24.7803 - val_loss: 21.6691\n",
            "Epoch 227/1000\n",
            "8/8 [==============================] - 0s 8ms/step - loss: 24.7789 - val_loss: 21.6701\n",
            "Epoch 228/1000\n",
            "8/8 [==============================] - 0s 10ms/step - loss: 24.7781 - val_loss: 21.6709\n",
            "Epoch 229/1000\n",
            "8/8 [==============================] - 0s 7ms/step - loss: 24.7777 - val_loss: 21.6722\n",
            "Epoch 230/1000\n",
            "8/8 [==============================] - 0s 7ms/step - loss: 24.7773 - val_loss: 21.6744\n",
            "Epoch 231/1000\n",
            "8/8 [==============================] - 0s 7ms/step - loss: 24.7760 - val_loss: 21.6765\n",
            "Epoch 232/1000\n",
            "8/8 [==============================] - 0s 7ms/step - loss: 24.7761 - val_loss: 21.6791\n",
            "Epoch 233/1000\n",
            "8/8 [==============================] - 0s 8ms/step - loss: 24.7749 - val_loss: 21.6808\n",
            "Epoch 234/1000\n",
            "8/8 [==============================] - 0s 6ms/step - loss: 24.7737 - val_loss: 21.6829\n",
            "Epoch 235/1000\n",
            "8/8 [==============================] - 0s 7ms/step - loss: 24.7730 - val_loss: 21.6837\n",
            "Epoch 236/1000\n",
            "8/8 [==============================] - 0s 7ms/step - loss: 24.7738 - val_loss: 21.6887\n",
            "Epoch 237/1000\n",
            "8/8 [==============================] - 0s 7ms/step - loss: 24.7706 - val_loss: 21.6899\n",
            "Epoch 238/1000\n",
            "8/8 [==============================] - 0s 7ms/step - loss: 24.7705 - val_loss: 21.6929\n",
            "Epoch 239/1000\n",
            "8/8 [==============================] - 0s 7ms/step - loss: 24.7698 - val_loss: 21.6947\n",
            "Epoch 240/1000\n",
            "8/8 [==============================] - 0s 7ms/step - loss: 24.7691 - val_loss: 21.6957\n",
            "Epoch 241/1000\n",
            "8/8 [==============================] - 0s 6ms/step - loss: 24.7692 - val_loss: 21.6966\n",
            "Epoch 242/1000\n",
            "8/8 [==============================] - 0s 7ms/step - loss: 24.7686 - val_loss: 21.6986\n",
            "Epoch 243/1000\n",
            "8/8 [==============================] - 0s 9ms/step - loss: 24.7687 - val_loss: 21.7010\n",
            "Epoch 244/1000\n",
            "8/8 [==============================] - 0s 8ms/step - loss: 24.7676 - val_loss: 21.7026\n",
            "Epoch 245/1000\n",
            "8/8 [==============================] - 0s 8ms/step - loss: 24.7671 - val_loss: 21.7041\n",
            "Epoch 246/1000\n",
            "8/8 [==============================] - 0s 7ms/step - loss: 24.7674 - val_loss: 21.7067\n",
            "Epoch 247/1000\n",
            "8/8 [==============================] - 0s 7ms/step - loss: 24.7664 - val_loss: 21.7073\n",
            "Epoch 248/1000\n",
            "8/8 [==============================] - 0s 7ms/step - loss: 24.7668 - val_loss: 21.7090\n",
            "Epoch 249/1000\n",
            "8/8 [==============================] - 0s 8ms/step - loss: 24.7665 - val_loss: 21.7089\n",
            "Epoch 250/1000\n",
            "8/8 [==============================] - 0s 8ms/step - loss: 24.7664 - val_loss: 21.7094\n",
            "Epoch 251/1000\n",
            "8/8 [==============================] - 0s 7ms/step - loss: 24.7664 - val_loss: 21.7130\n",
            "Epoch 252/1000\n",
            "8/8 [==============================] - 0s 6ms/step - loss: 24.7659 - val_loss: 21.7154\n",
            "Epoch 253/1000\n",
            "8/8 [==============================] - 0s 6ms/step - loss: 24.7654 - val_loss: 21.7173\n",
            "Epoch 254/1000\n",
            "8/8 [==============================] - 0s 7ms/step - loss: 24.7660 - val_loss: 21.7201\n",
            "Epoch 255/1000\n",
            "8/8 [==============================] - 0s 7ms/step - loss: 24.7658 - val_loss: 21.7204\n",
            "Epoch 256/1000\n",
            "8/8 [==============================] - 0s 6ms/step - loss: 24.7646 - val_loss: 21.7213\n",
            "Epoch 257/1000\n",
            "8/8 [==============================] - 0s 8ms/step - loss: 24.7659 - val_loss: 21.7229\n",
            "Epoch 258/1000\n",
            "8/8 [==============================] - 0s 7ms/step - loss: 24.7646 - val_loss: 21.7224\n",
            "Epoch 259/1000\n",
            "8/8 [==============================] - 0s 9ms/step - loss: 24.7643 - val_loss: 21.7209\n",
            "Epoch 260/1000\n",
            "8/8 [==============================] - 0s 7ms/step - loss: 24.7664 - val_loss: 21.7186\n",
            "Epoch 261/1000\n",
            "8/8 [==============================] - 0s 7ms/step - loss: 24.7668 - val_loss: 21.7221\n",
            "Epoch 262/1000\n",
            "8/8 [==============================] - 0s 8ms/step - loss: 24.7672 - val_loss: 21.7193\n",
            "Epoch 263/1000\n",
            "8/8 [==============================] - 0s 7ms/step - loss: 24.7642 - val_loss: 21.7211\n",
            "Epoch 264/1000\n",
            "8/8 [==============================] - 0s 7ms/step - loss: 24.7665 - val_loss: 21.7244\n",
            "Epoch 265/1000\n",
            "8/8 [==============================] - 0s 7ms/step - loss: 24.7646 - val_loss: 21.7235\n",
            "Epoch 266/1000\n",
            "8/8 [==============================] - 0s 7ms/step - loss: 24.7651 - val_loss: 21.7263\n",
            "Epoch 267/1000\n",
            "8/8 [==============================] - 0s 7ms/step - loss: 24.7643 - val_loss: 21.7269\n",
            "Epoch 268/1000\n",
            "8/8 [==============================] - 0s 8ms/step - loss: 24.7641 - val_loss: 21.7269\n",
            "Epoch 269/1000\n",
            "8/8 [==============================] - 0s 6ms/step - loss: 24.7637 - val_loss: 21.7298\n",
            "Epoch 270/1000\n",
            "8/8 [==============================] - 0s 6ms/step - loss: 24.7637 - val_loss: 21.7311\n",
            "Epoch 271/1000\n",
            "8/8 [==============================] - 0s 6ms/step - loss: 24.7640 - val_loss: 21.7325\n",
            "Epoch 272/1000\n",
            "8/8 [==============================] - 0s 6ms/step - loss: 24.7637 - val_loss: 21.7351\n",
            "Epoch 273/1000\n",
            "8/8 [==============================] - 0s 9ms/step - loss: 24.7636 - val_loss: 21.7361\n",
            "Epoch 274/1000\n",
            "8/8 [==============================] - 0s 6ms/step - loss: 24.7637 - val_loss: 21.7368\n",
            "Epoch 275/1000\n",
            "8/8 [==============================] - 0s 7ms/step - loss: 24.7641 - val_loss: 21.7345\n",
            "Epoch 276/1000\n",
            "8/8 [==============================] - 0s 7ms/step - loss: 24.7641 - val_loss: 21.7345\n",
            "Epoch 277/1000\n",
            "8/8 [==============================] - 0s 6ms/step - loss: 24.7629 - val_loss: 21.7381\n",
            "Epoch 278/1000\n",
            "8/8 [==============================] - 0s 7ms/step - loss: 24.7654 - val_loss: 21.7434\n",
            "Epoch 279/1000\n",
            "8/8 [==============================] - 0s 6ms/step - loss: 24.7635 - val_loss: 21.7435\n",
            "Epoch 280/1000\n",
            "8/8 [==============================] - 0s 6ms/step - loss: 24.7648 - val_loss: 21.7408\n",
            "Epoch 281/1000\n",
            "8/8 [==============================] - 0s 6ms/step - loss: 24.7635 - val_loss: 21.7400\n",
            "Epoch 282/1000\n",
            "8/8 [==============================] - 0s 6ms/step - loss: 24.7642 - val_loss: 21.7370\n",
            "Epoch 283/1000\n",
            "8/8 [==============================] - 0s 6ms/step - loss: 24.7641 - val_loss: 21.7387\n",
            "Epoch 284/1000\n",
            "8/8 [==============================] - 0s 7ms/step - loss: 24.7634 - val_loss: 21.7395\n",
            "Epoch 285/1000\n",
            "8/8 [==============================] - 0s 6ms/step - loss: 24.7642 - val_loss: 21.7375\n",
            "Epoch 286/1000\n",
            "8/8 [==============================] - 0s 5ms/step - loss: 24.7634 - val_loss: 21.7407\n",
            "Epoch 287/1000\n",
            "8/8 [==============================] - 0s 7ms/step - loss: 24.7632 - val_loss: 21.7432\n",
            "Epoch 288/1000\n",
            "8/8 [==============================] - 0s 7ms/step - loss: 24.7633 - val_loss: 21.7456\n",
            "Epoch 289/1000\n",
            "8/8 [==============================] - 0s 8ms/step - loss: 24.7636 - val_loss: 21.7471\n",
            "Epoch 290/1000\n",
            "8/8 [==============================] - 0s 7ms/step - loss: 24.7641 - val_loss: 21.7462\n",
            "Epoch 291/1000\n",
            "8/8 [==============================] - 0s 7ms/step - loss: 24.7630 - val_loss: 21.7482\n",
            "Epoch 292/1000\n",
            "8/8 [==============================] - 0s 6ms/step - loss: 24.7633 - val_loss: 21.7483\n",
            "Epoch 293/1000\n",
            "8/8 [==============================] - 0s 9ms/step - loss: 24.7632 - val_loss: 21.7505\n",
            "Epoch 294/1000\n",
            "8/8 [==============================] - 0s 6ms/step - loss: 24.7634 - val_loss: 21.7530\n",
            "Epoch 295/1000\n",
            "8/8 [==============================] - 0s 6ms/step - loss: 24.7634 - val_loss: 21.7530\n",
            "Epoch 296/1000\n",
            "8/8 [==============================] - 0s 7ms/step - loss: 24.7635 - val_loss: 21.7529\n",
            "Epoch 297/1000\n",
            "8/8 [==============================] - 0s 7ms/step - loss: 24.7634 - val_loss: 21.7543\n",
            "Epoch 298/1000\n",
            "8/8 [==============================] - 0s 7ms/step - loss: 24.7642 - val_loss: 21.7529\n",
            "Epoch 299/1000\n",
            "8/8 [==============================] - 0s 7ms/step - loss: 24.7644 - val_loss: 21.7545\n",
            "Epoch 300/1000\n",
            "8/8 [==============================] - 0s 7ms/step - loss: 24.7651 - val_loss: 21.7502\n",
            "Epoch 301/1000\n",
            "8/8 [==============================] - 0s 7ms/step - loss: 24.7634 - val_loss: 21.7517\n",
            "Epoch 302/1000\n",
            "8/8 [==============================] - 0s 7ms/step - loss: 24.7650 - val_loss: 21.7543\n",
            "Epoch 303/1000\n",
            "8/8 [==============================] - 0s 8ms/step - loss: 24.7653 - val_loss: 21.7493\n",
            "Epoch 304/1000\n",
            "8/8 [==============================] - 0s 6ms/step - loss: 24.7633 - val_loss: 21.7494\n",
            "Epoch 305/1000\n",
            "8/8 [==============================] - 0s 7ms/step - loss: 24.7633 - val_loss: 21.7483\n",
            "Epoch 306/1000\n",
            "8/8 [==============================] - 0s 7ms/step - loss: 24.7631 - val_loss: 21.7473\n",
            "Epoch 307/1000\n",
            "8/8 [==============================] - 0s 7ms/step - loss: 24.7634 - val_loss: 21.7448\n",
            "Epoch 308/1000\n",
            "8/8 [==============================] - 0s 6ms/step - loss: 24.7641 - val_loss: 21.7472\n",
            "Epoch 309/1000\n",
            "8/8 [==============================] - 0s 8ms/step - loss: 24.7661 - val_loss: 21.7494\n",
            "Epoch 310/1000\n",
            "8/8 [==============================] - 0s 7ms/step - loss: 24.7628 - val_loss: 21.7469\n",
            "Epoch 311/1000\n",
            "8/8 [==============================] - 0s 7ms/step - loss: 24.7631 - val_loss: 21.7448\n",
            "Epoch 312/1000\n",
            "8/8 [==============================] - 0s 7ms/step - loss: 24.7636 - val_loss: 21.7439\n",
            "Epoch 313/1000\n",
            "8/8 [==============================] - 0s 6ms/step - loss: 24.7638 - val_loss: 21.7396\n",
            "Epoch 314/1000\n",
            "8/8 [==============================] - 0s 7ms/step - loss: 24.7636 - val_loss: 21.7377\n",
            "Epoch 315/1000\n",
            "8/8 [==============================] - 0s 7ms/step - loss: 24.7641 - val_loss: 21.7388\n",
            "Epoch 316/1000\n",
            "8/8 [==============================] - 0s 7ms/step - loss: 24.7641 - val_loss: 21.7390\n",
            "Epoch 317/1000\n",
            "8/8 [==============================] - 0s 7ms/step - loss: 24.7664 - val_loss: 21.7415\n",
            "Epoch 318/1000\n",
            "8/8 [==============================] - 0s 8ms/step - loss: 24.7645 - val_loss: 21.7383\n",
            "Epoch 319/1000\n",
            "8/8 [==============================] - 0s 6ms/step - loss: 24.7661 - val_loss: 21.7429\n",
            "Epoch 320/1000\n",
            "8/8 [==============================] - 0s 6ms/step - loss: 24.7645 - val_loss: 21.7432\n",
            "Epoch 321/1000\n",
            "8/8 [==============================] - 0s 6ms/step - loss: 24.7650 - val_loss: 21.7432\n",
            "Epoch 322/1000\n",
            "8/8 [==============================] - 0s 6ms/step - loss: 24.7649 - val_loss: 21.7380\n",
            "Epoch 323/1000\n",
            "8/8 [==============================] - 0s 6ms/step - loss: 24.7641 - val_loss: 21.7366\n",
            "Epoch 324/1000\n",
            "8/8 [==============================] - 0s 6ms/step - loss: 24.7639 - val_loss: 21.7389\n",
            "Epoch 325/1000\n",
            "8/8 [==============================] - 0s 6ms/step - loss: 24.7635 - val_loss: 21.7391\n",
            "Epoch 326/1000\n",
            "8/8 [==============================] - 0s 7ms/step - loss: 24.7649 - val_loss: 21.7395\n",
            "Epoch 327/1000\n",
            "8/8 [==============================] - 0s 7ms/step - loss: 24.7654 - val_loss: 21.7367\n",
            "Epoch 328/1000\n",
            "8/8 [==============================] - 0s 7ms/step - loss: 24.7651 - val_loss: 21.7407\n",
            "Epoch 329/1000\n",
            "8/8 [==============================] - 0s 6ms/step - loss: 24.7633 - val_loss: 21.7415\n",
            "Epoch 330/1000\n",
            "8/8 [==============================] - 0s 6ms/step - loss: 24.7633 - val_loss: 21.7419\n",
            "Epoch 331/1000\n",
            "8/8 [==============================] - 0s 6ms/step - loss: 24.7644 - val_loss: 21.7443\n",
            "Epoch 332/1000\n",
            "8/8 [==============================] - 0s 6ms/step - loss: 24.7639 - val_loss: 21.7407\n",
            "Epoch 333/1000\n",
            "8/8 [==============================] - 0s 6ms/step - loss: 24.7645 - val_loss: 21.7407\n",
            "Epoch 334/1000\n",
            "8/8 [==============================] - 0s 6ms/step - loss: 24.7636 - val_loss: 21.7410\n",
            "Epoch 335/1000\n",
            "8/8 [==============================] - 0s 6ms/step - loss: 24.7634 - val_loss: 21.7413\n",
            "Epoch 336/1000\n",
            "8/8 [==============================] - 0s 6ms/step - loss: 24.7637 - val_loss: 21.7409\n",
            "Epoch 337/1000\n",
            "8/8 [==============================] - 0s 6ms/step - loss: 24.7631 - val_loss: 21.7385\n",
            "Epoch 338/1000\n",
            "8/8 [==============================] - 0s 6ms/step - loss: 24.7634 - val_loss: 21.7366\n",
            "Epoch 339/1000\n",
            "8/8 [==============================] - 0s 6ms/step - loss: 24.7645 - val_loss: 21.7328\n",
            "Epoch 340/1000\n",
            "8/8 [==============================] - 0s 7ms/step - loss: 24.7642 - val_loss: 21.7314\n",
            "Epoch 341/1000\n",
            "8/8 [==============================] - 0s 6ms/step - loss: 24.7642 - val_loss: 21.7316\n",
            "Epoch 342/1000\n",
            "8/8 [==============================] - 0s 6ms/step - loss: 24.7642 - val_loss: 21.7371\n",
            "Epoch 343/1000\n",
            "8/8 [==============================] - 0s 6ms/step - loss: 24.7647 - val_loss: 21.7401\n",
            "Epoch 344/1000\n",
            "8/8 [==============================] - 0s 6ms/step - loss: 24.7633 - val_loss: 21.7397\n",
            "Epoch 345/1000\n",
            "8/8 [==============================] - 0s 6ms/step - loss: 24.7647 - val_loss: 21.7376\n",
            "Epoch 346/1000\n",
            "8/8 [==============================] - 0s 7ms/step - loss: 24.7641 - val_loss: 21.7371\n",
            "Epoch 347/1000\n",
            "8/8 [==============================] - 0s 6ms/step - loss: 24.7634 - val_loss: 21.7386\n",
            "Epoch 348/1000\n",
            "8/8 [==============================] - 0s 6ms/step - loss: 24.7644 - val_loss: 21.7415\n",
            "Epoch 349/1000\n",
            "8/8 [==============================] - 0s 7ms/step - loss: 24.7646 - val_loss: 21.7423\n",
            "Epoch 350/1000\n",
            "8/8 [==============================] - 0s 6ms/step - loss: 24.7635 - val_loss: 21.7374\n",
            "Epoch 351/1000\n",
            "8/8 [==============================] - 0s 7ms/step - loss: 24.7641 - val_loss: 21.7344\n",
            "Epoch 352/1000\n",
            "8/8 [==============================] - 0s 6ms/step - loss: 24.7650 - val_loss: 21.7319\n",
            "Epoch 353/1000\n",
            "8/8 [==============================] - 0s 6ms/step - loss: 24.7640 - val_loss: 21.7317\n",
            "Epoch 354/1000\n",
            "8/8 [==============================] - 0s 6ms/step - loss: 24.7637 - val_loss: 21.7324\n",
            "Epoch 355/1000\n",
            "8/8 [==============================] - 0s 6ms/step - loss: 24.7640 - val_loss: 21.7358\n",
            "Epoch 356/1000\n",
            "8/8 [==============================] - 0s 6ms/step - loss: 24.7645 - val_loss: 21.7359\n",
            "Epoch 357/1000\n",
            "8/8 [==============================] - 0s 6ms/step - loss: 24.7638 - val_loss: 21.7378\n",
            "Epoch 358/1000\n",
            "8/8 [==============================] - 0s 6ms/step - loss: 24.7637 - val_loss: 21.7393\n",
            "Epoch 359/1000\n",
            "8/8 [==============================] - 0s 9ms/step - loss: 24.7662 - val_loss: 21.7370\n",
            "Epoch 360/1000\n",
            "8/8 [==============================] - 0s 5ms/step - loss: 24.7629 - val_loss: 21.7419\n",
            "Epoch 361/1000\n",
            "8/8 [==============================] - 0s 6ms/step - loss: 24.7644 - val_loss: 21.7411\n",
            "Epoch 362/1000\n",
            "8/8 [==============================] - 0s 6ms/step - loss: 24.7667 - val_loss: 21.7475\n",
            "Epoch 363/1000\n",
            "8/8 [==============================] - 0s 6ms/step - loss: 24.7634 - val_loss: 21.7480\n",
            "Epoch 364/1000\n",
            "8/8 [==============================] - 0s 6ms/step - loss: 24.7661 - val_loss: 21.7527\n",
            "Epoch 365/1000\n",
            "8/8 [==============================] - 0s 6ms/step - loss: 24.7632 - val_loss: 21.7518\n",
            "Epoch 366/1000\n",
            "8/8 [==============================] - 0s 6ms/step - loss: 24.7646 - val_loss: 21.7497\n",
            "Epoch 367/1000\n",
            "8/8 [==============================] - 0s 6ms/step - loss: 24.7634 - val_loss: 21.7500\n",
            "Epoch 368/1000\n",
            "8/8 [==============================] - 0s 6ms/step - loss: 24.7639 - val_loss: 21.7507\n",
            "Epoch 369/1000\n",
            "8/8 [==============================] - 0s 6ms/step - loss: 24.7653 - val_loss: 21.7495\n",
            "Epoch 370/1000\n",
            "8/8 [==============================] - 0s 7ms/step - loss: 24.7638 - val_loss: 21.7524\n",
            "Epoch 371/1000\n",
            "8/8 [==============================] - 0s 6ms/step - loss: 24.7638 - val_loss: 21.7510\n",
            "Epoch 372/1000\n",
            "8/8 [==============================] - 0s 7ms/step - loss: 24.7642 - val_loss: 21.7504\n",
            "Epoch 373/1000\n",
            "8/8 [==============================] - 0s 7ms/step - loss: 24.7632 - val_loss: 21.7496\n",
            "Epoch 374/1000\n",
            "8/8 [==============================] - 0s 7ms/step - loss: 24.7647 - val_loss: 21.7475\n",
            "Epoch 375/1000\n",
            "8/8 [==============================] - 0s 7ms/step - loss: 24.7636 - val_loss: 21.7476\n",
            "Epoch 376/1000\n",
            "8/8 [==============================] - 0s 8ms/step - loss: 24.7631 - val_loss: 21.7478\n",
            "Epoch 377/1000\n",
            "8/8 [==============================] - 0s 7ms/step - loss: 24.7662 - val_loss: 21.7513\n",
            "Epoch 378/1000\n",
            "8/8 [==============================] - 0s 6ms/step - loss: 24.7641 - val_loss: 21.7532\n",
            "Epoch 379/1000\n",
            "8/8 [==============================] - 0s 6ms/step - loss: 24.7638 - val_loss: 21.7491\n",
            "Epoch 380/1000\n",
            "8/8 [==============================] - 0s 6ms/step - loss: 24.7645 - val_loss: 21.7461\n",
            "Epoch 381/1000\n",
            "8/8 [==============================] - 0s 6ms/step - loss: 24.7642 - val_loss: 21.7442\n",
            "Epoch 382/1000\n",
            "8/8 [==============================] - 0s 7ms/step - loss: 24.7644 - val_loss: 21.7487\n",
            "Epoch 383/1000\n",
            "8/8 [==============================] - 0s 7ms/step - loss: 24.7638 - val_loss: 21.7480\n",
            "Epoch 384/1000\n",
            "8/8 [==============================] - 0s 6ms/step - loss: 24.7634 - val_loss: 21.7469\n",
            "Epoch 385/1000\n",
            "8/8 [==============================] - 0s 7ms/step - loss: 24.7633 - val_loss: 21.7455\n",
            "Epoch 386/1000\n",
            "8/8 [==============================] - 0s 6ms/step - loss: 24.7631 - val_loss: 21.7440\n",
            "Epoch 387/1000\n",
            "8/8 [==============================] - 0s 6ms/step - loss: 24.7639 - val_loss: 21.7423\n",
            "Epoch 388/1000\n",
            "8/8 [==============================] - 0s 7ms/step - loss: 24.7653 - val_loss: 21.7440\n",
            "Epoch 389/1000\n",
            "8/8 [==============================] - 0s 7ms/step - loss: 24.7634 - val_loss: 21.7404\n",
            "Epoch 390/1000\n",
            "8/8 [==============================] - 0s 7ms/step - loss: 24.7644 - val_loss: 21.7420\n",
            "Epoch 391/1000\n",
            "8/8 [==============================] - 0s 6ms/step - loss: 24.7639 - val_loss: 21.7410\n",
            "Epoch 392/1000\n",
            "8/8 [==============================] - 0s 7ms/step - loss: 24.7643 - val_loss: 21.7381\n",
            "Epoch 393/1000\n",
            "8/8 [==============================] - 0s 6ms/step - loss: 24.7637 - val_loss: 21.7380\n",
            "Epoch 394/1000\n",
            "8/8 [==============================] - 0s 7ms/step - loss: 24.7640 - val_loss: 21.7411\n",
            "Epoch 395/1000\n",
            "8/8 [==============================] - 0s 7ms/step - loss: 24.7638 - val_loss: 21.7415\n",
            "Epoch 396/1000\n",
            "8/8 [==============================] - 0s 6ms/step - loss: 24.7649 - val_loss: 21.7479\n",
            "Epoch 397/1000\n",
            "8/8 [==============================] - 0s 6ms/step - loss: 24.7634 - val_loss: 21.7470\n",
            "Epoch 398/1000\n",
            "8/8 [==============================] - 0s 6ms/step - loss: 24.7640 - val_loss: 21.7489\n",
            "Epoch 399/1000\n",
            "8/8 [==============================] - 0s 7ms/step - loss: 24.7664 - val_loss: 21.7461\n",
            "Epoch 400/1000\n",
            "8/8 [==============================] - 0s 7ms/step - loss: 24.7655 - val_loss: 21.7499\n",
            "Epoch 401/1000\n",
            "8/8 [==============================] - 0s 6ms/step - loss: 24.7647 - val_loss: 21.7551\n",
            "Epoch 402/1000\n",
            "8/8 [==============================] - 0s 6ms/step - loss: 24.7641 - val_loss: 21.7531\n",
            "Epoch 403/1000\n",
            "8/8 [==============================] - 0s 7ms/step - loss: 24.7642 - val_loss: 21.7541\n",
            "Epoch 404/1000\n",
            "8/8 [==============================] - 0s 7ms/step - loss: 24.7685 - val_loss: 21.7480\n",
            "Epoch 405/1000\n",
            "8/8 [==============================] - 0s 9ms/step - loss: 24.7641 - val_loss: 21.7482\n",
            "Epoch 406/1000\n",
            "8/8 [==============================] - 0s 7ms/step - loss: 24.7636 - val_loss: 21.7532\n",
            "Epoch 407/1000\n",
            "8/8 [==============================] - 0s 6ms/step - loss: 24.7648 - val_loss: 21.7575\n",
            "Epoch 408/1000\n",
            "8/8 [==============================] - 0s 6ms/step - loss: 24.7641 - val_loss: 21.7566\n",
            "Epoch 409/1000\n",
            "8/8 [==============================] - 0s 6ms/step - loss: 24.7648 - val_loss: 21.7606\n",
            "Epoch 410/1000\n",
            "8/8 [==============================] - 0s 7ms/step - loss: 24.7640 - val_loss: 21.7603\n",
            "Epoch 411/1000\n",
            "8/8 [==============================] - 0s 7ms/step - loss: 24.7644 - val_loss: 21.7530\n",
            "Epoch 412/1000\n",
            "8/8 [==============================] - 0s 6ms/step - loss: 24.7644 - val_loss: 21.7514\n",
            "Epoch 413/1000\n",
            "8/8 [==============================] - 0s 7ms/step - loss: 24.7638 - val_loss: 21.7507\n",
            "Epoch 414/1000\n",
            "8/8 [==============================] - 0s 6ms/step - loss: 24.7637 - val_loss: 21.7510\n",
            "Epoch 415/1000\n",
            "8/8 [==============================] - 0s 6ms/step - loss: 24.7641 - val_loss: 21.7494\n",
            "Epoch 416/1000\n",
            "8/8 [==============================] - 0s 6ms/step - loss: 24.7647 - val_loss: 21.7508\n",
            "Epoch 417/1000\n",
            "8/8 [==============================] - 0s 8ms/step - loss: 24.7636 - val_loss: 21.7490\n",
            "Epoch 418/1000\n",
            "8/8 [==============================] - 0s 7ms/step - loss: 24.7635 - val_loss: 21.7486\n",
            "Epoch 419/1000\n",
            "8/8 [==============================] - 0s 7ms/step - loss: 24.7685 - val_loss: 21.7422\n",
            "Epoch 420/1000\n",
            "8/8 [==============================] - 0s 7ms/step - loss: 24.7637 - val_loss: 21.7438\n",
            "Epoch 421/1000\n",
            "8/8 [==============================] - 0s 7ms/step - loss: 24.7636 - val_loss: 21.7439\n",
            "Epoch 422/1000\n",
            "8/8 [==============================] - 0s 6ms/step - loss: 24.7632 - val_loss: 21.7444\n",
            "Epoch 423/1000\n",
            "8/8 [==============================] - 0s 7ms/step - loss: 24.7640 - val_loss: 21.7473\n",
            "Epoch 424/1000\n",
            "8/8 [==============================] - 0s 6ms/step - loss: 24.7632 - val_loss: 21.7517\n",
            "Epoch 425/1000\n",
            "8/8 [==============================] - 0s 6ms/step - loss: 24.7641 - val_loss: 21.7560\n",
            "Epoch 426/1000\n",
            "8/8 [==============================] - 0s 6ms/step - loss: 24.7644 - val_loss: 21.7548\n",
            "Epoch 427/1000\n",
            "8/8 [==============================] - 0s 7ms/step - loss: 24.7671 - val_loss: 21.7588\n",
            "Epoch 428/1000\n",
            "8/8 [==============================] - 0s 6ms/step - loss: 24.7643 - val_loss: 21.7512\n",
            "Epoch 429/1000\n",
            "8/8 [==============================] - 0s 6ms/step - loss: 24.7631 - val_loss: 21.7480\n",
            "Epoch 430/1000\n",
            "8/8 [==============================] - 0s 6ms/step - loss: 24.7646 - val_loss: 21.7496\n",
            "Epoch 431/1000\n",
            "8/8 [==============================] - 0s 6ms/step - loss: 24.7628 - val_loss: 21.7456\n",
            "Epoch 432/1000\n",
            "8/8 [==============================] - 0s 6ms/step - loss: 24.7639 - val_loss: 21.7462\n",
            "Epoch 433/1000\n",
            "8/8 [==============================] - 0s 6ms/step - loss: 24.7633 - val_loss: 21.7453\n",
            "Epoch 434/1000\n",
            "8/8 [==============================] - 0s 8ms/step - loss: 24.7634 - val_loss: 21.7460\n",
            "Epoch 435/1000\n",
            "8/8 [==============================] - 0s 6ms/step - loss: 24.7663 - val_loss: 21.7519\n",
            "Epoch 436/1000\n",
            "8/8 [==============================] - 0s 6ms/step - loss: 24.7645 - val_loss: 21.7518\n",
            "Epoch 437/1000\n",
            "8/8 [==============================] - 0s 6ms/step - loss: 24.7627 - val_loss: 21.7487\n",
            "Epoch 438/1000\n",
            "8/8 [==============================] - 0s 7ms/step - loss: 24.7631 - val_loss: 21.7469\n",
            "Epoch 439/1000\n",
            "8/8 [==============================] - 0s 6ms/step - loss: 24.7634 - val_loss: 21.7448\n",
            "Epoch 440/1000\n",
            "8/8 [==============================] - 0s 6ms/step - loss: 24.7641 - val_loss: 21.7453\n",
            "Epoch 441/1000\n",
            "8/8 [==============================] - 0s 6ms/step - loss: 24.7633 - val_loss: 21.7455\n",
            "Epoch 442/1000\n",
            "8/8 [==============================] - 0s 7ms/step - loss: 24.7638 - val_loss: 21.7465\n",
            "Epoch 443/1000\n",
            "8/8 [==============================] - 0s 7ms/step - loss: 24.7640 - val_loss: 21.7455\n",
            "Epoch 444/1000\n",
            "8/8 [==============================] - 0s 7ms/step - loss: 24.7651 - val_loss: 21.7387\n",
            "Epoch 445/1000\n",
            "8/8 [==============================] - 0s 7ms/step - loss: 24.7637 - val_loss: 21.7390\n",
            "Epoch 446/1000\n",
            "8/8 [==============================] - 0s 6ms/step - loss: 24.7762 - val_loss: 21.7300\n",
            "Epoch 447/1000\n",
            "8/8 [==============================] - 0s 7ms/step - loss: 24.7651 - val_loss: 21.7372\n",
            "Epoch 448/1000\n",
            "8/8 [==============================] - 0s 7ms/step - loss: 24.7640 - val_loss: 21.7384\n",
            "Epoch 449/1000\n",
            "8/8 [==============================] - 0s 6ms/step - loss: 24.7637 - val_loss: 21.7375\n",
            "Epoch 450/1000\n",
            "8/8 [==============================] - 0s 7ms/step - loss: 24.7639 - val_loss: 21.7335\n",
            "Epoch 451/1000\n",
            "8/8 [==============================] - 0s 7ms/step - loss: 24.7657 - val_loss: 21.7315\n",
            "Epoch 452/1000\n",
            "8/8 [==============================] - 0s 8ms/step - loss: 24.7639 - val_loss: 21.7344\n",
            "Epoch 453/1000\n",
            "8/8 [==============================] - 0s 6ms/step - loss: 24.7643 - val_loss: 21.7333\n",
            "Epoch 454/1000\n",
            "8/8 [==============================] - 0s 6ms/step - loss: 24.7646 - val_loss: 21.7341\n",
            "Epoch 455/1000\n",
            "8/8 [==============================] - 0s 6ms/step - loss: 24.7660 - val_loss: 21.7383\n",
            "Epoch 456/1000\n",
            "8/8 [==============================] - 0s 7ms/step - loss: 24.7637 - val_loss: 21.7350\n",
            "Epoch 457/1000\n",
            "8/8 [==============================] - 0s 6ms/step - loss: 24.7641 - val_loss: 21.7352\n",
            "Epoch 458/1000\n",
            "8/8 [==============================] - 0s 6ms/step - loss: 24.7638 - val_loss: 21.7351\n",
            "Epoch 459/1000\n",
            "8/8 [==============================] - 0s 7ms/step - loss: 24.7649 - val_loss: 21.7318\n",
            "Epoch 460/1000\n",
            "8/8 [==============================] - 0s 7ms/step - loss: 24.7657 - val_loss: 21.7299\n",
            "Epoch 461/1000\n",
            "8/8 [==============================] - 0s 7ms/step - loss: 24.7696 - val_loss: 21.7272\n",
            "Epoch 462/1000\n",
            "8/8 [==============================] - 0s 7ms/step - loss: 24.7651 - val_loss: 21.7342\n",
            "Epoch 463/1000\n",
            "8/8 [==============================] - 0s 7ms/step - loss: 24.7653 - val_loss: 21.7329\n",
            "Epoch 464/1000\n",
            "8/8 [==============================] - 0s 6ms/step - loss: 24.7639 - val_loss: 21.7371\n",
            "Epoch 465/1000\n",
            "8/8 [==============================] - 0s 7ms/step - loss: 24.7663 - val_loss: 21.7343\n",
            "Epoch 466/1000\n",
            "8/8 [==============================] - 0s 6ms/step - loss: 24.7665 - val_loss: 21.7394\n",
            "Epoch 467/1000\n",
            "8/8 [==============================] - 0s 6ms/step - loss: 24.7643 - val_loss: 21.7381\n",
            "Epoch 468/1000\n",
            "8/8 [==============================] - 0s 6ms/step - loss: 24.7657 - val_loss: 21.7288\n",
            "Epoch 469/1000\n",
            "8/8 [==============================] - 0s 7ms/step - loss: 24.7645 - val_loss: 21.7245\n",
            "Epoch 470/1000\n",
            "8/8 [==============================] - 0s 7ms/step - loss: 24.7647 - val_loss: 21.7237\n",
            "Epoch 471/1000\n",
            "8/8 [==============================] - 0s 7ms/step - loss: 24.7646 - val_loss: 21.7244\n",
            "Epoch 472/1000\n",
            "8/8 [==============================] - 0s 7ms/step - loss: 24.7673 - val_loss: 21.7280\n",
            "Epoch 473/1000\n",
            "8/8 [==============================] - 0s 8ms/step - loss: 24.7649 - val_loss: 21.7258\n",
            "Epoch 474/1000\n",
            "8/8 [==============================] - 0s 7ms/step - loss: 24.7656 - val_loss: 21.7312\n",
            "Epoch 475/1000\n",
            "8/8 [==============================] - 0s 6ms/step - loss: 24.7642 - val_loss: 21.7336\n",
            "Epoch 476/1000\n",
            "8/8 [==============================] - 0s 6ms/step - loss: 24.7640 - val_loss: 21.7326\n",
            "Epoch 477/1000\n",
            "8/8 [==============================] - 0s 7ms/step - loss: 24.7663 - val_loss: 21.7359\n",
            "Epoch 478/1000\n",
            "8/8 [==============================] - 0s 8ms/step - loss: 24.7665 - val_loss: 21.7306\n",
            "Epoch 479/1000\n",
            "8/8 [==============================] - 0s 7ms/step - loss: 24.7657 - val_loss: 21.7359\n",
            "Epoch 480/1000\n",
            "8/8 [==============================] - 0s 7ms/step - loss: 24.7638 - val_loss: 21.7336\n",
            "Epoch 481/1000\n",
            "8/8 [==============================] - 0s 8ms/step - loss: 24.7646 - val_loss: 21.7315\n",
            "Epoch 482/1000\n",
            "8/8 [==============================] - 0s 6ms/step - loss: 24.7643 - val_loss: 21.7333\n",
            "Epoch 483/1000\n",
            "8/8 [==============================] - 0s 7ms/step - loss: 24.7651 - val_loss: 21.7390\n",
            "Epoch 484/1000\n",
            "8/8 [==============================] - 0s 6ms/step - loss: 24.7639 - val_loss: 21.7429\n",
            "Epoch 485/1000\n",
            "8/8 [==============================] - 0s 9ms/step - loss: 24.7641 - val_loss: 21.7420\n",
            "Epoch 486/1000\n",
            "8/8 [==============================] - 0s 7ms/step - loss: 24.7643 - val_loss: 21.7466\n",
            "Epoch 487/1000\n",
            "8/8 [==============================] - 0s 8ms/step - loss: 24.7635 - val_loss: 21.7461\n",
            "Epoch 488/1000\n",
            "8/8 [==============================] - 0s 6ms/step - loss: 24.7640 - val_loss: 21.7455\n",
            "Epoch 489/1000\n",
            "8/8 [==============================] - 0s 7ms/step - loss: 24.7634 - val_loss: 21.7459\n",
            "Epoch 490/1000\n",
            "8/8 [==============================] - 0s 6ms/step - loss: 24.7643 - val_loss: 21.7454\n",
            "Epoch 491/1000\n",
            "8/8 [==============================] - 0s 6ms/step - loss: 24.7659 - val_loss: 21.7545\n",
            "Epoch 492/1000\n",
            "8/8 [==============================] - 0s 6ms/step - loss: 24.7649 - val_loss: 21.7584\n",
            "Epoch 493/1000\n",
            "8/8 [==============================] - 0s 7ms/step - loss: 24.7683 - val_loss: 21.7619\n",
            "Epoch 494/1000\n",
            "8/8 [==============================] - 0s 7ms/step - loss: 24.7642 - val_loss: 21.7606\n",
            "Epoch 495/1000\n",
            "8/8 [==============================] - 0s 7ms/step - loss: 24.7652 - val_loss: 21.7533\n",
            "Epoch 496/1000\n",
            "8/8 [==============================] - 0s 8ms/step - loss: 24.7657 - val_loss: 21.7517\n",
            "Epoch 497/1000\n",
            "8/8 [==============================] - 0s 7ms/step - loss: 24.7634 - val_loss: 21.7518\n",
            "Epoch 498/1000\n",
            "8/8 [==============================] - 0s 8ms/step - loss: 24.7644 - val_loss: 21.7499\n",
            "Epoch 499/1000\n",
            "8/8 [==============================] - 0s 7ms/step - loss: 24.7640 - val_loss: 21.7509\n",
            "Epoch 500/1000\n",
            "8/8 [==============================] - 0s 7ms/step - loss: 24.7638 - val_loss: 21.7483\n",
            "Epoch 501/1000\n",
            "8/8 [==============================] - 0s 8ms/step - loss: 24.7635 - val_loss: 21.7481\n",
            "Epoch 502/1000\n",
            "8/8 [==============================] - 0s 7ms/step - loss: 24.7666 - val_loss: 21.7453\n",
            "Epoch 503/1000\n",
            "8/8 [==============================] - 0s 9ms/step - loss: 24.7646 - val_loss: 21.7515\n",
            "Epoch 504/1000\n",
            "8/8 [==============================] - 0s 7ms/step - loss: 24.7646 - val_loss: 21.7531\n",
            "Epoch 505/1000\n",
            "8/8 [==============================] - 0s 8ms/step - loss: 24.7646 - val_loss: 21.7488\n",
            "Epoch 506/1000\n",
            "8/8 [==============================] - 0s 7ms/step - loss: 24.7638 - val_loss: 21.7466\n",
            "Epoch 507/1000\n",
            "8/8 [==============================] - 0s 7ms/step - loss: 24.7637 - val_loss: 21.7468\n",
            "Epoch 508/1000\n",
            "8/8 [==============================] - 0s 11ms/step - loss: 24.7637 - val_loss: 21.7457\n",
            "Epoch 509/1000\n",
            "8/8 [==============================] - 0s 7ms/step - loss: 24.7635 - val_loss: 21.7458\n",
            "Epoch 510/1000\n",
            "8/8 [==============================] - 0s 9ms/step - loss: 24.7639 - val_loss: 21.7484\n",
            "Epoch 511/1000\n",
            "8/8 [==============================] - 0s 8ms/step - loss: 24.7647 - val_loss: 21.7498\n",
            "Epoch 512/1000\n",
            "8/8 [==============================] - 0s 8ms/step - loss: 24.7633 - val_loss: 21.7480\n",
            "Epoch 513/1000\n",
            "8/8 [==============================] - 0s 7ms/step - loss: 24.7640 - val_loss: 21.7443\n",
            "Epoch 514/1000\n",
            "8/8 [==============================] - 0s 7ms/step - loss: 24.7662 - val_loss: 21.7400\n",
            "Epoch 515/1000\n",
            "8/8 [==============================] - 0s 7ms/step - loss: 24.7633 - val_loss: 21.7439\n",
            "Epoch 516/1000\n",
            "8/8 [==============================] - 0s 7ms/step - loss: 24.7649 - val_loss: 21.7423\n",
            "Epoch 517/1000\n",
            "8/8 [==============================] - 0s 7ms/step - loss: 24.7633 - val_loss: 21.7449\n",
            "Epoch 518/1000\n",
            "8/8 [==============================] - 0s 8ms/step - loss: 24.7673 - val_loss: 21.7436\n",
            "Epoch 519/1000\n",
            "8/8 [==============================] - 0s 9ms/step - loss: 24.7640 - val_loss: 21.7538\n",
            "Epoch 520/1000\n",
            "8/8 [==============================] - 0s 8ms/step - loss: 24.7641 - val_loss: 21.7575\n",
            "Epoch 521/1000\n",
            "8/8 [==============================] - 0s 7ms/step - loss: 24.7671 - val_loss: 21.7514\n",
            "Epoch 522/1000\n",
            "8/8 [==============================] - 0s 8ms/step - loss: 24.7674 - val_loss: 21.7557\n",
            "Epoch 523/1000\n",
            "8/8 [==============================] - 0s 7ms/step - loss: 24.7636 - val_loss: 21.7513\n",
            "Epoch 524/1000\n",
            "8/8 [==============================] - 0s 7ms/step - loss: 24.7674 - val_loss: 21.7427\n",
            "Epoch 525/1000\n",
            "8/8 [==============================] - 0s 7ms/step - loss: 24.7669 - val_loss: 21.7387\n",
            "Epoch 526/1000\n",
            "8/8 [==============================] - 0s 8ms/step - loss: 24.7652 - val_loss: 21.7446\n",
            "Epoch 527/1000\n",
            "8/8 [==============================] - 0s 7ms/step - loss: 24.7637 - val_loss: 21.7471\n",
            "Epoch 528/1000\n",
            "8/8 [==============================] - 0s 7ms/step - loss: 24.7635 - val_loss: 21.7486\n",
            "Epoch 529/1000\n",
            "8/8 [==============================] - 0s 8ms/step - loss: 24.7651 - val_loss: 21.7511\n",
            "Epoch 530/1000\n",
            "8/8 [==============================] - 0s 8ms/step - loss: 24.7653 - val_loss: 21.7461\n",
            "Epoch 531/1000\n",
            "8/8 [==============================] - 0s 7ms/step - loss: 24.7634 - val_loss: 21.7435\n",
            "Epoch 532/1000\n",
            "8/8 [==============================] - 0s 8ms/step - loss: 24.7741 - val_loss: 21.7333\n",
            "Epoch 533/1000\n",
            "8/8 [==============================] - 0s 7ms/step - loss: 24.7646 - val_loss: 21.7336\n",
            "Epoch 534/1000\n",
            "8/8 [==============================] - 0s 8ms/step - loss: 24.7636 - val_loss: 21.7355\n",
            "Epoch 535/1000\n",
            "8/8 [==============================] - 0s 8ms/step - loss: 24.7641 - val_loss: 21.7373\n",
            "Epoch 536/1000\n",
            "8/8 [==============================] - 0s 7ms/step - loss: 24.7656 - val_loss: 21.7350\n",
            "Epoch 537/1000\n",
            "8/8 [==============================] - 0s 7ms/step - loss: 24.7647 - val_loss: 21.7387\n",
            "Epoch 538/1000\n",
            "8/8 [==============================] - 0s 8ms/step - loss: 24.7636 - val_loss: 21.7412\n",
            "Epoch 539/1000\n",
            "8/8 [==============================] - 0s 7ms/step - loss: 24.7635 - val_loss: 21.7421\n",
            "Epoch 540/1000\n",
            "8/8 [==============================] - 0s 8ms/step - loss: 24.7637 - val_loss: 21.7449\n",
            "Epoch 541/1000\n",
            "8/8 [==============================] - 0s 7ms/step - loss: 24.7659 - val_loss: 21.7499\n",
            "Epoch 542/1000\n",
            "8/8 [==============================] - 0s 7ms/step - loss: 24.7643 - val_loss: 21.7503\n",
            "Epoch 543/1000\n",
            "8/8 [==============================] - 0s 6ms/step - loss: 24.7688 - val_loss: 21.7410\n",
            "Epoch 544/1000\n",
            "8/8 [==============================] - 0s 7ms/step - loss: 24.7654 - val_loss: 21.7462\n",
            "Epoch 545/1000\n",
            "8/8 [==============================] - 0s 7ms/step - loss: 24.7645 - val_loss: 21.7453\n",
            "Epoch 546/1000\n",
            "8/8 [==============================] - 0s 6ms/step - loss: 24.7637 - val_loss: 21.7459\n",
            "Epoch 547/1000\n",
            "8/8 [==============================] - 0s 6ms/step - loss: 24.7633 - val_loss: 21.7455\n",
            "Epoch 548/1000\n",
            "8/8 [==============================] - 0s 6ms/step - loss: 24.7655 - val_loss: 21.7468\n",
            "Epoch 549/1000\n",
            "8/8 [==============================] - 0s 7ms/step - loss: 24.7631 - val_loss: 21.7435\n",
            "Epoch 550/1000\n",
            "8/8 [==============================] - 0s 8ms/step - loss: 24.7665 - val_loss: 21.7361\n",
            "Epoch 551/1000\n",
            "8/8 [==============================] - 0s 8ms/step - loss: 24.7645 - val_loss: 21.7321\n",
            "Epoch 552/1000\n",
            "8/8 [==============================] - 0s 6ms/step - loss: 24.7655 - val_loss: 21.7337\n",
            "Epoch 553/1000\n",
            "8/8 [==============================] - 0s 7ms/step - loss: 24.7661 - val_loss: 21.7364\n",
            "Epoch 554/1000\n",
            "8/8 [==============================] - 0s 7ms/step - loss: 24.7646 - val_loss: 21.7353\n",
            "Epoch 555/1000\n",
            "8/8 [==============================] - 0s 7ms/step - loss: 24.7692 - val_loss: 21.7305\n",
            "Epoch 556/1000\n",
            "8/8 [==============================] - 0s 7ms/step - loss: 24.7758 - val_loss: 21.7449\n",
            "Epoch 557/1000\n",
            "8/8 [==============================] - 0s 7ms/step - loss: 24.7661 - val_loss: 21.7444\n",
            "Epoch 558/1000\n",
            "8/8 [==============================] - 0s 6ms/step - loss: 24.7649 - val_loss: 21.7414\n",
            "Epoch 559/1000\n",
            "8/8 [==============================] - 0s 7ms/step - loss: 24.7637 - val_loss: 21.7402\n",
            "Epoch 560/1000\n",
            "8/8 [==============================] - 0s 8ms/step - loss: 24.7642 - val_loss: 21.7430\n",
            "Epoch 561/1000\n",
            "8/8 [==============================] - 0s 7ms/step - loss: 24.7660 - val_loss: 21.7402\n",
            "Epoch 562/1000\n",
            "8/8 [==============================] - 0s 7ms/step - loss: 24.7635 - val_loss: 21.7406\n",
            "Epoch 563/1000\n",
            "8/8 [==============================] - 0s 7ms/step - loss: 24.7641 - val_loss: 21.7392\n",
            "Epoch 564/1000\n",
            "8/8 [==============================] - 0s 8ms/step - loss: 24.7641 - val_loss: 21.7362\n",
            "Epoch 565/1000\n",
            "8/8 [==============================] - 0s 8ms/step - loss: 24.7660 - val_loss: 21.7419\n",
            "Epoch 566/1000\n",
            "8/8 [==============================] - 0s 7ms/step - loss: 24.7657 - val_loss: 21.7386\n",
            "Epoch 567/1000\n",
            "8/8 [==============================] - 0s 9ms/step - loss: 24.7644 - val_loss: 21.7360\n",
            "Epoch 568/1000\n",
            "8/8 [==============================] - 0s 11ms/step - loss: 24.7639 - val_loss: 21.7369\n",
            "Epoch 569/1000\n",
            "8/8 [==============================] - 0s 7ms/step - loss: 24.7639 - val_loss: 21.7352\n",
            "Epoch 570/1000\n",
            "8/8 [==============================] - 0s 8ms/step - loss: 24.7643 - val_loss: 21.7363\n",
            "Epoch 571/1000\n",
            "8/8 [==============================] - 0s 8ms/step - loss: 24.7666 - val_loss: 21.7437\n",
            "Epoch 572/1000\n",
            "8/8 [==============================] - 0s 10ms/step - loss: 24.7635 - val_loss: 21.7423\n",
            "Epoch 573/1000\n",
            "8/8 [==============================] - 0s 9ms/step - loss: 24.7682 - val_loss: 21.7457\n",
            "Epoch 574/1000\n",
            "8/8 [==============================] - 0s 8ms/step - loss: 24.7647 - val_loss: 21.7416\n",
            "Epoch 575/1000\n",
            "8/8 [==============================] - 0s 7ms/step - loss: 24.7707 - val_loss: 21.7311\n",
            "Epoch 576/1000\n",
            "8/8 [==============================] - 0s 7ms/step - loss: 24.7642 - val_loss: 21.7344\n",
            "Epoch 577/1000\n",
            "8/8 [==============================] - 0s 9ms/step - loss: 24.7643 - val_loss: 21.7364\n",
            "Epoch 578/1000\n",
            "8/8 [==============================] - 0s 6ms/step - loss: 24.7633 - val_loss: 21.7340\n",
            "Epoch 579/1000\n",
            "8/8 [==============================] - 0s 8ms/step - loss: 24.7650 - val_loss: 21.7288\n",
            "Epoch 580/1000\n",
            "8/8 [==============================] - 0s 7ms/step - loss: 24.7648 - val_loss: 21.7285\n",
            "Epoch 581/1000\n",
            "8/8 [==============================] - 0s 7ms/step - loss: 24.7655 - val_loss: 21.7318\n",
            "Epoch 582/1000\n",
            "8/8 [==============================] - 0s 9ms/step - loss: 24.7649 - val_loss: 21.7281\n",
            "Epoch 583/1000\n",
            "8/8 [==============================] - 0s 8ms/step - loss: 24.7707 - val_loss: 21.7352\n",
            "Epoch 584/1000\n",
            "8/8 [==============================] - 0s 7ms/step - loss: 24.7657 - val_loss: 21.7320\n",
            "Epoch 585/1000\n",
            "8/8 [==============================] - 0s 8ms/step - loss: 24.7645 - val_loss: 21.7352\n",
            "Epoch 586/1000\n",
            "8/8 [==============================] - 0s 8ms/step - loss: 24.7641 - val_loss: 21.7361\n",
            "Epoch 587/1000\n",
            "8/8 [==============================] - 0s 8ms/step - loss: 24.7637 - val_loss: 21.7352\n",
            "Epoch 588/1000\n",
            "8/8 [==============================] - 0s 8ms/step - loss: 24.7634 - val_loss: 21.7353\n",
            "Epoch 589/1000\n",
            "8/8 [==============================] - 0s 7ms/step - loss: 24.7664 - val_loss: 21.7338\n",
            "Epoch 590/1000\n",
            "8/8 [==============================] - 0s 6ms/step - loss: 24.7693 - val_loss: 21.7438\n",
            "Epoch 591/1000\n",
            "8/8 [==============================] - 0s 6ms/step - loss: 24.7677 - val_loss: 21.7382\n",
            "Epoch 592/1000\n",
            "8/8 [==============================] - 0s 7ms/step - loss: 24.7649 - val_loss: 21.7431\n",
            "Epoch 593/1000\n",
            "8/8 [==============================] - 0s 6ms/step - loss: 24.7657 - val_loss: 21.7477\n",
            "Epoch 594/1000\n",
            "8/8 [==============================] - 0s 7ms/step - loss: 24.7642 - val_loss: 21.7424\n",
            "Epoch 595/1000\n",
            "8/8 [==============================] - 0s 6ms/step - loss: 24.7730 - val_loss: 21.7497\n",
            "Epoch 596/1000\n",
            "8/8 [==============================] - 0s 6ms/step - loss: 24.7655 - val_loss: 21.7397\n",
            "Epoch 597/1000\n",
            "8/8 [==============================] - 0s 7ms/step - loss: 24.7637 - val_loss: 21.7376\n",
            "Epoch 598/1000\n",
            "8/8 [==============================] - 0s 8ms/step - loss: 24.7645 - val_loss: 21.7382\n",
            "Epoch 599/1000\n",
            "8/8 [==============================] - 0s 7ms/step - loss: 24.7639 - val_loss: 21.7400\n",
            "Epoch 600/1000\n",
            "8/8 [==============================] - 0s 7ms/step - loss: 24.7639 - val_loss: 21.7397\n",
            "Epoch 601/1000\n",
            "8/8 [==============================] - 0s 6ms/step - loss: 24.7669 - val_loss: 21.7431\n",
            "Epoch 602/1000\n",
            "8/8 [==============================] - 0s 7ms/step - loss: 24.7638 - val_loss: 21.7432\n",
            "Epoch 603/1000\n",
            "8/8 [==============================] - 0s 6ms/step - loss: 24.7663 - val_loss: 21.7372\n",
            "Epoch 604/1000\n",
            "8/8 [==============================] - 0s 7ms/step - loss: 24.7633 - val_loss: 21.7409\n",
            "Epoch 605/1000\n",
            "8/8 [==============================] - 0s 7ms/step - loss: 24.7651 - val_loss: 21.7465\n",
            "Epoch 606/1000\n",
            "8/8 [==============================] - 0s 10ms/step - loss: 24.7639 - val_loss: 21.7442\n",
            "Epoch 607/1000\n",
            "8/8 [==============================] - 0s 6ms/step - loss: 24.7648 - val_loss: 21.7419\n",
            "Epoch 608/1000\n",
            "8/8 [==============================] - 0s 6ms/step - loss: 24.7648 - val_loss: 21.7382\n",
            "Epoch 609/1000\n",
            "8/8 [==============================] - 0s 7ms/step - loss: 24.7641 - val_loss: 21.7416\n",
            "Epoch 610/1000\n",
            "8/8 [==============================] - 0s 7ms/step - loss: 24.7653 - val_loss: 21.7449\n",
            "Epoch 611/1000\n",
            "8/8 [==============================] - 0s 7ms/step - loss: 24.7662 - val_loss: 21.7414\n",
            "Epoch 612/1000\n",
            "8/8 [==============================] - 0s 7ms/step - loss: 24.7636 - val_loss: 21.7418\n",
            "Epoch 613/1000\n",
            "8/8 [==============================] - 0s 7ms/step - loss: 24.7652 - val_loss: 21.7397\n",
            "Epoch 614/1000\n",
            "8/8 [==============================] - 0s 8ms/step - loss: 24.7752 - val_loss: 21.7311\n",
            "Epoch 615/1000\n",
            "8/8 [==============================] - 0s 7ms/step - loss: 24.7670 - val_loss: 21.7433\n",
            "Epoch 616/1000\n",
            "8/8 [==============================] - 0s 7ms/step - loss: 24.7651 - val_loss: 21.7455\n",
            "Epoch 617/1000\n",
            "8/8 [==============================] - 0s 7ms/step - loss: 24.7652 - val_loss: 21.7393\n",
            "Epoch 618/1000\n",
            "8/8 [==============================] - 0s 6ms/step - loss: 24.7656 - val_loss: 21.7453\n",
            "Epoch 619/1000\n",
            "8/8 [==============================] - 0s 7ms/step - loss: 24.7663 - val_loss: 21.7447\n",
            "Epoch 620/1000\n",
            "8/8 [==============================] - 0s 8ms/step - loss: 24.7637 - val_loss: 21.7498\n",
            "Epoch 621/1000\n",
            "8/8 [==============================] - 0s 7ms/step - loss: 24.7638 - val_loss: 21.7491\n",
            "Epoch 622/1000\n",
            "8/8 [==============================] - 0s 11ms/step - loss: 24.7659 - val_loss: 21.7552\n",
            "Epoch 623/1000\n",
            "8/8 [==============================] - 0s 8ms/step - loss: 24.7642 - val_loss: 21.7576\n",
            "Epoch 624/1000\n",
            "8/8 [==============================] - 0s 8ms/step - loss: 24.7656 - val_loss: 21.7586\n",
            "Epoch 625/1000\n",
            "8/8 [==============================] - 0s 7ms/step - loss: 24.7644 - val_loss: 21.7497\n",
            "Epoch 626/1000\n",
            "8/8 [==============================] - 0s 7ms/step - loss: 24.7630 - val_loss: 21.7474\n",
            "Epoch 627/1000\n",
            "8/8 [==============================] - 0s 7ms/step - loss: 24.7643 - val_loss: 21.7446\n",
            "Epoch 628/1000\n",
            "8/8 [==============================] - 0s 7ms/step - loss: 24.7638 - val_loss: 21.7482\n",
            "Epoch 629/1000\n",
            "8/8 [==============================] - 0s 7ms/step - loss: 24.7648 - val_loss: 21.7511\n",
            "Epoch 630/1000\n",
            "8/8 [==============================] - 0s 9ms/step - loss: 24.7642 - val_loss: 21.7527\n",
            "Epoch 631/1000\n",
            "8/8 [==============================] - 0s 8ms/step - loss: 24.7656 - val_loss: 21.7518\n",
            "Epoch 632/1000\n",
            "8/8 [==============================] - 0s 9ms/step - loss: 24.7638 - val_loss: 21.7597\n",
            "Epoch 633/1000\n",
            "8/8 [==============================] - 0s 7ms/step - loss: 24.7647 - val_loss: 21.7644\n",
            "Epoch 634/1000\n",
            "8/8 [==============================] - 0s 7ms/step - loss: 24.7652 - val_loss: 21.7663\n",
            "Epoch 635/1000\n",
            "8/8 [==============================] - 0s 10ms/step - loss: 24.7752 - val_loss: 21.7531\n",
            "Epoch 636/1000\n",
            "8/8 [==============================] - 0s 8ms/step - loss: 24.7645 - val_loss: 21.7525\n",
            "Epoch 637/1000\n",
            "8/8 [==============================] - 0s 7ms/step - loss: 24.7635 - val_loss: 21.7565\n",
            "Epoch 638/1000\n",
            "8/8 [==============================] - 0s 7ms/step - loss: 24.7638 - val_loss: 21.7553\n",
            "Epoch 639/1000\n",
            "8/8 [==============================] - 0s 7ms/step - loss: 24.7667 - val_loss: 21.7589\n",
            "Epoch 640/1000\n",
            "8/8 [==============================] - 0s 7ms/step - loss: 24.7630 - val_loss: 21.7555\n",
            "Epoch 641/1000\n",
            "8/8 [==============================] - 0s 6ms/step - loss: 24.7635 - val_loss: 21.7529\n",
            "Epoch 642/1000\n",
            "8/8 [==============================] - 0s 7ms/step - loss: 24.7639 - val_loss: 21.7507\n",
            "Epoch 643/1000\n",
            "8/8 [==============================] - 0s 7ms/step - loss: 24.7641 - val_loss: 21.7496\n",
            "Epoch 644/1000\n",
            "8/8 [==============================] - 0s 7ms/step - loss: 24.7642 - val_loss: 21.7520\n",
            "Epoch 645/1000\n",
            "8/8 [==============================] - 0s 6ms/step - loss: 24.7678 - val_loss: 21.7561\n",
            "Epoch 646/1000\n",
            "8/8 [==============================] - 0s 8ms/step - loss: 24.7636 - val_loss: 21.7481\n",
            "Epoch 647/1000\n",
            "8/8 [==============================] - 0s 7ms/step - loss: 24.7634 - val_loss: 21.7430\n",
            "Epoch 648/1000\n",
            "8/8 [==============================] - 0s 8ms/step - loss: 24.7633 - val_loss: 21.7409\n",
            "Epoch 649/1000\n",
            "8/8 [==============================] - 0s 7ms/step - loss: 24.7634 - val_loss: 21.7387\n",
            "Epoch 650/1000\n",
            "8/8 [==============================] - 0s 10ms/step - loss: 24.7645 - val_loss: 21.7357\n",
            "Epoch 651/1000\n",
            "8/8 [==============================] - 0s 7ms/step - loss: 24.7690 - val_loss: 21.7299\n",
            "Epoch 652/1000\n",
            "8/8 [==============================] - 0s 8ms/step - loss: 24.7647 - val_loss: 21.7388\n",
            "Epoch 653/1000\n",
            "8/8 [==============================] - 0s 9ms/step - loss: 24.7636 - val_loss: 21.7412\n",
            "Epoch 654/1000\n",
            "8/8 [==============================] - 0s 9ms/step - loss: 24.7629 - val_loss: 21.7450\n",
            "Epoch 655/1000\n",
            "8/8 [==============================] - 0s 9ms/step - loss: 24.7655 - val_loss: 21.7507\n",
            "Epoch 656/1000\n",
            "8/8 [==============================] - 0s 8ms/step - loss: 24.7646 - val_loss: 21.7483\n",
            "Epoch 657/1000\n",
            "8/8 [==============================] - 0s 7ms/step - loss: 24.7643 - val_loss: 21.7443\n",
            "Epoch 658/1000\n",
            "8/8 [==============================] - 0s 7ms/step - loss: 24.7679 - val_loss: 21.7512\n",
            "Epoch 659/1000\n",
            "8/8 [==============================] - 0s 8ms/step - loss: 24.7647 - val_loss: 21.7465\n",
            "Epoch 660/1000\n",
            "8/8 [==============================] - 0s 9ms/step - loss: 24.7640 - val_loss: 21.7458\n",
            "Epoch 661/1000\n",
            "8/8 [==============================] - 0s 10ms/step - loss: 24.7640 - val_loss: 21.7451\n",
            "Epoch 662/1000\n",
            "8/8 [==============================] - 0s 8ms/step - loss: 24.7648 - val_loss: 21.7469\n",
            "Epoch 663/1000\n",
            "8/8 [==============================] - 0s 8ms/step - loss: 24.7679 - val_loss: 21.7380\n",
            "Epoch 664/1000\n",
            "8/8 [==============================] - 0s 9ms/step - loss: 24.7641 - val_loss: 21.7404\n",
            "Epoch 665/1000\n",
            "8/8 [==============================] - 0s 8ms/step - loss: 24.7645 - val_loss: 21.7380\n",
            "Epoch 666/1000\n",
            "8/8 [==============================] - 0s 7ms/step - loss: 24.7648 - val_loss: 21.7424\n",
            "Epoch 667/1000\n",
            "8/8 [==============================] - 0s 7ms/step - loss: 24.7643 - val_loss: 21.7467\n",
            "Epoch 668/1000\n",
            "8/8 [==============================] - 0s 7ms/step - loss: 24.7635 - val_loss: 21.7447\n",
            "Epoch 669/1000\n",
            "8/8 [==============================] - 0s 7ms/step - loss: 24.7641 - val_loss: 21.7485\n",
            "Epoch 670/1000\n",
            "8/8 [==============================] - 0s 8ms/step - loss: 24.7643 - val_loss: 21.7491\n",
            "Epoch 671/1000\n",
            "8/8 [==============================] - 0s 7ms/step - loss: 24.7655 - val_loss: 21.7447\n",
            "Epoch 672/1000\n",
            "8/8 [==============================] - 0s 7ms/step - loss: 24.7648 - val_loss: 21.7469\n",
            "Epoch 673/1000\n",
            "8/8 [==============================] - 0s 7ms/step - loss: 24.7643 - val_loss: 21.7434\n",
            "Epoch 674/1000\n",
            "8/8 [==============================] - 0s 7ms/step - loss: 24.7655 - val_loss: 21.7457\n",
            "Epoch 675/1000\n",
            "8/8 [==============================] - 0s 6ms/step - loss: 24.7669 - val_loss: 21.7368\n",
            "Epoch 676/1000\n",
            "8/8 [==============================] - 0s 7ms/step - loss: 24.7662 - val_loss: 21.7404\n",
            "Epoch 677/1000\n",
            "8/8 [==============================] - 0s 8ms/step - loss: 24.7648 - val_loss: 21.7392\n",
            "Epoch 678/1000\n",
            "8/8 [==============================] - 0s 7ms/step - loss: 24.7644 - val_loss: 21.7368\n",
            "Epoch 679/1000\n",
            "8/8 [==============================] - 0s 7ms/step - loss: 24.7649 - val_loss: 21.7356\n",
            "Epoch 680/1000\n",
            "8/8 [==============================] - 0s 7ms/step - loss: 24.7649 - val_loss: 21.7396\n",
            "Epoch 681/1000\n",
            "8/8 [==============================] - 0s 7ms/step - loss: 24.7658 - val_loss: 21.7351\n",
            "Epoch 682/1000\n",
            "8/8 [==============================] - 0s 7ms/step - loss: 24.7633 - val_loss: 21.7380\n",
            "Epoch 683/1000\n",
            "8/8 [==============================] - 0s 8ms/step - loss: 24.7661 - val_loss: 21.7366\n",
            "Epoch 684/1000\n",
            "8/8 [==============================] - 0s 7ms/step - loss: 24.7638 - val_loss: 21.7440\n",
            "Epoch 685/1000\n",
            "8/8 [==============================] - 0s 7ms/step - loss: 24.7696 - val_loss: 21.7508\n",
            "Epoch 686/1000\n",
            "8/8 [==============================] - 0s 8ms/step - loss: 24.7641 - val_loss: 21.7447\n",
            "Epoch 687/1000\n",
            "8/8 [==============================] - 0s 7ms/step - loss: 24.7641 - val_loss: 21.7450\n",
            "Epoch 688/1000\n",
            "8/8 [==============================] - 0s 6ms/step - loss: 24.7645 - val_loss: 21.7410\n",
            "Epoch 689/1000\n",
            "8/8 [==============================] - 0s 7ms/step - loss: 24.7643 - val_loss: 21.7460\n",
            "Epoch 690/1000\n",
            "8/8 [==============================] - 0s 7ms/step - loss: 24.7642 - val_loss: 21.7463\n",
            "Epoch 691/1000\n",
            "8/8 [==============================] - 0s 7ms/step - loss: 24.7639 - val_loss: 21.7427\n",
            "Epoch 692/1000\n",
            "8/8 [==============================] - 0s 7ms/step - loss: 24.7636 - val_loss: 21.7431\n",
            "Epoch 693/1000\n",
            "8/8 [==============================] - 0s 8ms/step - loss: 24.7651 - val_loss: 21.7420\n",
            "Epoch 694/1000\n",
            "8/8 [==============================] - 0s 9ms/step - loss: 24.7639 - val_loss: 21.7497\n",
            "Epoch 695/1000\n",
            "8/8 [==============================] - 0s 7ms/step - loss: 24.7639 - val_loss: 21.7481\n",
            "Epoch 696/1000\n",
            "8/8 [==============================] - 0s 7ms/step - loss: 24.7633 - val_loss: 21.7493\n",
            "Epoch 697/1000\n",
            "8/8 [==============================] - 0s 7ms/step - loss: 24.7655 - val_loss: 21.7544\n",
            "Epoch 698/1000\n",
            "8/8 [==============================] - 0s 7ms/step - loss: 24.7641 - val_loss: 21.7546\n",
            "Epoch 699/1000\n",
            "8/8 [==============================] - 0s 7ms/step - loss: 24.7647 - val_loss: 21.7545\n",
            "Epoch 700/1000\n",
            "8/8 [==============================] - 0s 6ms/step - loss: 24.7656 - val_loss: 21.7562\n",
            "Epoch 701/1000\n",
            "8/8 [==============================] - 0s 8ms/step - loss: 24.7665 - val_loss: 21.7464\n",
            "Epoch 702/1000\n",
            "8/8 [==============================] - 0s 7ms/step - loss: 24.7637 - val_loss: 21.7477\n",
            "Epoch 703/1000\n",
            "8/8 [==============================] - 0s 7ms/step - loss: 24.7634 - val_loss: 21.7492\n",
            "Epoch 704/1000\n",
            "8/8 [==============================] - 0s 7ms/step - loss: 24.7642 - val_loss: 21.7509\n",
            "Epoch 705/1000\n",
            "8/8 [==============================] - 0s 8ms/step - loss: 24.7624 - val_loss: 21.7552\n",
            "Epoch 706/1000\n",
            "8/8 [==============================] - 0s 6ms/step - loss: 24.7674 - val_loss: 21.7637\n",
            "Epoch 707/1000\n",
            "8/8 [==============================] - 0s 7ms/step - loss: 24.7672 - val_loss: 21.7728\n",
            "Epoch 708/1000\n",
            "8/8 [==============================] - 0s 8ms/step - loss: 24.7668 - val_loss: 21.7756\n",
            "Epoch 709/1000\n",
            "8/8 [==============================] - 0s 7ms/step - loss: 24.7664 - val_loss: 21.7668\n",
            "Epoch 710/1000\n",
            "8/8 [==============================] - 0s 8ms/step - loss: 24.7667 - val_loss: 21.7600\n",
            "Epoch 711/1000\n",
            "8/8 [==============================] - 0s 8ms/step - loss: 24.7647 - val_loss: 21.7614\n",
            "Epoch 712/1000\n",
            "8/8 [==============================] - 0s 7ms/step - loss: 24.7643 - val_loss: 21.7572\n",
            "Epoch 713/1000\n",
            "8/8 [==============================] - 0s 7ms/step - loss: 24.7646 - val_loss: 21.7496\n",
            "Epoch 714/1000\n",
            "8/8 [==============================] - 0s 7ms/step - loss: 24.7673 - val_loss: 21.7514\n",
            "Epoch 715/1000\n",
            "8/8 [==============================] - 0s 7ms/step - loss: 24.7703 - val_loss: 21.7464\n",
            "Epoch 716/1000\n",
            "8/8 [==============================] - 0s 6ms/step - loss: 24.7637 - val_loss: 21.7511\n",
            "Epoch 717/1000\n",
            "8/8 [==============================] - 0s 7ms/step - loss: 24.7643 - val_loss: 21.7513\n",
            "Epoch 718/1000\n",
            "8/8 [==============================] - 0s 8ms/step - loss: 24.7645 - val_loss: 21.7484\n",
            "Epoch 719/1000\n",
            "8/8 [==============================] - 0s 7ms/step - loss: 24.7633 - val_loss: 21.7507\n",
            "Epoch 720/1000\n",
            "8/8 [==============================] - 0s 6ms/step - loss: 24.7643 - val_loss: 21.7515\n",
            "Epoch 721/1000\n",
            "8/8 [==============================] - 0s 7ms/step - loss: 24.7637 - val_loss: 21.7541\n",
            "Epoch 722/1000\n",
            "8/8 [==============================] - 0s 6ms/step - loss: 24.7665 - val_loss: 21.7500\n",
            "Epoch 723/1000\n",
            "8/8 [==============================] - 0s 7ms/step - loss: 24.7631 - val_loss: 21.7512\n",
            "Epoch 724/1000\n",
            "8/8 [==============================] - 0s 7ms/step - loss: 24.7637 - val_loss: 21.7523\n",
            "Epoch 725/1000\n",
            "8/8 [==============================] - 0s 7ms/step - loss: 24.7740 - val_loss: 21.7637\n",
            "Epoch 726/1000\n",
            "8/8 [==============================] - 0s 7ms/step - loss: 24.7678 - val_loss: 21.7554\n",
            "Epoch 727/1000\n",
            "8/8 [==============================] - 0s 7ms/step - loss: 24.7662 - val_loss: 21.7563\n",
            "Epoch 728/1000\n",
            "8/8 [==============================] - 0s 9ms/step - loss: 24.7656 - val_loss: 21.7498\n",
            "Epoch 729/1000\n",
            "8/8 [==============================] - 0s 7ms/step - loss: 24.7635 - val_loss: 21.7470\n",
            "Epoch 730/1000\n",
            "8/8 [==============================] - 0s 7ms/step - loss: 24.7663 - val_loss: 21.7377\n",
            "Epoch 731/1000\n",
            "8/8 [==============================] - 0s 7ms/step - loss: 24.7646 - val_loss: 21.7385\n",
            "Epoch 732/1000\n",
            "8/8 [==============================] - 0s 7ms/step - loss: 24.7638 - val_loss: 21.7395\n",
            "Epoch 733/1000\n",
            "8/8 [==============================] - 0s 7ms/step - loss: 24.7652 - val_loss: 21.7355\n",
            "Epoch 734/1000\n",
            "8/8 [==============================] - 0s 9ms/step - loss: 24.7709 - val_loss: 21.7444\n",
            "Epoch 735/1000\n",
            "8/8 [==============================] - 0s 8ms/step - loss: 24.7642 - val_loss: 21.7467\n",
            "Epoch 736/1000\n",
            "8/8 [==============================] - 0s 7ms/step - loss: 24.7662 - val_loss: 21.7453\n",
            "Epoch 737/1000\n",
            "8/8 [==============================] - 0s 8ms/step - loss: 24.7642 - val_loss: 21.7453\n",
            "Epoch 738/1000\n",
            "8/8 [==============================] - 0s 7ms/step - loss: 24.7637 - val_loss: 21.7464\n",
            "Epoch 739/1000\n",
            "8/8 [==============================] - 0s 7ms/step - loss: 24.7640 - val_loss: 21.7505\n",
            "Epoch 740/1000\n",
            "8/8 [==============================] - 0s 7ms/step - loss: 24.7642 - val_loss: 21.7524\n",
            "Epoch 741/1000\n",
            "8/8 [==============================] - 0s 8ms/step - loss: 24.7648 - val_loss: 21.7514\n",
            "Epoch 742/1000\n",
            "8/8 [==============================] - 0s 7ms/step - loss: 24.7640 - val_loss: 21.7532\n",
            "Epoch 743/1000\n",
            "8/8 [==============================] - 0s 7ms/step - loss: 24.7628 - val_loss: 21.7601\n",
            "Epoch 744/1000\n",
            "8/8 [==============================] - 0s 10ms/step - loss: 24.7651 - val_loss: 21.7659\n",
            "Epoch 745/1000\n",
            "8/8 [==============================] - 0s 7ms/step - loss: 24.7651 - val_loss: 21.7666\n",
            "Epoch 746/1000\n",
            "8/8 [==============================] - 0s 7ms/step - loss: 24.7633 - val_loss: 21.7740\n",
            "Epoch 747/1000\n",
            "8/8 [==============================] - 0s 8ms/step - loss: 24.7679 - val_loss: 21.7818\n",
            "Epoch 748/1000\n",
            "8/8 [==============================] - 0s 8ms/step - loss: 24.7659 - val_loss: 21.7775\n",
            "Epoch 749/1000\n",
            "8/8 [==============================] - 0s 8ms/step - loss: 24.7664 - val_loss: 21.7805\n",
            "Epoch 750/1000\n",
            "8/8 [==============================] - 0s 10ms/step - loss: 24.7656 - val_loss: 21.7761\n",
            "Epoch 751/1000\n",
            "8/8 [==============================] - 0s 8ms/step - loss: 24.7677 - val_loss: 21.7808\n",
            "Epoch 752/1000\n",
            "8/8 [==============================] - 0s 8ms/step - loss: 24.7674 - val_loss: 21.7713\n",
            "Epoch 753/1000\n",
            "8/8 [==============================] - 0s 8ms/step - loss: 24.7657 - val_loss: 21.7697\n",
            "Epoch 754/1000\n",
            "8/8 [==============================] - 0s 8ms/step - loss: 24.7649 - val_loss: 21.7681\n",
            "Epoch 755/1000\n",
            "8/8 [==============================] - 0s 8ms/step - loss: 24.7644 - val_loss: 21.7627\n",
            "Epoch 756/1000\n",
            "8/8 [==============================] - 0s 9ms/step - loss: 24.7641 - val_loss: 21.7624\n",
            "Epoch 757/1000\n",
            "8/8 [==============================] - 0s 7ms/step - loss: 24.7645 - val_loss: 21.7597\n",
            "Epoch 758/1000\n",
            "8/8 [==============================] - 0s 10ms/step - loss: 24.7642 - val_loss: 21.7562\n",
            "Epoch 759/1000\n",
            "8/8 [==============================] - 0s 8ms/step - loss: 24.7641 - val_loss: 21.7524\n",
            "Epoch 760/1000\n",
            "8/8 [==============================] - 0s 8ms/step - loss: 24.7638 - val_loss: 21.7523\n",
            "Epoch 761/1000\n",
            "8/8 [==============================] - 0s 7ms/step - loss: 24.7639 - val_loss: 21.7523\n",
            "Epoch 762/1000\n",
            "8/8 [==============================] - 0s 8ms/step - loss: 24.7645 - val_loss: 21.7509\n",
            "Epoch 763/1000\n",
            "8/8 [==============================] - 0s 8ms/step - loss: 24.7644 - val_loss: 21.7571\n",
            "Epoch 764/1000\n",
            "8/8 [==============================] - 0s 7ms/step - loss: 24.7662 - val_loss: 21.7621\n",
            "Epoch 765/1000\n",
            "8/8 [==============================] - 0s 8ms/step - loss: 24.7641 - val_loss: 21.7573\n",
            "Epoch 766/1000\n",
            "8/8 [==============================] - 0s 7ms/step - loss: 24.7645 - val_loss: 21.7570\n",
            "Epoch 767/1000\n",
            "8/8 [==============================] - 0s 8ms/step - loss: 24.7631 - val_loss: 21.7514\n",
            "Epoch 768/1000\n",
            "8/8 [==============================] - 0s 7ms/step - loss: 24.7640 - val_loss: 21.7491\n",
            "Epoch 769/1000\n",
            "8/8 [==============================] - 0s 7ms/step - loss: 24.7636 - val_loss: 21.7482\n",
            "Epoch 770/1000\n",
            "8/8 [==============================] - 0s 7ms/step - loss: 24.7646 - val_loss: 21.7491\n",
            "Epoch 771/1000\n",
            "8/8 [==============================] - 0s 7ms/step - loss: 24.7651 - val_loss: 21.7428\n",
            "Epoch 772/1000\n",
            "8/8 [==============================] - 0s 7ms/step - loss: 24.7636 - val_loss: 21.7440\n",
            "Epoch 773/1000\n",
            "8/8 [==============================] - 0s 7ms/step - loss: 24.7643 - val_loss: 21.7469\n",
            "Epoch 774/1000\n",
            "8/8 [==============================] - 0s 9ms/step - loss: 24.7643 - val_loss: 21.7475\n",
            "Epoch 775/1000\n",
            "8/8 [==============================] - 0s 10ms/step - loss: 24.7665 - val_loss: 21.7420\n",
            "Epoch 776/1000\n",
            "8/8 [==============================] - 0s 7ms/step - loss: 24.7673 - val_loss: 21.7505\n",
            "Epoch 777/1000\n",
            "8/8 [==============================] - 0s 7ms/step - loss: 24.7641 - val_loss: 21.7509\n",
            "Epoch 778/1000\n",
            "8/8 [==============================] - 0s 7ms/step - loss: 24.7642 - val_loss: 21.7536\n",
            "Epoch 779/1000\n",
            "8/8 [==============================] - 0s 8ms/step - loss: 24.7644 - val_loss: 21.7524\n",
            "Epoch 780/1000\n",
            "8/8 [==============================] - 0s 6ms/step - loss: 24.7649 - val_loss: 21.7516\n",
            "Epoch 781/1000\n",
            "8/8 [==============================] - 0s 7ms/step - loss: 24.7683 - val_loss: 21.7429\n",
            "Epoch 782/1000\n",
            "8/8 [==============================] - 0s 8ms/step - loss: 24.7652 - val_loss: 21.7398\n",
            "Epoch 783/1000\n",
            "8/8 [==============================] - 0s 7ms/step - loss: 24.7651 - val_loss: 21.7439\n",
            "Epoch 784/1000\n",
            "8/8 [==============================] - 0s 7ms/step - loss: 24.7662 - val_loss: 21.7394\n",
            "Epoch 785/1000\n",
            "8/8 [==============================] - 0s 7ms/step - loss: 24.7635 - val_loss: 21.7396\n",
            "Epoch 786/1000\n",
            "8/8 [==============================] - 0s 7ms/step - loss: 24.7636 - val_loss: 21.7371\n",
            "Epoch 787/1000\n",
            "8/8 [==============================] - 0s 9ms/step - loss: 24.7640 - val_loss: 21.7388\n",
            "Epoch 788/1000\n",
            "8/8 [==============================] - 0s 8ms/step - loss: 24.7660 - val_loss: 21.7348\n",
            "Epoch 789/1000\n",
            "8/8 [==============================] - 0s 8ms/step - loss: 24.7662 - val_loss: 21.7414\n",
            "Epoch 790/1000\n",
            "8/8 [==============================] - 0s 9ms/step - loss: 24.7661 - val_loss: 21.7376\n",
            "Epoch 791/1000\n",
            "8/8 [==============================] - 0s 7ms/step - loss: 24.7634 - val_loss: 21.7398\n",
            "Epoch 792/1000\n",
            "8/8 [==============================] - 0s 8ms/step - loss: 24.7646 - val_loss: 21.7416\n",
            "Epoch 793/1000\n",
            "8/8 [==============================] - 0s 7ms/step - loss: 24.7630 - val_loss: 21.7393\n",
            "Epoch 794/1000\n",
            "8/8 [==============================] - 0s 7ms/step - loss: 24.7674 - val_loss: 21.7307\n",
            "Epoch 795/1000\n",
            "8/8 [==============================] - 0s 9ms/step - loss: 24.7656 - val_loss: 21.7348\n",
            "Epoch 796/1000\n",
            "8/8 [==============================] - 0s 9ms/step - loss: 24.7636 - val_loss: 21.7363\n",
            "Epoch 797/1000\n",
            "8/8 [==============================] - 0s 8ms/step - loss: 24.7646 - val_loss: 21.7350\n",
            "Epoch 798/1000\n",
            "8/8 [==============================] - 0s 8ms/step - loss: 24.7639 - val_loss: 21.7386\n",
            "Epoch 799/1000\n",
            "8/8 [==============================] - 0s 8ms/step - loss: 24.7638 - val_loss: 21.7395\n",
            "Epoch 800/1000\n",
            "8/8 [==============================] - 0s 9ms/step - loss: 24.7644 - val_loss: 21.7447\n",
            "Epoch 801/1000\n",
            "8/8 [==============================] - 0s 8ms/step - loss: 24.7643 - val_loss: 21.7457\n",
            "Epoch 802/1000\n",
            "8/8 [==============================] - 0s 8ms/step - loss: 24.7681 - val_loss: 21.7530\n",
            "Epoch 803/1000\n",
            "8/8 [==============================] - 0s 9ms/step - loss: 24.7642 - val_loss: 21.7510\n",
            "Epoch 804/1000\n",
            "8/8 [==============================] - 0s 8ms/step - loss: 24.7640 - val_loss: 21.7468\n",
            "Epoch 805/1000\n",
            "8/8 [==============================] - 0s 9ms/step - loss: 24.7658 - val_loss: 21.7430\n",
            "Epoch 806/1000\n",
            "8/8 [==============================] - 0s 10ms/step - loss: 24.7675 - val_loss: 21.7395\n",
            "Epoch 807/1000\n",
            "8/8 [==============================] - 0s 9ms/step - loss: 24.7630 - val_loss: 21.7422\n",
            "Epoch 808/1000\n",
            "8/8 [==============================] - 0s 7ms/step - loss: 24.7643 - val_loss: 21.7450\n",
            "Epoch 809/1000\n",
            "8/8 [==============================] - 0s 8ms/step - loss: 24.7649 - val_loss: 21.7485\n",
            "Epoch 810/1000\n",
            "8/8 [==============================] - 0s 7ms/step - loss: 24.7641 - val_loss: 21.7478\n",
            "Epoch 811/1000\n",
            "8/8 [==============================] - 0s 7ms/step - loss: 24.7650 - val_loss: 21.7533\n",
            "Epoch 812/1000\n",
            "8/8 [==============================] - 0s 8ms/step - loss: 24.7683 - val_loss: 21.7444\n",
            "Epoch 813/1000\n",
            "8/8 [==============================] - 0s 9ms/step - loss: 24.7682 - val_loss: 21.7487\n",
            "Epoch 814/1000\n",
            "8/8 [==============================] - 0s 9ms/step - loss: 24.7647 - val_loss: 21.7509\n",
            "Epoch 815/1000\n",
            "8/8 [==============================] - 0s 7ms/step - loss: 24.7650 - val_loss: 21.7509\n",
            "Epoch 816/1000\n",
            "8/8 [==============================] - 0s 7ms/step - loss: 24.7647 - val_loss: 21.7454\n",
            "Epoch 817/1000\n",
            "8/8 [==============================] - 0s 8ms/step - loss: 24.7677 - val_loss: 21.7371\n",
            "Epoch 818/1000\n",
            "8/8 [==============================] - 0s 7ms/step - loss: 24.7647 - val_loss: 21.7400\n",
            "Epoch 819/1000\n",
            "8/8 [==============================] - 0s 9ms/step - loss: 24.7648 - val_loss: 21.7438\n",
            "Epoch 820/1000\n",
            "8/8 [==============================] - 0s 7ms/step - loss: 24.7650 - val_loss: 21.7506\n",
            "Epoch 821/1000\n",
            "8/8 [==============================] - 0s 7ms/step - loss: 24.7637 - val_loss: 21.7527\n",
            "Epoch 822/1000\n",
            "8/8 [==============================] - 0s 8ms/step - loss: 24.7640 - val_loss: 21.7556\n",
            "Epoch 823/1000\n",
            "8/8 [==============================] - 0s 8ms/step - loss: 24.7631 - val_loss: 21.7588\n",
            "Epoch 824/1000\n",
            "8/8 [==============================] - 0s 7ms/step - loss: 24.7638 - val_loss: 21.7597\n",
            "Epoch 825/1000\n",
            "8/8 [==============================] - 0s 8ms/step - loss: 24.7637 - val_loss: 21.7605\n",
            "Epoch 826/1000\n",
            "8/8 [==============================] - 0s 8ms/step - loss: 24.7646 - val_loss: 21.7629\n",
            "Epoch 827/1000\n",
            "8/8 [==============================] - 0s 7ms/step - loss: 24.7652 - val_loss: 21.7662\n",
            "Epoch 828/1000\n",
            "8/8 [==============================] - 0s 8ms/step - loss: 24.7654 - val_loss: 21.7598\n",
            "Epoch 829/1000\n",
            "8/8 [==============================] - 0s 8ms/step - loss: 24.7655 - val_loss: 21.7625\n",
            "Epoch 830/1000\n",
            "8/8 [==============================] - 0s 8ms/step - loss: 24.7650 - val_loss: 21.7543\n",
            "Epoch 831/1000\n",
            "8/8 [==============================] - 0s 8ms/step - loss: 24.7629 - val_loss: 21.7499\n",
            "Epoch 832/1000\n",
            "8/8 [==============================] - 0s 9ms/step - loss: 24.7653 - val_loss: 21.7430\n",
            "Epoch 833/1000\n",
            "8/8 [==============================] - 0s 9ms/step - loss: 24.7660 - val_loss: 21.7412\n",
            "Epoch 834/1000\n",
            "8/8 [==============================] - 0s 11ms/step - loss: 24.7655 - val_loss: 21.7462\n",
            "Epoch 835/1000\n",
            "8/8 [==============================] - 0s 8ms/step - loss: 24.7674 - val_loss: 21.7413\n",
            "Epoch 836/1000\n",
            "8/8 [==============================] - 0s 8ms/step - loss: 24.7633 - val_loss: 21.7449\n",
            "Epoch 837/1000\n",
            "8/8 [==============================] - 0s 8ms/step - loss: 24.7684 - val_loss: 21.7513\n",
            "Epoch 838/1000\n",
            "8/8 [==============================] - 0s 8ms/step - loss: 24.7638 - val_loss: 21.7504\n",
            "Epoch 839/1000\n",
            "8/8 [==============================] - 0s 7ms/step - loss: 24.7638 - val_loss: 21.7483\n",
            "Epoch 840/1000\n",
            "8/8 [==============================] - 0s 7ms/step - loss: 24.7642 - val_loss: 21.7476\n",
            "Epoch 841/1000\n",
            "8/8 [==============================] - 0s 7ms/step - loss: 24.7691 - val_loss: 21.7539\n",
            "Epoch 842/1000\n",
            "8/8 [==============================] - 0s 7ms/step - loss: 24.7632 - val_loss: 21.7560\n",
            "Epoch 843/1000\n",
            "8/8 [==============================] - 0s 8ms/step - loss: 24.7653 - val_loss: 21.7592\n",
            "Epoch 844/1000\n",
            "8/8 [==============================] - 0s 7ms/step - loss: 24.7663 - val_loss: 21.7529\n",
            "Epoch 845/1000\n",
            "8/8 [==============================] - 0s 7ms/step - loss: 24.7644 - val_loss: 21.7568\n",
            "Epoch 846/1000\n",
            "8/8 [==============================] - 0s 7ms/step - loss: 24.7647 - val_loss: 21.7509\n",
            "Epoch 847/1000\n",
            "8/8 [==============================] - 0s 8ms/step - loss: 24.7639 - val_loss: 21.7508\n",
            "Epoch 848/1000\n",
            "8/8 [==============================] - 0s 7ms/step - loss: 24.7635 - val_loss: 21.7497\n",
            "Epoch 849/1000\n",
            "8/8 [==============================] - 0s 7ms/step - loss: 24.7646 - val_loss: 21.7478\n",
            "Epoch 850/1000\n",
            "8/8 [==============================] - 0s 12ms/step - loss: 24.7640 - val_loss: 21.7530\n",
            "Epoch 851/1000\n",
            "8/8 [==============================] - 0s 7ms/step - loss: 24.7651 - val_loss: 21.7531\n",
            "Epoch 852/1000\n",
            "8/8 [==============================] - 0s 8ms/step - loss: 24.7626 - val_loss: 21.7476\n",
            "Epoch 853/1000\n",
            "8/8 [==============================] - 0s 7ms/step - loss: 24.7647 - val_loss: 21.7394\n",
            "Epoch 854/1000\n",
            "8/8 [==============================] - 0s 7ms/step - loss: 24.7660 - val_loss: 21.7285\n",
            "Epoch 855/1000\n",
            "8/8 [==============================] - 0s 7ms/step - loss: 24.7660 - val_loss: 21.7312\n",
            "Epoch 856/1000\n",
            "8/8 [==============================] - 0s 7ms/step - loss: 24.7652 - val_loss: 21.7286\n",
            "Epoch 857/1000\n",
            "8/8 [==============================] - 0s 7ms/step - loss: 24.7662 - val_loss: 21.7229\n",
            "Epoch 858/1000\n",
            "8/8 [==============================] - 0s 8ms/step - loss: 24.7676 - val_loss: 21.7265\n",
            "Epoch 859/1000\n",
            "8/8 [==============================] - 0s 7ms/step - loss: 24.7654 - val_loss: 21.7266\n",
            "Epoch 860/1000\n",
            "8/8 [==============================] - 0s 7ms/step - loss: 24.7662 - val_loss: 21.7207\n",
            "Epoch 861/1000\n",
            "8/8 [==============================] - 0s 8ms/step - loss: 24.7677 - val_loss: 21.7209\n",
            "Epoch 862/1000\n",
            "8/8 [==============================] - 0s 8ms/step - loss: 24.7645 - val_loss: 21.7216\n",
            "Epoch 863/1000\n",
            "8/8 [==============================] - 0s 7ms/step - loss: 24.7649 - val_loss: 21.7212\n",
            "Epoch 864/1000\n",
            "8/8 [==============================] - 0s 7ms/step - loss: 24.7657 - val_loss: 21.7207\n",
            "Epoch 865/1000\n",
            "8/8 [==============================] - 0s 8ms/step - loss: 24.7648 - val_loss: 21.7178\n",
            "Epoch 866/1000\n",
            "8/8 [==============================] - 0s 7ms/step - loss: 24.7670 - val_loss: 21.7150\n",
            "Epoch 867/1000\n",
            "8/8 [==============================] - 0s 7ms/step - loss: 24.7663 - val_loss: 21.7165\n",
            "Epoch 868/1000\n",
            "8/8 [==============================] - 0s 7ms/step - loss: 24.7698 - val_loss: 21.7133\n",
            "Epoch 869/1000\n",
            "8/8 [==============================] - 0s 7ms/step - loss: 24.7664 - val_loss: 21.7249\n",
            "Epoch 870/1000\n",
            "8/8 [==============================] - 0s 7ms/step - loss: 24.7637 - val_loss: 21.7272\n",
            "Epoch 871/1000\n",
            "8/8 [==============================] - 0s 7ms/step - loss: 24.7639 - val_loss: 21.7335\n",
            "Epoch 872/1000\n",
            "8/8 [==============================] - 0s 7ms/step - loss: 24.7641 - val_loss: 21.7337\n",
            "Epoch 873/1000\n",
            "8/8 [==============================] - 0s 7ms/step - loss: 24.7637 - val_loss: 21.7380\n",
            "Epoch 874/1000\n",
            "8/8 [==============================] - 0s 6ms/step - loss: 24.7635 - val_loss: 21.7392\n",
            "Epoch 875/1000\n",
            "8/8 [==============================] - 0s 7ms/step - loss: 24.7643 - val_loss: 21.7439\n",
            "Epoch 876/1000\n",
            "8/8 [==============================] - 0s 8ms/step - loss: 24.7655 - val_loss: 21.7483\n",
            "Epoch 877/1000\n",
            "8/8 [==============================] - 0s 10ms/step - loss: 24.7644 - val_loss: 21.7504\n",
            "Epoch 878/1000\n",
            "8/8 [==============================] - 0s 7ms/step - loss: 24.7637 - val_loss: 21.7504\n",
            "Epoch 879/1000\n",
            "8/8 [==============================] - 0s 7ms/step - loss: 24.7641 - val_loss: 21.7513\n",
            "Epoch 880/1000\n",
            "8/8 [==============================] - 0s 7ms/step - loss: 24.7667 - val_loss: 21.7509\n",
            "Epoch 881/1000\n",
            "8/8 [==============================] - 0s 7ms/step - loss: 24.7634 - val_loss: 21.7475\n",
            "Epoch 882/1000\n",
            "8/8 [==============================] - 0s 8ms/step - loss: 24.7643 - val_loss: 21.7480\n",
            "Epoch 883/1000\n",
            "8/8 [==============================] - 0s 7ms/step - loss: 24.7635 - val_loss: 21.7491\n",
            "Epoch 884/1000\n",
            "8/8 [==============================] - 0s 8ms/step - loss: 24.7629 - val_loss: 21.7556\n",
            "Epoch 885/1000\n",
            "8/8 [==============================] - 0s 8ms/step - loss: 24.7651 - val_loss: 21.7640\n",
            "Epoch 886/1000\n",
            "8/8 [==============================] - 0s 8ms/step - loss: 24.7666 - val_loss: 21.7665\n",
            "Epoch 887/1000\n",
            "8/8 [==============================] - 0s 9ms/step - loss: 24.7648 - val_loss: 21.7640\n",
            "Epoch 888/1000\n",
            "8/8 [==============================] - 0s 8ms/step - loss: 24.7646 - val_loss: 21.7637\n",
            "Epoch 889/1000\n",
            "8/8 [==============================] - 0s 8ms/step - loss: 24.7641 - val_loss: 21.7713\n",
            "Epoch 890/1000\n",
            "8/8 [==============================] - 0s 8ms/step - loss: 24.7644 - val_loss: 21.7731\n",
            "Epoch 891/1000\n",
            "8/8 [==============================] - 0s 8ms/step - loss: 24.7652 - val_loss: 21.7682\n",
            "Epoch 892/1000\n",
            "8/8 [==============================] - 0s 8ms/step - loss: 24.7663 - val_loss: 21.7710\n",
            "Epoch 893/1000\n",
            "8/8 [==============================] - 0s 9ms/step - loss: 24.7644 - val_loss: 21.7675\n",
            "Epoch 894/1000\n",
            "8/8 [==============================] - 0s 8ms/step - loss: 24.7649 - val_loss: 21.7636\n",
            "Epoch 895/1000\n",
            "8/8 [==============================] - 0s 8ms/step - loss: 24.7641 - val_loss: 21.7649\n",
            "Epoch 896/1000\n",
            "8/8 [==============================] - 0s 9ms/step - loss: 24.7685 - val_loss: 21.7558\n",
            "Epoch 897/1000\n",
            "8/8 [==============================] - 0s 10ms/step - loss: 24.7647 - val_loss: 21.7592\n",
            "Epoch 898/1000\n",
            "8/8 [==============================] - 0s 9ms/step - loss: 24.7660 - val_loss: 21.7587\n",
            "Epoch 899/1000\n",
            "8/8 [==============================] - 0s 8ms/step - loss: 24.7635 - val_loss: 21.7651\n",
            "Epoch 900/1000\n",
            "8/8 [==============================] - 0s 8ms/step - loss: 24.7691 - val_loss: 21.7726\n",
            "Epoch 901/1000\n",
            "8/8 [==============================] - 0s 8ms/step - loss: 24.7675 - val_loss: 21.7717\n",
            "Epoch 902/1000\n",
            "8/8 [==============================] - 0s 8ms/step - loss: 24.7715 - val_loss: 21.7601\n",
            "Epoch 903/1000\n",
            "8/8 [==============================] - 0s 9ms/step - loss: 24.7665 - val_loss: 21.7658\n",
            "Epoch 904/1000\n",
            "8/8 [==============================] - 0s 8ms/step - loss: 24.7651 - val_loss: 21.7670\n",
            "Epoch 905/1000\n",
            "8/8 [==============================] - 0s 7ms/step - loss: 24.7641 - val_loss: 21.7631\n",
            "Epoch 906/1000\n",
            "8/8 [==============================] - 0s 7ms/step - loss: 24.7648 - val_loss: 21.7612\n",
            "Epoch 907/1000\n",
            "8/8 [==============================] - 0s 7ms/step - loss: 24.7633 - val_loss: 21.7547\n",
            "Epoch 908/1000\n",
            "8/8 [==============================] - 0s 7ms/step - loss: 24.7651 - val_loss: 21.7546\n",
            "Epoch 909/1000\n",
            "8/8 [==============================] - 0s 7ms/step - loss: 24.7627 - val_loss: 21.7490\n",
            "Epoch 910/1000\n",
            "8/8 [==============================] - 0s 7ms/step - loss: 24.7631 - val_loss: 21.7471\n",
            "Epoch 911/1000\n",
            "8/8 [==============================] - 0s 7ms/step - loss: 24.7648 - val_loss: 21.7398\n",
            "Epoch 912/1000\n",
            "8/8 [==============================] - 0s 7ms/step - loss: 24.7656 - val_loss: 21.7405\n",
            "Epoch 913/1000\n",
            "8/8 [==============================] - 0s 9ms/step - loss: 24.7637 - val_loss: 21.7443\n",
            "Epoch 914/1000\n",
            "8/8 [==============================] - 0s 8ms/step - loss: 24.7640 - val_loss: 21.7502\n",
            "Epoch 915/1000\n",
            "8/8 [==============================] - 0s 7ms/step - loss: 24.7635 - val_loss: 21.7486\n",
            "Epoch 916/1000\n",
            "8/8 [==============================] - 0s 7ms/step - loss: 24.7635 - val_loss: 21.7496\n",
            "Epoch 917/1000\n",
            "8/8 [==============================] - 0s 7ms/step - loss: 24.7637 - val_loss: 21.7488\n",
            "Epoch 918/1000\n",
            "8/8 [==============================] - 0s 7ms/step - loss: 24.7672 - val_loss: 21.7507\n",
            "Epoch 919/1000\n",
            "8/8 [==============================] - 0s 7ms/step - loss: 24.7653 - val_loss: 21.7519\n",
            "Epoch 920/1000\n",
            "8/8 [==============================] - 0s 7ms/step - loss: 24.7634 - val_loss: 21.7482\n",
            "Epoch 921/1000\n",
            "8/8 [==============================] - 0s 7ms/step - loss: 24.7643 - val_loss: 21.7500\n",
            "Epoch 922/1000\n",
            "8/8 [==============================] - 0s 7ms/step - loss: 24.7677 - val_loss: 21.7465\n",
            "Epoch 923/1000\n",
            "8/8 [==============================] - 0s 7ms/step - loss: 24.7639 - val_loss: 21.7465\n",
            "Epoch 924/1000\n",
            "8/8 [==============================] - 0s 7ms/step - loss: 24.7669 - val_loss: 21.7541\n",
            "Epoch 925/1000\n",
            "8/8 [==============================] - 0s 7ms/step - loss: 24.7640 - val_loss: 21.7600\n",
            "Epoch 926/1000\n",
            "8/8 [==============================] - 0s 7ms/step - loss: 24.7664 - val_loss: 21.7662\n",
            "Epoch 927/1000\n",
            "8/8 [==============================] - 0s 7ms/step - loss: 24.7661 - val_loss: 21.7745\n",
            "Epoch 928/1000\n",
            "8/8 [==============================] - 0s 7ms/step - loss: 24.7668 - val_loss: 21.7724\n",
            "Epoch 929/1000\n",
            "8/8 [==============================] - 0s 7ms/step - loss: 24.7644 - val_loss: 21.7674\n",
            "Epoch 930/1000\n",
            "8/8 [==============================] - 0s 8ms/step - loss: 24.7649 - val_loss: 21.7680\n",
            "Epoch 931/1000\n",
            "8/8 [==============================] - 0s 7ms/step - loss: 24.7659 - val_loss: 21.7644\n",
            "Epoch 932/1000\n",
            "8/8 [==============================] - 0s 8ms/step - loss: 24.7633 - val_loss: 21.7557\n",
            "Epoch 933/1000\n",
            "8/8 [==============================] - 0s 8ms/step - loss: 24.7645 - val_loss: 21.7525\n",
            "Epoch 934/1000\n",
            "8/8 [==============================] - 0s 9ms/step - loss: 24.7656 - val_loss: 21.7535\n",
            "Epoch 935/1000\n",
            "8/8 [==============================] - 0s 10ms/step - loss: 24.7633 - val_loss: 21.7445\n",
            "Epoch 936/1000\n",
            "8/8 [==============================] - 0s 8ms/step - loss: 24.7630 - val_loss: 21.7376\n",
            "Epoch 937/1000\n",
            "8/8 [==============================] - 0s 8ms/step - loss: 24.7644 - val_loss: 21.7387\n",
            "Epoch 938/1000\n",
            "8/8 [==============================] - 0s 9ms/step - loss: 24.7820 - val_loss: 21.7258\n",
            "Epoch 939/1000\n",
            "8/8 [==============================] - 0s 9ms/step - loss: 24.7633 - val_loss: 21.7323\n",
            "Epoch 940/1000\n",
            "8/8 [==============================] - 0s 9ms/step - loss: 24.7686 - val_loss: 21.7437\n",
            "Epoch 941/1000\n",
            "8/8 [==============================] - 0s 9ms/step - loss: 24.7649 - val_loss: 21.7450\n",
            "Epoch 942/1000\n",
            "8/8 [==============================] - 0s 9ms/step - loss: 24.7634 - val_loss: 21.7445\n",
            "Epoch 943/1000\n",
            "8/8 [==============================] - 0s 8ms/step - loss: 24.7636 - val_loss: 21.7420\n",
            "Epoch 944/1000\n",
            "8/8 [==============================] - 0s 10ms/step - loss: 24.7635 - val_loss: 21.7412\n",
            "Epoch 945/1000\n",
            "8/8 [==============================] - 0s 11ms/step - loss: 24.7649 - val_loss: 21.7347\n",
            "Epoch 946/1000\n",
            "8/8 [==============================] - 0s 8ms/step - loss: 24.7655 - val_loss: 21.7370\n",
            "Epoch 947/1000\n",
            "8/8 [==============================] - 0s 8ms/step - loss: 24.7646 - val_loss: 21.7375\n",
            "Epoch 948/1000\n",
            "8/8 [==============================] - 0s 7ms/step - loss: 24.7636 - val_loss: 21.7340\n",
            "Epoch 949/1000\n",
            "8/8 [==============================] - 0s 7ms/step - loss: 24.7647 - val_loss: 21.7302\n",
            "Epoch 950/1000\n",
            "8/8 [==============================] - 0s 8ms/step - loss: 24.7639 - val_loss: 21.7310\n",
            "Epoch 951/1000\n",
            "8/8 [==============================] - 0s 9ms/step - loss: 24.7704 - val_loss: 21.7259\n",
            "Epoch 952/1000\n",
            "8/8 [==============================] - 0s 10ms/step - loss: 24.7652 - val_loss: 21.7248\n",
            "Epoch 953/1000\n",
            "8/8 [==============================] - 0s 8ms/step - loss: 24.7647 - val_loss: 21.7268\n",
            "Epoch 954/1000\n",
            "8/8 [==============================] - 0s 8ms/step - loss: 24.7664 - val_loss: 21.7222\n",
            "Epoch 955/1000\n",
            "8/8 [==============================] - 0s 9ms/step - loss: 24.7660 - val_loss: 21.7245\n",
            "Epoch 956/1000\n",
            "8/8 [==============================] - 0s 9ms/step - loss: 24.7654 - val_loss: 21.7294\n",
            "Epoch 957/1000\n",
            "8/8 [==============================] - 0s 12ms/step - loss: 24.7649 - val_loss: 21.7274\n",
            "Epoch 958/1000\n",
            "8/8 [==============================] - 0s 9ms/step - loss: 24.7656 - val_loss: 21.7291\n",
            "Epoch 959/1000\n",
            "8/8 [==============================] - 0s 8ms/step - loss: 24.7696 - val_loss: 21.7193\n",
            "Epoch 960/1000\n",
            "8/8 [==============================] - 0s 9ms/step - loss: 24.7654 - val_loss: 21.7190\n",
            "Epoch 961/1000\n",
            "8/8 [==============================] - 0s 8ms/step - loss: 24.7658 - val_loss: 21.7218\n",
            "Epoch 962/1000\n",
            "8/8 [==============================] - 0s 8ms/step - loss: 24.7683 - val_loss: 21.7282\n",
            "Epoch 963/1000\n",
            "8/8 [==============================] - 0s 8ms/step - loss: 24.7645 - val_loss: 21.7275\n",
            "Epoch 964/1000\n",
            "8/8 [==============================] - 0s 8ms/step - loss: 24.7645 - val_loss: 21.7278\n",
            "Epoch 965/1000\n",
            "8/8 [==============================] - 0s 9ms/step - loss: 24.7655 - val_loss: 21.7266\n",
            "Epoch 966/1000\n",
            "8/8 [==============================] - 0s 11ms/step - loss: 24.7644 - val_loss: 21.7298\n",
            "Epoch 967/1000\n",
            "8/8 [==============================] - 0s 8ms/step - loss: 24.7641 - val_loss: 21.7306\n",
            "Epoch 968/1000\n",
            "8/8 [==============================] - 0s 11ms/step - loss: 24.7651 - val_loss: 21.7366\n",
            "Epoch 969/1000\n",
            "8/8 [==============================] - 0s 9ms/step - loss: 24.7671 - val_loss: 21.7338\n",
            "Epoch 970/1000\n",
            "8/8 [==============================] - 0s 9ms/step - loss: 24.7637 - val_loss: 21.7384\n",
            "Epoch 971/1000\n",
            "8/8 [==============================] - 0s 10ms/step - loss: 24.7667 - val_loss: 21.7507\n",
            "Epoch 972/1000\n",
            "8/8 [==============================] - 0s 9ms/step - loss: 24.7646 - val_loss: 21.7533\n",
            "Epoch 973/1000\n",
            "8/8 [==============================] - 0s 9ms/step - loss: 24.7647 - val_loss: 21.7544\n",
            "Epoch 974/1000\n",
            "8/8 [==============================] - 0s 9ms/step - loss: 24.7637 - val_loss: 21.7503\n",
            "Epoch 975/1000\n",
            "8/8 [==============================] - 0s 9ms/step - loss: 24.7636 - val_loss: 21.7456\n",
            "Epoch 976/1000\n",
            "8/8 [==============================] - 0s 8ms/step - loss: 24.7677 - val_loss: 21.7391\n",
            "Epoch 977/1000\n",
            "8/8 [==============================] - 0s 7ms/step - loss: 24.7639 - val_loss: 21.7405\n",
            "Epoch 978/1000\n",
            "8/8 [==============================] - 0s 8ms/step - loss: 24.7634 - val_loss: 21.7432\n",
            "Epoch 979/1000\n",
            "8/8 [==============================] - 0s 10ms/step - loss: 24.7647 - val_loss: 21.7488\n",
            "Epoch 980/1000\n",
            "8/8 [==============================] - 0s 8ms/step - loss: 24.7642 - val_loss: 21.7456\n",
            "Epoch 981/1000\n",
            "8/8 [==============================] - 0s 8ms/step - loss: 24.7664 - val_loss: 21.7489\n",
            "Epoch 982/1000\n",
            "8/8 [==============================] - 0s 8ms/step - loss: 24.7639 - val_loss: 21.7484\n",
            "Epoch 983/1000\n",
            "8/8 [==============================] - 0s 9ms/step - loss: 24.7633 - val_loss: 21.7443\n",
            "Epoch 984/1000\n",
            "8/8 [==============================] - 0s 9ms/step - loss: 24.7684 - val_loss: 21.7380\n",
            "Epoch 985/1000\n",
            "8/8 [==============================] - 0s 8ms/step - loss: 24.7647 - val_loss: 21.7442\n",
            "Epoch 986/1000\n",
            "8/8 [==============================] - 0s 10ms/step - loss: 24.7641 - val_loss: 21.7443\n",
            "Epoch 987/1000\n",
            "8/8 [==============================] - 0s 8ms/step - loss: 24.7708 - val_loss: 21.7394\n",
            "Epoch 988/1000\n",
            "8/8 [==============================] - 0s 9ms/step - loss: 24.7676 - val_loss: 21.7557\n",
            "Epoch 989/1000\n",
            "8/8 [==============================] - 0s 7ms/step - loss: 24.7643 - val_loss: 21.7571\n",
            "Epoch 990/1000\n",
            "8/8 [==============================] - 0s 8ms/step - loss: 24.7653 - val_loss: 21.7620\n",
            "Epoch 991/1000\n",
            "8/8 [==============================] - 0s 7ms/step - loss: 24.7648 - val_loss: 21.7600\n",
            "Epoch 992/1000\n",
            "8/8 [==============================] - 0s 7ms/step - loss: 24.7648 - val_loss: 21.7643\n",
            "Epoch 993/1000\n",
            "8/8 [==============================] - 0s 8ms/step - loss: 24.7646 - val_loss: 21.7653\n",
            "Epoch 994/1000\n",
            "8/8 [==============================] - 0s 8ms/step - loss: 24.7660 - val_loss: 21.7717\n",
            "Epoch 995/1000\n",
            "8/8 [==============================] - 0s 8ms/step - loss: 24.7650 - val_loss: 21.7688\n",
            "Epoch 996/1000\n",
            "8/8 [==============================] - 0s 8ms/step - loss: 24.7663 - val_loss: 21.7735\n",
            "Epoch 997/1000\n",
            "8/8 [==============================] - 0s 9ms/step - loss: 24.7668 - val_loss: 21.7659\n",
            "Epoch 998/1000\n",
            "8/8 [==============================] - 0s 8ms/step - loss: 24.7644 - val_loss: 21.7673\n",
            "Epoch 999/1000\n",
            "8/8 [==============================] - 0s 7ms/step - loss: 24.7668 - val_loss: 21.7682\n",
            "Epoch 1000/1000\n",
            "8/8 [==============================] - 0s 8ms/step - loss: 24.7650 - val_loss: 21.7707\n"
          ]
        },
        {
          "output_type": "execute_result",
          "data": {
            "text/plain": [
              "<keras.callbacks.History at 0x7f0d967a1b10>"
            ]
          },
          "metadata": {},
          "execution_count": 140
        }
      ]
    }
  ]
}