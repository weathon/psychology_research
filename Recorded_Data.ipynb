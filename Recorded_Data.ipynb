{
  "nbformat": 4,
  "nbformat_minor": 0,
  "metadata": {
    "colab": {
      "name": "Recorded Data.ipynb",
      "provenance": [],
      "collapsed_sections": [],
      "authorship_tag": "ABX9TyNKoEZSwNBm2UZAlx5OxwyW",
      "include_colab_link": true
    },
    "kernelspec": {
      "name": "python3",
      "display_name": "Python 3"
    },
    "language_info": {
      "name": "python"
    }
  },
  "cells": [
    {
      "cell_type": "markdown",
      "metadata": {
        "id": "view-in-github",
        "colab_type": "text"
      },
      "source": [
        "<a href=\"https://colab.research.google.com/github/weathon/psychology_research/blob/master/Recorded_Data.ipynb\" target=\"_parent\"><img src=\"https://colab.research.google.com/assets/colab-badge.svg\" alt=\"Open In Colab\"/></a>"
      ]
    },
    {
      "cell_type": "code",
      "execution_count": null,
      "metadata": {
        "id": "O02d3u8d-I88"
      },
      "outputs": [],
      "source": [
        "!wget https://mdpi-res.com/d_attachment/data/data-04-00124/article_deploy/data-04-00124-s001.zip"
      ]
    },
    {
      "cell_type": "code",
      "source": [
        "!mv data-04-00124-s001.zip data.zip\n",
        "!unzip data.zip"
      ],
      "metadata": {
        "id": "-kpc3uRA-NOf"
      },
      "execution_count": null,
      "outputs": []
    },
    {
      "cell_type": "code",
      "source": [
        "# !pip3 install numpy -U\n",
        "# !pip install --upgrade scipy\n",
        "import pandas as pd\n",
        "import numpy as np\n",
        "import matplotlib.pyplot as plt\n",
        "import scipy.stats"
      ],
      "metadata": {
        "id": "ynG4Qi7k-O_0"
      },
      "execution_count": 1,
      "outputs": []
    },
    {
      "cell_type": "code",
      "source": [
        "DataFrame = pd.read_csv(\"data.csv\")"
      ],
      "metadata": {
        "id": "IpSoBfal-QKF"
      },
      "execution_count": 4,
      "outputs": []
    },
    {
      "cell_type": "code",
      "source": [
        "Grad = DataFrame[DataFrame[\"Academic\"] == \"Grad\"]"
      ],
      "metadata": {
        "id": "yNKBmXxS-hZN"
      },
      "execution_count": 5,
      "outputs": []
    },
    {
      "cell_type": "code",
      "source": [
        "Under = DataFrame[DataFrame[\"Academic\"] == \"Under\"]"
      ],
      "metadata": {
        "id": "2TpVF3ZQ-jyt"
      },
      "execution_count": 6,
      "outputs": []
    },
    {
      "cell_type": "code",
      "source": [
        "np.mean(Grad[\"ToDep\"])"
      ],
      "metadata": {
        "colab": {
          "base_uri": "https://localhost:8080/"
        },
        "id": "sCV8T1wW-q-u",
        "outputId": "6e0d3771-e72a-4818-dac1-3f43073ed781"
      },
      "execution_count": null,
      "outputs": [
        {
          "output_type": "execute_result",
          "data": {
            "text/plain": [
              "5.285714285714286"
            ]
          },
          "metadata": {},
          "execution_count": 7
        }
      ]
    },
    {
      "cell_type": "code",
      "source": [
        "np.mean(Under[\"ToDep\"])"
      ],
      "metadata": {
        "colab": {
          "base_uri": "https://localhost:8080/"
        },
        "id": "Xf3FIWO9-vPN",
        "outputId": "facb12c5-406b-4b63-9110-c07b9a31e6fe"
      },
      "execution_count": null,
      "outputs": [
        {
          "output_type": "execute_result",
          "data": {
            "text/plain": [
              "8.433198380566802"
            ]
          },
          "metadata": {},
          "execution_count": 8
        }
      ]
    },
    {
      "cell_type": "code",
      "source": [
        "np.std(Grad[\"ToDep\"])"
      ],
      "metadata": {
        "colab": {
          "base_uri": "https://localhost:8080/"
        },
        "id": "XeAfkXOFiZEH",
        "outputId": "f3b4a4f5-0481-43a7-cf70-325d9236738e"
      },
      "execution_count": null,
      "outputs": [
        {
          "output_type": "execute_result",
          "data": {
            "text/plain": [
              "3.587582514635688"
            ]
          },
          "metadata": {},
          "execution_count": 9
        }
      ]
    },
    {
      "cell_type": "code",
      "source": [
        "np.std(Under[\"ToDep\"])"
      ],
      "metadata": {
        "colab": {
          "base_uri": "https://localhost:8080/"
        },
        "id": "ZIMLOfdhiYEj",
        "outputId": "54374efc-4d91-41b5-c658-eeaaa46138ed"
      },
      "execution_count": null,
      "outputs": [
        {
          "output_type": "execute_result",
          "data": {
            "text/plain": [
              "4.966547107923175"
            ]
          },
          "metadata": {},
          "execution_count": 10
        }
      ]
    },
    {
      "cell_type": "code",
      "source": [
        "scipy.stats.ttest_ind(Grad[\"ToDep\"],Under[\"ToDep\"],equal_var=False)"
      ],
      "metadata": {
        "colab": {
          "base_uri": "https://localhost:8080/"
        },
        "id": "XCqm7_TYN761",
        "outputId": "0e90a7ad-f31c-4896-c21c-e2e4345360f9"
      },
      "execution_count": null,
      "outputs": [
        {
          "output_type": "execute_result",
          "data": {
            "text/plain": [
              "Ttest_indResult(statistic=-3.6494976679191113, pvalue=0.0011254856725920373)"
            ]
          },
          "metadata": {},
          "execution_count": 11
        }
      ]
    },
    {
      "cell_type": "code",
      "source": [
        "plt.boxplot([Under[\"ToDep\"],Grad[\"ToDep\"]],labels=[\"Undergrad\",\"Grad\"])\n",
        "plt.title(\"Box Plot of Total Depression Score\")"
      ],
      "metadata": {
        "colab": {
          "base_uri": "https://localhost:8080/",
          "height": 359
        },
        "id": "c2I7eyYUp4mo",
        "outputId": "6341eb51-ad26-4fb2-89f6-8985786aa3b7"
      },
      "execution_count": null,
      "outputs": [
        {
          "output_type": "stream",
          "name": "stderr",
          "text": [
            "/usr/local/lib/python3.7/dist-packages/matplotlib/cbook/__init__.py:1376: VisibleDeprecationWarning: Creating an ndarray from ragged nested sequences (which is a list-or-tuple of lists-or-tuples-or ndarrays with different lengths or shapes) is deprecated. If you meant to do this, you must specify 'dtype=object' when creating the ndarray.\n",
            "  X = np.atleast_1d(X.T if isinstance(X, np.ndarray) else np.asarray(X))\n"
          ]
        },
        {
          "output_type": "execute_result",
          "data": {
            "text/plain": [
              "Text(0.5, 1.0, 'Box Plot of Total Depression Score')"
            ]
          },
          "metadata": {},
          "execution_count": 12
        },
        {
          "output_type": "display_data",
          "data": {
            "text/plain": [
              "<Figure size 432x288 with 1 Axes>"
            ],
            "image/png": "[encoded data removed]"
          },
          "metadata": {
            "needs_background": "light"
          }
        }
      ]
    },
    {
      "cell_type": "code",
      "source": [
        "DataFrame.columns"
      ],
      "metadata": {
        "colab": {
          "base_uri": "https://localhost:8080/"
        },
        "id": "ts933-Kzq-nf",
        "outputId": "83e11bbf-5bd6-4633-fcaf-9c753b27465a"
      },
      "execution_count": null,
      "outputs": [
        {
          "output_type": "execute_result",
          "data": {
            "text/plain": [
              "Index(['inter_dom', 'Region', 'Gender', 'Academic', 'Age', 'Age_cate', 'Stay',\n",
              "       'Stay_Cate', 'Japanese', 'Japanese_cate', 'English', 'English_cate',\n",
              "       'Intimate', 'Religion', 'Suicide', 'Dep', 'DepType', 'ToDep', 'DepSev',\n",
              "       'ToSC', 'APD', 'AHome', 'APH', 'Afear', 'ACS', 'AGuilt', 'AMiscell',\n",
              "       'ToAS', 'Partner', 'Friends', 'Parents', 'Relative', 'Profess',\n",
              "       ' Phone', 'Doctor', 'Reli', 'Alone', 'Others', 'Internet', 'Partner_bi',\n",
              "       'Friends_bi', 'Parents_bi', 'Relative_bi', 'Professional_bi',\n",
              "       'Phone_bi', 'Doctor_bi', 'religion_bi', 'Alone_bi', 'Others_bi',\n",
              "       'Internet_bi'],\n",
              "      dtype='object')"
            ]
          },
          "metadata": {},
          "execution_count": 28
        }
      ]
    },
    {
      "cell_type": "code",
      "source": [
        "scipy.stats.ttest_ind(DataFrame[DataFrame[\"Internet_bi\"] == \"Yes\"][\"ToDep\"],DataFrame[DataFrame[\"Internet_bi\"] == \"No\"][\"ToDep\"],equal_var=1)\n",
        "scipy.stats.ttest_ind(DataFrame[DataFrame[\"Internet_bi\"] == \"Yes\"][\"ToDep\"],DataFrame[DataFrame[\"Internet_bi\"] == \"No\"][\"ToDep\"],equal_var=0) #Smaller?"
      ],
      "metadata": {
        "colab": {
          "base_uri": "https://localhost:8080/"
        },
        "id": "2o-wrNxCrBuO",
        "outputId": "52d6d673-70f7-4747-9e9c-04a2902aa521"
      },
      "execution_count": null,
      "outputs": [
        {
          "output_type": "execute_result",
          "data": {
            "text/plain": [
              "Ttest_indResult(statistic=1.74164238257996, pvalue=0.08272704268508277)"
            ]
          },
          "metadata": {},
          "execution_count": 41
        }
      ]
    },
    {
      "cell_type": "code",
      "source": [
        "print(np.std(DataFrame[DataFrame[\"Friends_bi\"] == \"Yes\"][\"ToDep\"]),np.std(DataFrame[DataFrame[\"Friends_bi\"] == \"No\"][\"ToDep\"]))"
      ],
      "metadata": {
        "colab": {
          "base_uri": "https://localhost:8080/"
        },
        "id": "hvGsdBQ3sXqJ",
        "outputId": "7327f052-e9dc-45a3-f2fc-3290b7a1c779"
      },
      "execution_count": null,
      "outputs": [
        {
          "output_type": "stream",
          "name": "stdout",
          "text": [
            "4.457365031870707 5.224251728472603\n"
          ]
        }
      ]
    },
    {
      "cell_type": "code",
      "source": [
        "print(np.mean(DataFrame[DataFrame[\"Gender\"] == \"Male\"][\"ToDep\"]),np.mean(DataFrame[DataFrame[\"Gender\"] == \"Female\"][\"ToDep\"]))"
      ],
      "metadata": {
        "colab": {
          "base_uri": "https://localhost:8080/"
        },
        "id": "hbiJWr_Psmja",
        "outputId": "9fea398c-f8d0-4d4a-8622-5db231894190"
      },
      "execution_count": null,
      "outputs": [
        {
          "output_type": "stream",
          "name": "stdout",
          "text": [
            "7.816326530612245 8.4\n"
          ]
        }
      ]
    },
    {
      "cell_type": "code",
      "source": [
        "plt.boxplot([DataFrame[DataFrame[\"English_cate\"] == \"High\"][\"ToDep\"],DataFrame[DataFrame[\"English_cate\"] == \"Low\"][\"ToDep\"]])"
      ],
      "metadata": {
        "colab": {
          "base_uri": "https://localhost:8080/",
          "height": 612
        },
        "id": "vwJSEk0lsugV",
        "outputId": "219c072c-4cc6-48e7-db7a-31228819fec7"
      },
      "execution_count": null,
      "outputs": [
        {
          "output_type": "stream",
          "name": "stderr",
          "text": [
            "/usr/local/lib/python3.7/dist-packages/matplotlib/cbook/__init__.py:1376: VisibleDeprecationWarning: Creating an ndarray from ragged nested sequences (which is a list-or-tuple of lists-or-tuples-or ndarrays with different lengths or shapes) is deprecated. If you meant to do this, you must specify 'dtype=object' when creating the ndarray.\n",
            "  X = np.atleast_1d(X.T if isinstance(X, np.ndarray) else np.asarray(X))\n"
          ]
        },
        {
          "output_type": "execute_result",
          "data": {
            "text/plain": [
              "{'boxes': [<matplotlib.lines.Line2D at 0x7f2803f6cb90>,\n",
              "  <matplotlib.lines.Line2D at 0x7f2803e97290>],\n",
              " 'caps': [<matplotlib.lines.Line2D at 0x7f2803ec0510>,\n",
              "  <matplotlib.lines.Line2D at 0x7f2803fd0ed0>,\n",
              "  <matplotlib.lines.Line2D at 0x7f2803f3fa50>,\n",
              "  <matplotlib.lines.Line2D at 0x7f2803e3d550>],\n",
              " 'fliers': [<matplotlib.lines.Line2D at 0x7f2803e6bc50>,\n",
              "  <matplotlib.lines.Line2D at 0x7f2803e44250>],\n",
              " 'means': [],\n",
              " 'medians': [<matplotlib.lines.Line2D at 0x7f2803e76250>,\n",
              "  <matplotlib.lines.Line2D at 0x7f2803e3d190>],\n",
              " 'whiskers': [<matplotlib.lines.Line2D at 0x7f2804057150>,\n",
              "  <matplotlib.lines.Line2D at 0x7f280626a350>,\n",
              "  <matplotlib.lines.Line2D at 0x7f2803ec4190>,\n",
              "  <matplotlib.lines.Line2D at 0x7f2804097290>]}"
            ]
          },
          "metadata": {},
          "execution_count": 66
        },
        {
          "output_type": "display_data",
          "data": {
            "text/plain": [
              "<Figure size 432x288 with 1 Axes>"
            ],
            "image/png": "[encoded data removed]"
          },
          "metadata": {
            "needs_background": "light"
          }
        }
      ]
    },
    {
      "cell_type": "code",
      "source": [
        "scipy.stats.ttest_ind(DataFrame[DataFrame[\"English_cate\"] == \"High\"][\"ToAS\"],DataFrame[DataFrame[\"English_cate\"] == \"Low\"][\"ToAS\"])"
      ],
      "metadata": {
        "colab": {
          "base_uri": "https://localhost:8080/"
        },
        "id": "zZuubwxxsJuX",
        "outputId": "2a8a6a96-e6d1-488d-bb14-62f4472de377"
      },
      "execution_count": null,
      "outputs": [
        {
          "output_type": "execute_result",
          "data": {
            "text/plain": [
              "Ttest_indResult(statistic=1.3583776554393088, pvalue=0.17598912821951992)"
            ]
          },
          "metadata": {},
          "execution_count": 71
        }
      ]
    },
    {
      "cell_type": "code",
      "source": [
        "scipy.stats.ttest_ind(DataFrame[DataFrame[\"Gender\"] == \"Male\"][\"ToAS\"],DataFrame[DataFrame[\"Gender\"] == \"Female\"][\"ToAS\"],equal_var=0)"
      ],
      "metadata": {
        "colab": {
          "base_uri": "https://localhost:8080/"
        },
        "id": "m2kR7meYtt4z",
        "outputId": "70e36c8c-47b4-432a-b9dc-f261abe7b4ef"
      },
      "execution_count": null,
      "outputs": [
        {
          "output_type": "execute_result",
          "data": {
            "text/plain": [
              "Ttest_indResult(statistic=-1.8707914723192378, pvalue=0.06274958281051941)"
            ]
          },
          "metadata": {},
          "execution_count": 70
        }
      ]
    },
    {
      "cell_type": "code",
      "source": [
        "DataFrame.Internet_bi.value_counts()"
      ],
      "metadata": {
        "colab": {
          "base_uri": "https://localhost:8080/"
        },
        "id": "tYxVG59OrIMo",
        "outputId": "acf98ca2-fdf1-4000-ce77-015e47fad29d"
      },
      "execution_count": null,
      "outputs": [
        {
          "output_type": "execute_result",
          "data": {
            "text/plain": [
              "No     223\n",
              "Yes     45\n",
              "45       2\n",
              "223      2\n",
              "Name: Internet_bi, dtype: int64"
            ]
          },
          "metadata": {},
          "execution_count": 34
        }
      ]
    },
    {
      "cell_type": "code",
      "source": [
        "plt.scatter(DataFrame[\"Stay\"],DataFrame[\"Afear\"],alpha=0.1)"
      ],
      "metadata": {
        "colab": {
          "base_uri": "https://localhost:8080/",
          "height": 284
        },
        "id": "deiKhBSh3SIz",
        "outputId": "ad8e97d4-c053-4bf3-fd25-0d3913bc2aeb"
      },
      "execution_count": null,
      "outputs": [
        {
          "output_type": "execute_result",
          "data": {
            "text/plain": [
              "<matplotlib.collections.PathCollection at 0x7f280983cfd0>"
            ]
          },
          "metadata": {},
          "execution_count": 20
        },
        {
          "output_type": "display_data",
          "data": {
            "text/plain": [
              "<Figure size 432x288 with 1 Axes>"
            ],
            "image/png": "[encoded data removed]"
          },
          "metadata": {
            "needs_background": "light"
          }
        }
      ]
    },
    {
      "cell_type": "code",
      "source": [
        "import math"
      ],
      "metadata": {
        "id": "2ZZyOzrs4dbS"
      },
      "execution_count": 11,
      "outputs": []
    },
    {
      "cell_type": "code",
      "source": [
        "df2 = DataFrame#[DataFrame[\"Stay\"]<=6]\n",
        "x = np.array([[value for value in df2[\"ToSC\"] if not math.isnan(value)]]).reshape(-1,1)\n",
        "y = [value for value in df2[\"ToDep\"] if not math.isnan(value)]\n",
        "\n",
        "from sklearn.linear_model import LinearRegression\n",
        "reg = LinearRegression().fit(x, y)\n",
        "\n",
        "xs = np.arange(0,50,0.2)\n",
        "plt.scatter(x, y,alpha=0.1)\n",
        "plt.plot(xs, xs*reg.coef_[0]+reg.intercept_)\n",
        "plt.title(\"Correlation Between Connectedness And Depression\")\n",
        "plt.xlabel(\"Total SCS\")\n",
        "plt.ylabel(\"Total PHQ-9\")"
      ],
      "metadata": {
        "colab": {
          "base_uri": "https://localhost:8080/",
          "height": 312
        },
        "id": "RLCKBXnM4ve7",
        "outputId": "03c4b0dd-7343-4134-82f3-3b5dc8aa6cfe"
      },
      "execution_count": 12,
      "outputs": [
        {
          "output_type": "execute_result",
          "data": {
            "text/plain": [
              "Text(0, 0.5, 'Total PHQ-9')"
            ]
          },
          "metadata": {},
          "execution_count": 12
        },
        {
          "output_type": "display_data",
          "data": {
            "text/plain": [
              "<Figure size 432x288 with 1 Axes>"
            ],
            "image/png": "[encoded data removed]"
          },
          "metadata": {
            "needs_background": "light"
          }
        }
      ]
    },
    {
      "cell_type": "code",
      "source": [
        "reg.coef_"
      ],
      "metadata": {
        "colab": {
          "base_uri": "https://localhost:8080/"
        },
        "id": "J6L3MVhv53zT",
        "outputId": "a00030bf-be91-445e-db58-e53fb179a04d"
      },
      "execution_count": null,
      "outputs": [
        {
          "output_type": "execute_result",
          "data": {
            "text/plain": [
              "array([-0.29607538])"
            ]
          },
          "metadata": {},
          "execution_count": 40
        }
      ]
    },
    {
      "cell_type": "code",
      "source": [
        "np.array(y).shape"
      ],
      "metadata": {
        "id": "iwAtLoLC_PZv",
        "colab": {
          "base_uri": "https://localhost:8080/"
        },
        "outputId": "f8d5039a-744a-414e-cff2-554c029bd7a2"
      },
      "execution_count": null,
      "outputs": [
        {
          "output_type": "execute_result",
          "data": {
            "text/plain": [
              "(268,)"
            ]
          },
          "metadata": {},
          "execution_count": 34
        }
      ]
    },
    {
      "cell_type": "code",
      "source": [
        "ret = scipy.stats.linregress(x.reshape(-1),np.array(y))#ereshape -1 bushi 1 -1 eixnchoahuangberen exinkoukeyahci bieren dianhuaynpi"
      ],
      "metadata": {
        "id": "tWm8sWbg-lje"
      },
      "execution_count": null,
      "outputs": []
    },
    {
      "cell_type": "code",
      "source": [
        "ret"
      ],
      "metadata": {
        "colab": {
          "base_uri": "https://localhost:8080/"
        },
        "id": "UHyMqwDHBck7",
        "outputId": "8f520d26-cbef-4fb6-ee9d-53c872c2b619"
      },
      "execution_count": null,
      "outputs": [
        {
          "output_type": "execute_result",
          "data": {
            "text/plain": [
              "LinregressResult(slope=-0.29607537941036544, intercept=19.28166057991903, rvalue=-0.5517952837096926, pvalue=9.354692175483886e-23, stderr=0.02743714490161841)"
            ]
          },
          "metadata": {},
          "execution_count": 73
        }
      ]
    },
    {
      "cell_type": "code",
      "source": [
        ""
      ],
      "metadata": {
        "id": "alHDtTBVBq6p"
      },
      "execution_count": null,
      "outputs": []
    },
    {
      "cell_type": "code",
      "source": [
        "slope,reg.coef_#koukequeshiyiyang"
      ],
      "metadata": {
        "id": "EucVC_NO-xU9"
      },
      "execution_count": null,
      "outputs": []
    },
    {
      "cell_type": "code",
      "source": [
        "std_err#yanpi zhege r buyiyang r ^2 yanpi "
      ],
      "metadata": {
        "colab": {
          "base_uri": "https://localhost:8080/",
          "height": 165
        },
        "id": "GMTWrhnO-5ED",
        "outputId": "909adc26-4110-434b-e61e-3a7d814d07c0"
      },
      "execution_count": null,
      "outputs": [
        {
          "output_type": "error",
          "ename": "NameError",
          "evalue": "ignored",
          "traceback": [
            "\u001b[0;31m---------------------------------------------------------------------------\u001b[0m",
            "\u001b[0;31mNameError\u001b[0m                                 Traceback (most recent call last)",
            "\u001b[0;32m<ipython-input-8-cd65c9291177>\u001b[0m in \u001b[0;36m<module>\u001b[0;34m()\u001b[0m\n\u001b[0;32m----> 1\u001b[0;31m \u001b[0mstd_err\u001b[0m\u001b[0;31m#yanpi zhege r buyiyang r ^2 yanpi\u001b[0m\u001b[0;34m\u001b[0m\u001b[0;34m\u001b[0m\u001b[0m\n\u001b[0m",
            "\u001b[0;31mNameError\u001b[0m: name 'std_err' is not defined"
          ]
        }
      ]
    },
    {
      "cell_type": "code",
      "source": [
        "DataFrame[\"Dep\"].value_counts()"
      ],
      "metadata": {
        "colab": {
          "base_uri": "https://localhost:8080/"
        },
        "id": "6l_scXRAbXV-",
        "outputId": "264f0ed0-5655-48c8-8d3f-f7de2e9de969"
      },
      "execution_count": null,
      "outputs": [
        {
          "output_type": "execute_result",
          "data": {
            "text/plain": [
              "No     172\n",
              "Yes     96\n",
              "96       1\n",
              "172      1\n",
              "Name: Dep, dtype: int64"
            ]
          },
          "metadata": {},
          "execution_count": 56
        }
      ]
    },
    {
      "cell_type": "code",
      "source": [
        "UnderOberseved = Under[\"Dep\"].value_counts()[\"Yes\"]\n",
        "GradOberseved = Grad[\"Dep\"].value_counts()[\"Yes\"]\n",
        "UnderExp = DataFrame[\"Dep\"].value_counts()[\"Yes\"]/len(DataFrame) * len(Under)\n",
        "GradExp = DataFrame[\"Dep\"].value_counts()[\"Yes\"]/len(DataFrame) * len(Grad)"
      ],
      "metadata": {
        "id": "8aItCAJHcm8d"
      },
      "execution_count": null,
      "outputs": []
    },
    {
      "cell_type": "code",
      "source": [
        "print(UnderOberseved,UnderExp)\n",
        "print(GradOberseved,GradExp)"
      ],
      "metadata": {
        "colab": {
          "base_uri": "https://localhost:8080/"
        },
        "id": "QeK6qCsRdDG0",
        "outputId": "e9c2e404-7119-4373-a646-76080a9e8d9c"
      },
      "execution_count": null,
      "outputs": [
        {
          "output_type": "stream",
          "name": "stdout",
          "text": [
            "91 82.9090909090909\n",
            "5 7.048951048951049\n"
          ]
        }
      ]
    },
    {
      "cell_type": "code",
      "source": [
        "scipy.stats.chisquare([UnderOberseved, GradOberseved],[UnderExp, GradExp])"
      ],
      "metadata": {
        "colab": {
          "base_uri": "https://localhost:8080/"
        },
        "id": "lJ-SzX8EdkD5",
        "outputId": "7a1c8d80-5173-490f-b902-303a760c4a1a"
      },
      "execution_count": null,
      "outputs": [
        {
          "output_type": "execute_result",
          "data": {
            "text/plain": [
              "Power_divergenceResult(statistic=1.2736769554395033, pvalue=0.2590780172847901)"
            ]
          },
          "metadata": {},
          "execution_count": 58
        }
      ]
    },
    {
      "cell_type": "code",
      "source": [
        "scipy.stats.mannwhitneyu(Under[\"ToDep\"],Grad[\"ToDep\"])"
      ],
      "metadata": {
        "colab": {
          "base_uri": "https://localhost:8080/"
        },
        "id": "UGV-9cxYgMxs",
        "outputId": "39bed51b-8b1e-42e0-e892-f8ac2c20bf7d"
      },
      "execution_count": null,
      "outputs": [
        {
          "output_type": "execute_result",
          "data": {
            "text/plain": [
              "MannwhitneyuResult(statistic=1607.5, pvalue=0.0018835062946156987)"
            ]
          },
          "metadata": {},
          "execution_count": 59
        }
      ]
    },
    {
      "cell_type": "code",
      "source": [
        "plt.hist(Under[\"ToDep\"],bins=np.arange(0,25))\n",
        "plt.title(\"Hist Of Undergrad Student\")\n",
        "plt.xlabel(\"PHQ-9 Score\")\n",
        "plt.ylabel(\"Number of People\")"
      ],
      "metadata": {
        "colab": {
          "base_uri": "https://localhost:8080/",
          "height": 312
        },
        "id": "kGwHJ4sAj4JE",
        "outputId": "d96e4010-f9ad-41a4-f15d-87dc384b86d3"
      },
      "execution_count": 18,
      "outputs": [
        {
          "output_type": "execute_result",
          "data": {
            "text/plain": [
              "Text(0, 0.5, 'Number of People')"
            ]
          },
          "metadata": {},
          "execution_count": 18
        },
        {
          "output_type": "display_data",
          "data": {
            "text/plain": [
              "<Figure size 432x288 with 1 Axes>"
            ],
            "image/png": "[encoded data removed]"
          },
          "metadata": {
            "needs_background": "light"
          }
        }
      ]
    },
    {
      "cell_type": "code",
      "source": [
        "plt.hist(Grad[\"ToDep\"],bins=np.arange(0,12))\n",
        "plt.title(\"Hist Of Grad Student\")\n",
        "plt.xlabel(\"PHQ-9 Score\")\n",
        "plt.ylabel(\"Number of People\")"
      ],
      "metadata": {
        "colab": {
          "base_uri": "https://localhost:8080/",
          "height": 312
        },
        "id": "dwhYxMepj7cb",
        "outputId": "ae0ea080-a167-4940-9537-36f6f4a5589f"
      },
      "execution_count": 19,
      "outputs": [
        {
          "output_type": "execute_result",
          "data": {
            "text/plain": [
              "Text(0, 0.5, 'Number of People')"
            ]
          },
          "metadata": {},
          "execution_count": 19
        },
        {
          "output_type": "display_data",
          "data": {
            "text/plain": [
              "<Figure size 432x288 with 1 Axes>"
            ],
            "image/png": "[encoded data removed]"
          },
          "metadata": {
            "needs_background": "light"
          }
        }
      ]
    },
    {
      "cell_type": "code",
      "source": [
        "scipy.stats.spearmanr(x,y,alternative=\"less\") #RESULT OF Spearman’s"
      ],
      "metadata": {
        "colab": {
          "base_uri": "https://localhost:8080/"
        },
        "id": "_EJdIZZjrJ2M",
        "outputId": "a3aa57c7-395c-4665-fae3-125a62ae505f"
      },
      "execution_count": 16,
      "outputs": [
        {
          "output_type": "execute_result",
          "data": {
            "text/plain": [
              "SpearmanrResult(correlation=-0.5127430741098925, pvalue=1.1332219248303366e-19)"
            ]
          },
          "metadata": {},
          "execution_count": 16
        }
      ]
    },
    {
      "cell_type": "code",
      "source": [
        "np.version.full_version # scipy evrsion"
      ],
      "metadata": {
        "colab": {
          "base_uri": "https://localhost:8080/",
          "height": 35
        },
        "id": "fuQPPKfwuwXt",
        "outputId": "36b986a4-5114-43b8-a070-245fd7223730"
      },
      "execution_count": 26,
      "outputs": [
        {
          "output_type": "execute_result",
          "data": {
            "text/plain": [
              "'1.21.6'"
            ],
            "application/vnd.google.colaboratory.intrinsic+json": {
              "type": "string"
            }
          },
          "metadata": {},
          "execution_count": 26
        }
      ]
    },
    {
      "cell_type": "code",
      "source": [
        "scipy.version.full_version"
      ],
      "metadata": {
        "colab": {
          "base_uri": "https://localhost:8080/",
          "height": 35
        },
        "id": "MWJeSpM5vvcl",
        "outputId": "4efc64de-f111-482c-c7e5-071d31ed74ab"
      },
      "execution_count": 8,
      "outputs": [
        {
          "output_type": "execute_result",
          "data": {
            "text/plain": [
              "'1.7.3'"
            ],
            "application/vnd.google.colaboratory.intrinsic+json": {
              "type": "string"
            }
          },
          "metadata": {},
          "execution_count": 8
        }
      ]
    }
  ]
}