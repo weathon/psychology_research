{
 "cells": [
  {
   "cell_type": "markdown",
   "id": "76b92252",
   "metadata": {},
   "source": [
    "## Get The Data"
   ]
  },
  {
   "cell_type": "code",
   "execution_count": 4,
   "id": "c4157996",
   "metadata": {},
   "outputs": [
    {
     "name": "stdout",
     "output_type": "stream",
     "text": [
      "--2022-04-25 19:57:15--  https://mdpi-res.com/d_attachment/data/data-04-00124/article_deploy/data-04-00124-s001.zip?version=1566351002\n",
      "Resolving mdpi-res.com (mdpi-res.com)... 104.26.14.90, 104.26.15.90, 172.67.68.164, ...\n",
      "Connecting to mdpi-res.com (mdpi-res.com)|104.26.14.90|:443... connected.\n",
      "HTTP request sent, awaiting response... 200 OK\n",
      "Length: 1134038 (1.1M) [application/zip]\n",
      "Saving to: ‘data-04-00124-s001.zip?version=1566351002’\n",
      "\n",
      "100%[======================================>] 1,134,038   --.-K/s   in 0.06s   \n",
      "\n",
      "2022-04-25 19:57:16 (17.1 MB/s) - ‘data-04-00124-s001.zip?version=1566351002’ saved [1134038/1134038]\n",
      "\n"
     ]
    }
   ],
   "source": [
    "!wget https://mdpi-res.com/d_attachment/data/data-04-00124/article_deploy/data-04-00124-s001.zip?version=1566351002"
   ]
  },
  {
   "cell_type": "code",
   "execution_count": 5,
   "id": "ee79a4b6",
   "metadata": {},
   "outputs": [
    {
     "name": "stdout",
     "output_type": "stream",
     "text": [
      "CMT\t data-04-00124-s001.zip?version=1566351002  kNN\r\n",
      "CMT.old  jupyter_env\t\t\t\t    Psychology Paper.ipynb\r\n",
      "data\t klnufywe\t\t\t\t    scratch\r\n"
     ]
    }
   ],
   "source": [
    "!ls"
   ]
  },
  {
   "cell_type": "code",
   "execution_count": 6,
   "id": "80d13598",
   "metadata": {},
   "outputs": [
    {
     "name": "stdout",
     "output_type": "stream",
     "text": [
      "Archive:  data.zip\r\n",
      "  inflating: data.csv                \r\n",
      "  inflating: Questionnaire1.pdf      \r\n",
      "  inflating: Questionnaire2.pdf      \r\n"
     ]
    }
   ],
   "source": [
    "!mv data-04-00124-s001.zip?version=1566351002 data.zip\n",
    "!unzip data.zip"
   ]
  },
  {
   "cell_type": "code",
   "execution_count": 8,
   "id": "99aa57c5",
   "metadata": {},
   "outputs": [
    {
     "name": "stdout",
     "output_type": "stream",
     "text": [
      "Collecting pandas\n",
      "  Downloading pandas-1.4.2-cp39-cp39-manylinux_2_17_x86_64.manylinux2014_x86_64.whl (11.7 MB)\n",
      "\u001b[K     |████████████████████████████████| 11.7 MB 4.6 MB/s eta 0:00:01\n",
      "\u001b[?25hRequirement already satisfied: pytz>=2020.1 in ./jupyter_env/lib/python3.9/site-packages (from pandas) (2021.3)\n",
      "Requirement already satisfied: python-dateutil>=2.8.1 in ./jupyter_env/lib/python3.9/site-packages (from pandas) (2.8.2)\n",
      "Collecting numpy>=1.18.5\n",
      "  Downloading numpy-1.22.3-cp39-cp39-manylinux_2_17_x86_64.manylinux2014_x86_64.whl (16.8 MB)\n",
      "\u001b[K     |████████████████████████████████| 16.8 MB 38.6 MB/s eta 0:00:01\n",
      "\u001b[?25hRequirement already satisfied: six>=1.5 in ./jupyter_env/lib/python3.9/site-packages (from python-dateutil>=2.8.1->pandas) (1.16.0)\n",
      "Installing collected packages: numpy, pandas\n",
      "Successfully installed numpy-1.22.3 pandas-1.4.2\n",
      "Requirement already satisfied: numpy in ./jupyter_env/lib/python3.9/site-packages (1.22.3)\n"
     ]
    }
   ],
   "source": [
    "!pip3 install pandas\n",
    "!pip3 install numpy"
   ]
  },
  {
   "cell_type": "code",
   "execution_count": 16,
   "id": "610694ad",
   "metadata": {},
   "outputs": [
    {
     "name": "stdout",
     "output_type": "stream",
     "text": [
      "Collecting matplotlib\n",
      "  Downloading matplotlib-3.5.1-cp39-cp39-manylinux_2_5_x86_64.manylinux1_x86_64.whl (11.2 MB)\n",
      "\u001b[K     |████████████████████████████████| 11.2 MB 3.9 MB/s eta 0:00:01\n",
      "\u001b[?25hCollecting pillow>=6.2.0\n",
      "  Downloading Pillow-9.1.0-cp39-cp39-manylinux_2_17_x86_64.manylinux2014_x86_64.whl (4.3 MB)\n",
      "\u001b[K     |████████████████████████████████| 4.3 MB 35.7 MB/s eta 0:00:01\n",
      "\u001b[?25hCollecting kiwisolver>=1.0.1\n",
      "  Downloading kiwisolver-1.4.2-cp39-cp39-manylinux_2_12_x86_64.manylinux2010_x86_64.whl (1.6 MB)\n",
      "\u001b[K     |████████████████████████████████| 1.6 MB 20.0 MB/s eta 0:00:01\n",
      "\u001b[?25hRequirement already satisfied: python-dateutil>=2.7 in ./jupyter_env/lib/python3.9/site-packages (from matplotlib) (2.8.2)\n",
      "Collecting fonttools>=4.22.0\n",
      "  Downloading fonttools-4.33.2-py3-none-any.whl (930 kB)\n",
      "\u001b[K     |████████████████████████████████| 930 kB 23.9 MB/s eta 0:00:01\n",
      "\u001b[?25hRequirement already satisfied: pyparsing>=2.2.1 in ./jupyter_env/lib/python3.9/site-packages (from matplotlib) (3.0.4)\n",
      "Requirement already satisfied: packaging>=20.0 in ./jupyter_env/lib/python3.9/site-packages (from matplotlib) (21.3)\n",
      "Collecting cycler>=0.10\n",
      "  Downloading cycler-0.11.0-py3-none-any.whl (6.4 kB)\n",
      "Requirement already satisfied: numpy>=1.17 in ./jupyter_env/lib/python3.9/site-packages (from matplotlib) (1.22.3)\n",
      "Requirement already satisfied: six>=1.5 in ./jupyter_env/lib/python3.9/site-packages (from python-dateutil>=2.7->matplotlib) (1.16.0)\n",
      "Installing collected packages: pillow, kiwisolver, fonttools, cycler, matplotlib\n",
      "Successfully installed cycler-0.11.0 fonttools-4.33.2 kiwisolver-1.4.2 matplotlib-3.5.1 pillow-9.1.0\n"
     ]
    }
   ],
   "source": [
    "!pip3 install -U matplotlib"
   ]
  },
  {
   "cell_type": "code",
   "execution_count": 5,
   "id": "f53d6057",
   "metadata": {},
   "outputs": [],
   "source": [
    "import pandas as pd\n",
    "import numpy as np\n",
    "import matplotlib.pyplot as plt"
   ]
  },
  {
   "cell_type": "code",
   "execution_count": 6,
   "id": "b4c28a69",
   "metadata": {},
   "outputs": [],
   "source": [
    "DataFrame = pd.read_csv(\"data.csv\")"
   ]
  },
  {
   "cell_type": "code",
   "execution_count": 12,
   "id": "380ce364",
   "metadata": {},
   "outputs": [
    {
     "data": {
      "text/plain": [
       "<matplotlib.collections.PathCollection at 0x2aaae42387c0>"
      ]
     },
     "execution_count": 12,
     "metadata": {},
     "output_type": "execute_result"
    },
    {
     "data": {
      "image/png": "[encoded data removed]",
      "text/plain": [
       "<Figure size 432x288 with 1 Axes>"
      ]
     },
     "metadata": {
      "needs_background": "light"
     },
     "output_type": "display_data"
    }
   ],
   "source": [
    "age = DataFrame[\"Age\"]\n",
    "ToDep = DataFrame[\"ToDep\"]\n",
    "plt.scatter(age, ToDep, alpha=0.2)"
   ]
  },
  {
   "cell_type": "code",
   "execution_count": 8,
   "id": "01132dfe",
   "metadata": {},
   "outputs": [
    {
     "data": {
      "text/plain": [
       "<matplotlib.collections.PathCollection at 0x2aaae4192340>"
      ]
     },
     "execution_count": 8,
     "metadata": {},
     "output_type": "execute_result"
    },
    {
     "data": {
      "image/png": "[encoded data removed]",
      "text/plain": [
       "<Figure size 432x288 with 1 Axes>"
      ]
     },
     "metadata": {
      "needs_background": "light"
     },
     "output_type": "display_data"
    }
   ],
   "source": [
    "age = DataFrame[\"Age\"]\n",
    "AHome = DataFrame[\"AHome\"]\n",
    "plt.scatter(age, AHome, alpha=0.2)"
   ]
  },
  {
   "cell_type": "code",
   "execution_count": 31,
   "id": "87d5e786",
   "metadata": {},
   "outputs": [],
   "source": [
    "age_ahome_list = np.array([0] * int(max(age)+1.5))\n",
    "age_count_list = np.array([0] * int(max(age)+1.5))"
   ]
  },
  {
   "cell_type": "code",
   "execution_count": 34,
   "id": "8d749c32",
   "metadata": {},
   "outputs": [],
   "source": [
    "for i in DataFrame.iterrows():\n",
    "#     print(i[1][\"Age\"])\n",
    "    try:\n",
    "        age_ahome_list[int(i[1][\"Age\"])] += i[1][\"AHome\"]\n",
    "#         age_count_list+=1\n",
    "        age_count_list[int(i[1][\"Age\"])]+=1\n",
    "\n",
    "    except:\n",
    "        pass"
   ]
  },
  {
   "cell_type": "code",
   "execution_count": 37,
   "id": "10462a2b",
   "metadata": {},
   "outputs": [
    {
     "data": {
      "text/plain": [
       "[<matplotlib.lines.Line2D at 0x2aaae446fa60>]"
      ]
     },
     "execution_count": 37,
     "metadata": {},
     "output_type": "execute_result"
    },
    {
     "data": {
      "image/png": "[encoded data removed]",
      "text/plain": [
       "<Figure size 432x288 with 1 Axes>"
      ]
     },
     "metadata": {
      "needs_background": "light"
     },
     "output_type": "display_data"
    }
   ],
   "source": [
    "plt.plot(age_ahome_list[15:]/age_count_list[15:])"
   ]
  },
  {
   "cell_type": "code",
   "execution_count": 38,
   "id": "6de32715",
   "metadata": {},
   "outputs": [
    {
     "data": {
      "text/plain": [
       "array([804, 804, 804, 804, 804, 804, 804, 804, 804, 804, 804, 804, 804,\n",
       "       804, 804, 804, 804, 804, 804, 804, 804, 804, 804, 804, 804, 804,\n",
       "       804, 804, 804, 804, 804, 804])"
      ]
     },
     "execution_count": 38,
     "metadata": {},
     "output_type": "execute_result"
    }
   ],
   "source": [
    "age_count_list"
   ]
  },
  {
   "cell_type": "markdown",
   "id": "696e3b0f",
   "metadata": {},
   "source": [
    "### Submit To GitHub"
   ]
  },
  {
   "cell_type": "code",
   "execution_count": 1,
   "id": "6a8daaf0",
   "metadata": {},
   "outputs": [
    {
     "name": "stdout",
     "output_type": "stream",
     "text": [
      "[master (root-commit) ba4d90c] Auto Commit\r\n",
      " 2 files changed, 566 insertions(+)\r\n",
      " create mode 100644 Psychology Paper.ipynb\r\n",
      " create mode 100644 data.csv\r\n"
     ]
    }
   ],
   "source": [
    "!git add .\n",
    "!git commit -m \"Auto Commit\""
   ]
  },
  {
   "cell_type": "code",
   "execution_count": null,
   "id": "e0064138",
   "metadata": {},
   "outputs": [],
   "source": []
  }
 ],
 "metadata": {
  "kernelspec": {
   "display_name": "Python 3 (ipykernel)",
   "language": "python",
   "name": "python3"
  },
  "language_info": {
   "codemirror_mode": {
    "name": "ipython",
    "version": 3
   },
   "file_extension": ".py",
   "mimetype": "text/x-python",
   "name": "python",
   "nbconvert_exporter": "python",
   "pygments_lexer": "ipython3",
   "version": "3.9.12"
  }
 },
 "nbformat": 4,
 "nbformat_minor": 5
}
